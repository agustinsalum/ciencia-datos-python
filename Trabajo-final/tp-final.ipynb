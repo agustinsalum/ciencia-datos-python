{
 "cells": [
  {
   "cell_type": "markdown",
   "metadata": {},
   "source": [
    "# TP FINAL"
   ]
  },
  {
   "cell_type": "markdown",
   "metadata": {},
   "source": [
    "**Ejercicio 1**\\\n",
    "Buscar un dataset (Que no sea los trabajados en clases)\n",
    "\n",
    "**Ejercicio 2**\\\n",
    "Realizar una introduccion al dataset de que se trata,definir sus variables (Diccionario de datos)\n",
    "\n",
    "**Ejercicio 3**\\\n",
    "Identificar el tipo de variable,decide justificando su respuesta.\n",
    "\n",
    "**Ejercicio 4**\\\n",
    "Detectar Valores Ausente  y Valores Atipicos .Decidir si eliminarlos y el por que de la eleccion.\n",
    "\n",
    "**Ejercicio 5**\\\n",
    "Realizar un analisis univariado y en base a esos graficos,sacar conclusiones.\n",
    "\n",
    "**Ejercicio 6**\\\n",
    "Realizar analisis de matriz corelacion y explicar que variable estan correlacionadas\\\n",
    "\n",
    "**Ejercicio 7**\\\n",
    "Sobre el Dataset Elegido  explique si se puede reducir las dimensiones  y que representa esas  nuevas variables."
   ]
  },
  {
   "cell_type": "markdown",
   "metadata": {},
   "source": [
    "## Ejercicio 1"
   ]
  },
  {
   "cell_type": "markdown",
   "metadata": {},
   "source": [
    "Elegi un dataset de partidas de ajedrez:\n",
    "\n",
    "https://www.kaggle.com/datasets/datasnaek/chess\n",
    "\n"
   ]
  },
  {
   "cell_type": "code",
   "execution_count": 1,
   "metadata": {},
   "outputs": [],
   "source": [
    "import pandas as pd\n",
    "import matplotlib.pyplot as plt"
   ]
  },
  {
   "cell_type": "code",
   "execution_count": 2,
   "metadata": {},
   "outputs": [],
   "source": [
    "url_ajedrez = \"csv/games.csv\"\n",
    "\n",
    "# Esto crea un dataframe con los datos del archivo csv\n",
    "ajedrez_df = pd.read_csv(url_ajedrez)\n"
   ]
  },
  {
   "cell_type": "code",
   "execution_count": 3,
   "metadata": {},
   "outputs": [
    {
     "name": "stdout",
     "output_type": "stream",
     "text": [
      "Head: \n"
     ]
    },
    {
     "data": {
      "text/html": [
       "<div>\n",
       "<style scoped>\n",
       "    .dataframe tbody tr th:only-of-type {\n",
       "        vertical-align: middle;\n",
       "    }\n",
       "\n",
       "    .dataframe tbody tr th {\n",
       "        vertical-align: top;\n",
       "    }\n",
       "\n",
       "    .dataframe thead th {\n",
       "        text-align: right;\n",
       "    }\n",
       "</style>\n",
       "<table border=\"1\" class=\"dataframe\">\n",
       "  <thead>\n",
       "    <tr style=\"text-align: right;\">\n",
       "      <th></th>\n",
       "      <th>id</th>\n",
       "      <th>rated</th>\n",
       "      <th>created_at</th>\n",
       "      <th>last_move_at</th>\n",
       "      <th>turns</th>\n",
       "      <th>victory_status</th>\n",
       "      <th>winner</th>\n",
       "      <th>increment_code</th>\n",
       "      <th>white_id</th>\n",
       "      <th>white_rating</th>\n",
       "      <th>black_id</th>\n",
       "      <th>black_rating</th>\n",
       "      <th>moves</th>\n",
       "      <th>opening_eco</th>\n",
       "      <th>opening_name</th>\n",
       "      <th>opening_ply</th>\n",
       "    </tr>\n",
       "  </thead>\n",
       "  <tbody>\n",
       "    <tr>\n",
       "      <th>0</th>\n",
       "      <td>TZJHLljE</td>\n",
       "      <td>False</td>\n",
       "      <td>1.504210e+12</td>\n",
       "      <td>1.504210e+12</td>\n",
       "      <td>13</td>\n",
       "      <td>outoftime</td>\n",
       "      <td>white</td>\n",
       "      <td>15+2</td>\n",
       "      <td>bourgris</td>\n",
       "      <td>1500</td>\n",
       "      <td>a-00</td>\n",
       "      <td>1191</td>\n",
       "      <td>d4 d5 c4 c6 cxd5 e6 dxe6 fxe6 Nf3 Bb4+ Nc3 Ba5...</td>\n",
       "      <td>D10</td>\n",
       "      <td>Slav Defense: Exchange Variation</td>\n",
       "      <td>5</td>\n",
       "    </tr>\n",
       "    <tr>\n",
       "      <th>1</th>\n",
       "      <td>l1NXvwaE</td>\n",
       "      <td>True</td>\n",
       "      <td>1.504130e+12</td>\n",
       "      <td>1.504130e+12</td>\n",
       "      <td>16</td>\n",
       "      <td>resign</td>\n",
       "      <td>black</td>\n",
       "      <td>5+10</td>\n",
       "      <td>a-00</td>\n",
       "      <td>1322</td>\n",
       "      <td>skinnerua</td>\n",
       "      <td>1261</td>\n",
       "      <td>d4 Nc6 e4 e5 f4 f6 dxe5 fxe5 fxe5 Nxe5 Qd4 Nc6...</td>\n",
       "      <td>B00</td>\n",
       "      <td>Nimzowitsch Defense: Kennedy Variation</td>\n",
       "      <td>4</td>\n",
       "    </tr>\n",
       "    <tr>\n",
       "      <th>2</th>\n",
       "      <td>mIICvQHh</td>\n",
       "      <td>True</td>\n",
       "      <td>1.504130e+12</td>\n",
       "      <td>1.504130e+12</td>\n",
       "      <td>61</td>\n",
       "      <td>mate</td>\n",
       "      <td>white</td>\n",
       "      <td>5+10</td>\n",
       "      <td>ischia</td>\n",
       "      <td>1496</td>\n",
       "      <td>a-00</td>\n",
       "      <td>1500</td>\n",
       "      <td>e4 e5 d3 d6 Be3 c6 Be2 b5 Nd2 a5 a4 c5 axb5 Nc...</td>\n",
       "      <td>C20</td>\n",
       "      <td>King's Pawn Game: Leonardis Variation</td>\n",
       "      <td>3</td>\n",
       "    </tr>\n",
       "    <tr>\n",
       "      <th>3</th>\n",
       "      <td>kWKvrqYL</td>\n",
       "      <td>True</td>\n",
       "      <td>1.504110e+12</td>\n",
       "      <td>1.504110e+12</td>\n",
       "      <td>61</td>\n",
       "      <td>mate</td>\n",
       "      <td>white</td>\n",
       "      <td>20+0</td>\n",
       "      <td>daniamurashov</td>\n",
       "      <td>1439</td>\n",
       "      <td>adivanov2009</td>\n",
       "      <td>1454</td>\n",
       "      <td>d4 d5 Nf3 Bf5 Nc3 Nf6 Bf4 Ng4 e3 Nc6 Be2 Qd7 O...</td>\n",
       "      <td>D02</td>\n",
       "      <td>Queen's Pawn Game: Zukertort Variation</td>\n",
       "      <td>3</td>\n",
       "    </tr>\n",
       "    <tr>\n",
       "      <th>4</th>\n",
       "      <td>9tXo1AUZ</td>\n",
       "      <td>True</td>\n",
       "      <td>1.504030e+12</td>\n",
       "      <td>1.504030e+12</td>\n",
       "      <td>95</td>\n",
       "      <td>mate</td>\n",
       "      <td>white</td>\n",
       "      <td>30+3</td>\n",
       "      <td>nik221107</td>\n",
       "      <td>1523</td>\n",
       "      <td>adivanov2009</td>\n",
       "      <td>1469</td>\n",
       "      <td>e4 e5 Nf3 d6 d4 Nc6 d5 Nb4 a3 Na6 Nc3 Be7 b4 N...</td>\n",
       "      <td>C41</td>\n",
       "      <td>Philidor Defense</td>\n",
       "      <td>5</td>\n",
       "    </tr>\n",
       "  </tbody>\n",
       "</table>\n",
       "</div>"
      ],
      "text/plain": [
       "         id  rated    created_at  last_move_at  turns victory_status winner  \\\n",
       "0  TZJHLljE  False  1.504210e+12  1.504210e+12     13      outoftime  white   \n",
       "1  l1NXvwaE   True  1.504130e+12  1.504130e+12     16         resign  black   \n",
       "2  mIICvQHh   True  1.504130e+12  1.504130e+12     61           mate  white   \n",
       "3  kWKvrqYL   True  1.504110e+12  1.504110e+12     61           mate  white   \n",
       "4  9tXo1AUZ   True  1.504030e+12  1.504030e+12     95           mate  white   \n",
       "\n",
       "  increment_code       white_id  white_rating      black_id  black_rating  \\\n",
       "0           15+2       bourgris          1500          a-00          1191   \n",
       "1           5+10           a-00          1322     skinnerua          1261   \n",
       "2           5+10         ischia          1496          a-00          1500   \n",
       "3           20+0  daniamurashov          1439  adivanov2009          1454   \n",
       "4           30+3      nik221107          1523  adivanov2009          1469   \n",
       "\n",
       "                                               moves opening_eco  \\\n",
       "0  d4 d5 c4 c6 cxd5 e6 dxe6 fxe6 Nf3 Bb4+ Nc3 Ba5...         D10   \n",
       "1  d4 Nc6 e4 e5 f4 f6 dxe5 fxe5 fxe5 Nxe5 Qd4 Nc6...         B00   \n",
       "2  e4 e5 d3 d6 Be3 c6 Be2 b5 Nd2 a5 a4 c5 axb5 Nc...         C20   \n",
       "3  d4 d5 Nf3 Bf5 Nc3 Nf6 Bf4 Ng4 e3 Nc6 Be2 Qd7 O...         D02   \n",
       "4  e4 e5 Nf3 d6 d4 Nc6 d5 Nb4 a3 Na6 Nc3 Be7 b4 N...         C41   \n",
       "\n",
       "                             opening_name  opening_ply  \n",
       "0        Slav Defense: Exchange Variation            5  \n",
       "1  Nimzowitsch Defense: Kennedy Variation            4  \n",
       "2   King's Pawn Game: Leonardis Variation            3  \n",
       "3  Queen's Pawn Game: Zukertort Variation            3  \n",
       "4                        Philidor Defense            5  "
      ]
     },
     "execution_count": 3,
     "metadata": {},
     "output_type": "execute_result"
    }
   ],
   "source": [
    "print (\"Head: \")\n",
    "ajedrez_df.head()"
   ]
  },
  {
   "cell_type": "code",
   "execution_count": 4,
   "metadata": {},
   "outputs": [
    {
     "name": "stdout",
     "output_type": "stream",
     "text": [
      "Shape: \n"
     ]
    },
    {
     "data": {
      "text/plain": [
       "(20058, 16)"
      ]
     },
     "execution_count": 4,
     "metadata": {},
     "output_type": "execute_result"
    }
   ],
   "source": [
    "print (\"Shape: \")\n",
    "# Filas x columnas\n",
    "ajedrez_df.shape"
   ]
  },
  {
   "cell_type": "code",
   "execution_count": 5,
   "metadata": {},
   "outputs": [
    {
     "name": "stdout",
     "output_type": "stream",
     "text": [
      "Info: \n",
      "<class 'pandas.core.frame.DataFrame'>\n",
      "RangeIndex: 20058 entries, 0 to 20057\n",
      "Data columns (total 16 columns):\n",
      " #   Column          Non-Null Count  Dtype  \n",
      "---  ------          --------------  -----  \n",
      " 0   id              20058 non-null  object \n",
      " 1   rated           20058 non-null  bool   \n",
      " 2   created_at      20058 non-null  float64\n",
      " 3   last_move_at    20058 non-null  float64\n",
      " 4   turns           20058 non-null  int64  \n",
      " 5   victory_status  20058 non-null  object \n",
      " 6   winner          20058 non-null  object \n",
      " 7   increment_code  20058 non-null  object \n",
      " 8   white_id        20058 non-null  object \n",
      " 9   white_rating    20058 non-null  int64  \n",
      " 10  black_id        20058 non-null  object \n",
      " 11  black_rating    20058 non-null  int64  \n",
      " 12  moves           20058 non-null  object \n",
      " 13  opening_eco     20058 non-null  object \n",
      " 14  opening_name    20058 non-null  object \n",
      " 15  opening_ply     20058 non-null  int64  \n",
      "dtypes: bool(1), float64(2), int64(4), object(9)\n",
      "memory usage: 2.3+ MB\n"
     ]
    }
   ],
   "source": [
    "print (\"Info: \")\n",
    "ajedrez_df.info()"
   ]
  },
  {
   "cell_type": "code",
   "execution_count": 6,
   "metadata": {},
   "outputs": [
    {
     "name": "stdout",
     "output_type": "stream",
     "text": [
      "Index(['id', 'rated', 'created_at', 'last_move_at', 'turns', 'victory_status',\n",
      "       'winner', 'increment_code', 'white_id', 'white_rating', 'black_id',\n",
      "       'black_rating', 'moves', 'opening_eco', 'opening_name', 'opening_ply'],\n",
      "      dtype='object')\n"
     ]
    }
   ],
   "source": [
    "print(ajedrez_df.columns)"
   ]
  },
  {
   "cell_type": "markdown",
   "metadata": {},
   "source": [
    "## Ejercicio 2"
   ]
  },
  {
   "cell_type": "markdown",
   "metadata": {},
   "source": [
    "Se trata de un conjunto de 20.058 juegos recopilados de una selección de usuarios en el sitio Lichess.org. Este conjunto contiene:\n",
    "\n",
    "* Game ID: Un identificador único\n",
    "* Rated (T/F): Un valor booleano que indica si la partida fue clasificada (rated) o no (unrated).\n",
    "* Start Time: La hora de inicio de la partida de ajedrez.\n",
    "* End Time: La hora en que la partida de ajedrez terminó.\n",
    "* Number of Turns: El número total de movimientos realizados durante la partida.\n",
    "* Game Status: El estado final de la partida, por ejemplo, \"Ganó Blancas\", \"Ganó Negras\", \"Empate\" u otro resultado.\n",
    "* Winner: Indica quién fue el ganador de la partida, ya sea \"Blancas\", \"Negras\" o \"Empate\".\n",
    "* Time Increment: El incremento de tiempo utilizado en la partida (si hay algún incremento).\n",
    "* White Player ID: El identificador único del jugador que jugó con las piezas blancas.\n",
    "* White Player Rating: La calificación o rating del jugador que jugó con las piezas blancas.\n",
    "* Black Player ID: El identificador único del jugador que jugó con las piezas negras.\n",
    "* Black Player Rating: La calificación o rating del jugador que jugó con las piezas negras.\n",
    "* All Moves in Standard Chess Notation: Una lista de todos los movimientos realizados durante la partida.\n",
    "* Opening Eco (Standardised Code for any given opening, list here): El código ECO\n",
    "* Opening Name: El nombre de la apertura de ajedrez utilizada en la partida.\n",
    "* Opening Ply (Number of moves in the opening phase): El número de movimientos realizados en la fase de apertura"
   ]
  },
  {
   "cell_type": "markdown",
   "metadata": {},
   "source": [
    "## Ejercicio 3"
   ]
  },
  {
   "cell_type": "markdown",
   "metadata": {},
   "source": [
    "* Game ID: Nominal. Es un identificador único para cada partida y no tiene un orden ni relación numérica.\n",
    "* Rated (T/F): Nominal. Representa valores verdaderos o falsos sin un orden específico.\n",
    "* Start Time: Continua. Las horas forman una escala continua y pueden tener valores en un rango amplio.\n",
    "* End Time: Continua. Similar a \"Start Time\", representa una escala continua de tiempo.\n",
    "* Number of Turns: Discreta. El número de movimientos es un valor discreto, no continuo.\n",
    "* Game Status: Nominal. Describe el estado final de la partida sin un orden específico.\n",
    "* Winner: Nominal. Indica quién ganó la partida, sin un orden particular.\n",
    "* Time Increment: Continua. Representa una medida de tiempo que puede variar en un rango continuo.\n",
    "* White Player ID: Nominal. Los identificadores de los jugadores son etiquetas únicas sin relación numérica.\n",
    "* White Player Rating: Ordinal. Las calificaciones de los jugadores tienen un orden, pero la diferencia entre las calificaciones puede no tener un significado constante.\n",
    "* Black Player ID: Nominal. Similar a \"White Player ID\", es un identificador único.\n",
    "* Black Player Rating: Ordinal. Al igual que \"White Player Rating\", las calificaciones de los jugadores tienen un orden pero las diferencias pueden variar.\n",
    "* All Moves in Standard Chess Notation: Nominal. Son etiquetas para los movimientos de la partida sin un orden específico.\n",
    "* Opening Eco (Standardised Code for any given opening, list here): Nominal. Los códigos ECO son etiquetas para las aperturas sin un orden particular.\n",
    "* Opening Name: Nominal. Nombres de aperturas sin orden ni relación numérica.\n",
    "* Opening Ply (Number of moves in the opening phase): Discreta. El número de movimientos en la apertura es un valor discreto."
   ]
  },
  {
   "cell_type": "markdown",
   "metadata": {},
   "source": [
    "Cualitativas:\n",
    "\n",
    "Nominales: 9 (categorias sin orden)\\\n",
    "Ordinales: 2 (categorias con orden)\n",
    "\n",
    "Cuantitativas:\n",
    "\n",
    "Discretas: 2 (valores enteros)\\\n",
    "Continuas: 3 (valores reales)"
   ]
  },
  {
   "cell_type": "markdown",
   "metadata": {},
   "source": [
    "## Ejercicio 4"
   ]
  },
  {
   "cell_type": "markdown",
   "metadata": {},
   "source": [
    "### Valores ausentes"
   ]
  },
  {
   "cell_type": "code",
   "execution_count": 7,
   "metadata": {},
   "outputs": [
    {
     "name": "stdout",
     "output_type": "stream",
     "text": [
      "Cantida de valores faltantes: \n"
     ]
    },
    {
     "data": {
      "text/plain": [
       "id                0\n",
       "rated             0\n",
       "created_at        0\n",
       "last_move_at      0\n",
       "turns             0\n",
       "victory_status    0\n",
       "winner            0\n",
       "increment_code    0\n",
       "white_id          0\n",
       "white_rating      0\n",
       "black_id          0\n",
       "black_rating      0\n",
       "moves             0\n",
       "opening_eco       0\n",
       "opening_name      0\n",
       "opening_ply       0\n",
       "dtype: int64"
      ]
     },
     "execution_count": 7,
     "metadata": {},
     "output_type": "execute_result"
    }
   ],
   "source": [
    "# Obtener el número de valores faltantes en cada columna\n",
    "print (\"Cantida de valores faltantes: \")\n",
    "ajedrez_df.isnull().sum()"
   ]
  },
  {
   "cell_type": "markdown",
   "metadata": {},
   "source": [
    "No existen valores ausentes"
   ]
  },
  {
   "cell_type": "markdown",
   "metadata": {},
   "source": [
    "### Valores atipicos"
   ]
  },
  {
   "cell_type": "code",
   "execution_count": 8,
   "metadata": {},
   "outputs": [
    {
     "data": {
      "image/png": "[encoded data removed]",
      "text/plain": [
       "<Figure size 800x600 with 1 Axes>"
      ]
     },
     "metadata": {},
     "output_type": "display_data"
    }
   ],
   "source": [
    "import matplotlib.pyplot as plt\n",
    "import seaborn as sns\n",
    "\n",
    "plt.figure(figsize=(8, 6))\n",
    "sns.boxplot(data=ajedrez_df, y='turns')\n",
    "plt.title('Box Plot de Valores Atípicos')\n",
    "plt.ylabel('Valor')\n",
    "plt.show()\n"
   ]
  },
  {
   "cell_type": "markdown",
   "metadata": {},
   "source": [
    "los valores atípicos aparecen como puntos fuera de los \"bigotes\" del box plot. En este caso, son los mayores a 150. Utilizaremos el método del Rango Intercuartílico (IQR) para identificar los qutliers y luego tomar una determinacion. "
   ]
  },
  {
   "cell_type": "code",
   "execution_count": 9,
   "metadata": {},
   "outputs": [
    {
     "data": {
      "text/html": [
       "<div>\n",
       "<style scoped>\n",
       "    .dataframe tbody tr th:only-of-type {\n",
       "        vertical-align: middle;\n",
       "    }\n",
       "\n",
       "    .dataframe tbody tr th {\n",
       "        vertical-align: top;\n",
       "    }\n",
       "\n",
       "    .dataframe thead th {\n",
       "        text-align: right;\n",
       "    }\n",
       "</style>\n",
       "<table border=\"1\" class=\"dataframe\">\n",
       "  <thead>\n",
       "    <tr style=\"text-align: right;\">\n",
       "      <th></th>\n",
       "      <th>id</th>\n",
       "      <th>rated</th>\n",
       "      <th>created_at</th>\n",
       "      <th>last_move_at</th>\n",
       "      <th>turns</th>\n",
       "      <th>victory_status</th>\n",
       "      <th>winner</th>\n",
       "      <th>increment_code</th>\n",
       "      <th>white_id</th>\n",
       "      <th>white_rating</th>\n",
       "      <th>black_id</th>\n",
       "      <th>black_rating</th>\n",
       "      <th>moves</th>\n",
       "      <th>opening_eco</th>\n",
       "      <th>opening_name</th>\n",
       "      <th>opening_ply</th>\n",
       "    </tr>\n",
       "  </thead>\n",
       "  <tbody>\n",
       "    <tr>\n",
       "      <th>148</th>\n",
       "      <td>JbLparSt</td>\n",
       "      <td>True</td>\n",
       "      <td>1.503060e+12</td>\n",
       "      <td>1.503060e+12</td>\n",
       "      <td>156</td>\n",
       "      <td>mate</td>\n",
       "      <td>black</td>\n",
       "      <td>15+15</td>\n",
       "      <td>sassou</td>\n",
       "      <td>1226</td>\n",
       "      <td>vladimir_shindin</td>\n",
       "      <td>1478</td>\n",
       "      <td>e4 e5 Nf3 Bb4 Nxe5 Qe7 Nd3 Qxe4+ Be2 Qxg2 Bf3 ...</td>\n",
       "      <td>C40</td>\n",
       "      <td>King's Knight Opening</td>\n",
       "      <td>3</td>\n",
       "    </tr>\n",
       "    <tr>\n",
       "      <th>176</th>\n",
       "      <td>fPPfEuu5</td>\n",
       "      <td>False</td>\n",
       "      <td>1.503090e+12</td>\n",
       "      <td>1.503090e+12</td>\n",
       "      <td>144</td>\n",
       "      <td>outoftime</td>\n",
       "      <td>draw</td>\n",
       "      <td>10+0</td>\n",
       "      <td>isachess</td>\n",
       "      <td>1866</td>\n",
       "      <td>teguhmaster</td>\n",
       "      <td>1843</td>\n",
       "      <td>e4 c5 Nf3 d6 g3 Nf6 d3 Nc6 Bg2 g6 O-O Bg7 Nc3 ...</td>\n",
       "      <td>B50</td>\n",
       "      <td>Sicilian Defense</td>\n",
       "      <td>4</td>\n",
       "    </tr>\n",
       "    <tr>\n",
       "      <th>180</th>\n",
       "      <td>46AuHfcq</td>\n",
       "      <td>True</td>\n",
       "      <td>1.501980e+12</td>\n",
       "      <td>1.501980e+12</td>\n",
       "      <td>158</td>\n",
       "      <td>mate</td>\n",
       "      <td>black</td>\n",
       "      <td>6+6</td>\n",
       "      <td>humb</td>\n",
       "      <td>1835</td>\n",
       "      <td>isachess</td>\n",
       "      <td>1865</td>\n",
       "      <td>d4 Nf6 Nf3 e6 c4 c5 e3 cxd4 exd4 d5 c5 Be7 Bb5...</td>\n",
       "      <td>E10</td>\n",
       "      <td>Blumenfeld Countergambit #2</td>\n",
       "      <td>6</td>\n",
       "    </tr>\n",
       "    <tr>\n",
       "      <th>190</th>\n",
       "      <td>OmwDxZpJ</td>\n",
       "      <td>True</td>\n",
       "      <td>1.501090e+12</td>\n",
       "      <td>1.501090e+12</td>\n",
       "      <td>178</td>\n",
       "      <td>mate</td>\n",
       "      <td>black</td>\n",
       "      <td>16+0</td>\n",
       "      <td>sergeylobanov</td>\n",
       "      <td>1843</td>\n",
       "      <td>isachess</td>\n",
       "      <td>1836</td>\n",
       "      <td>e4 c5 c3 Nc6 d4 cxd4 cxd4 d6 Bb5 a6 Bxc6+ bxc6...</td>\n",
       "      <td>B22</td>\n",
       "      <td>Sicilian Defense: Alapin Variation</td>\n",
       "      <td>3</td>\n",
       "    </tr>\n",
       "    <tr>\n",
       "      <th>213</th>\n",
       "      <td>mJ9VpdxV</td>\n",
       "      <td>True</td>\n",
       "      <td>1.503660e+12</td>\n",
       "      <td>1.503670e+12</td>\n",
       "      <td>159</td>\n",
       "      <td>mate</td>\n",
       "      <td>white</td>\n",
       "      <td>15+1</td>\n",
       "      <td>taranga</td>\n",
       "      <td>1280</td>\n",
       "      <td>moon50</td>\n",
       "      <td>1485</td>\n",
       "      <td>e4 e5 Nf3 Nc6 Bc4 h6 Nc3 Nf6 d3 d6 Be3 Be7 O-O...</td>\n",
       "      <td>C55</td>\n",
       "      <td>Italian Game: Anti-Fried Liver Defense</td>\n",
       "      <td>6</td>\n",
       "    </tr>\n",
       "    <tr>\n",
       "      <th>...</th>\n",
       "      <td>...</td>\n",
       "      <td>...</td>\n",
       "      <td>...</td>\n",
       "      <td>...</td>\n",
       "      <td>...</td>\n",
       "      <td>...</td>\n",
       "      <td>...</td>\n",
       "      <td>...</td>\n",
       "      <td>...</td>\n",
       "      <td>...</td>\n",
       "      <td>...</td>\n",
       "      <td>...</td>\n",
       "      <td>...</td>\n",
       "      <td>...</td>\n",
       "      <td>...</td>\n",
       "      <td>...</td>\n",
       "    </tr>\n",
       "    <tr>\n",
       "      <th>19842</th>\n",
       "      <td>gK3xiIiz</td>\n",
       "      <td>False</td>\n",
       "      <td>1.502037e+12</td>\n",
       "      <td>1.502038e+12</td>\n",
       "      <td>171</td>\n",
       "      <td>outoftime</td>\n",
       "      <td>white</td>\n",
       "      <td>10+0</td>\n",
       "      <td>vojne29</td>\n",
       "      <td>1500</td>\n",
       "      <td>zen3000</td>\n",
       "      <td>1500</td>\n",
       "      <td>e4 e5 Qh5 Nc6 Bc4 g6 Qf3 Nf6 d3 Nd4 Qd1 d5 Bb5...</td>\n",
       "      <td>C20</td>\n",
       "      <td>King's Pawn Game: Wayward Queen Attack</td>\n",
       "      <td>3</td>\n",
       "    </tr>\n",
       "    <tr>\n",
       "      <th>19882</th>\n",
       "      <td>iAYf1BKl</td>\n",
       "      <td>True</td>\n",
       "      <td>1.504036e+12</td>\n",
       "      <td>1.504037e+12</td>\n",
       "      <td>146</td>\n",
       "      <td>resign</td>\n",
       "      <td>black</td>\n",
       "      <td>10+0</td>\n",
       "      <td>anastasia2009</td>\n",
       "      <td>1557</td>\n",
       "      <td>damanca8</td>\n",
       "      <td>1496</td>\n",
       "      <td>e4 e5 Nf3 Nc6 d4 exd4 Nxd4 Nf6 Bd3 Nxd4 O-O d6...</td>\n",
       "      <td>C45</td>\n",
       "      <td>Scotch Game: Schmidt Variation</td>\n",
       "      <td>8</td>\n",
       "    </tr>\n",
       "    <tr>\n",
       "      <th>19893</th>\n",
       "      <td>MqXMaILz</td>\n",
       "      <td>True</td>\n",
       "      <td>1.503999e+12</td>\n",
       "      <td>1.504000e+12</td>\n",
       "      <td>156</td>\n",
       "      <td>mate</td>\n",
       "      <td>black</td>\n",
       "      <td>10+0</td>\n",
       "      <td>anastasia2009</td>\n",
       "      <td>1568</td>\n",
       "      <td>fntms</td>\n",
       "      <td>2067</td>\n",
       "      <td>e4 e5 Nf3 Nc6 d4 exd4 Nxd4 Nxd4 Qxd4 d6 Bc4 Nf...</td>\n",
       "      <td>C45</td>\n",
       "      <td>Scotch Game</td>\n",
       "      <td>7</td>\n",
       "    </tr>\n",
       "    <tr>\n",
       "      <th>19922</th>\n",
       "      <td>sZWZWLUP</td>\n",
       "      <td>True</td>\n",
       "      <td>1.502566e+12</td>\n",
       "      <td>1.502569e+12</td>\n",
       "      <td>159</td>\n",
       "      <td>mate</td>\n",
       "      <td>white</td>\n",
       "      <td>25+0</td>\n",
       "      <td>sirius_rus</td>\n",
       "      <td>1619</td>\n",
       "      <td>spiteknight</td>\n",
       "      <td>1662</td>\n",
       "      <td>e4 c5 Nf3 d6 Bb5+ Nd7 O-O Nf6 Re1 a6 Bf1 b5 a3...</td>\n",
       "      <td>B51</td>\n",
       "      <td>Sicilian Defense: Canal-Sokolsky Attack</td>\n",
       "      <td>5</td>\n",
       "    </tr>\n",
       "    <tr>\n",
       "      <th>19940</th>\n",
       "      <td>eUcF6dTf</td>\n",
       "      <td>True</td>\n",
       "      <td>1.499849e+12</td>\n",
       "      <td>1.499852e+12</td>\n",
       "      <td>171</td>\n",
       "      <td>mate</td>\n",
       "      <td>white</td>\n",
       "      <td>20+5</td>\n",
       "      <td>jimsheri2016</td>\n",
       "      <td>1547</td>\n",
       "      <td>spiteknight</td>\n",
       "      <td>1667</td>\n",
       "      <td>e4 c5 Nf3 d6 d4 cxd4 Nxd4 Nf6 Bd3 e5 Bb5+ Nbd7...</td>\n",
       "      <td>B57</td>\n",
       "      <td>Sicilian Defense: Modern Variations |  Main Line</td>\n",
       "      <td>8</td>\n",
       "    </tr>\n",
       "  </tbody>\n",
       "</table>\n",
       "<p>428 rows × 16 columns</p>\n",
       "</div>"
      ],
      "text/plain": [
       "             id  rated    created_at  last_move_at  turns victory_status  \\\n",
       "148    JbLparSt   True  1.503060e+12  1.503060e+12    156           mate   \n",
       "176    fPPfEuu5  False  1.503090e+12  1.503090e+12    144      outoftime   \n",
       "180    46AuHfcq   True  1.501980e+12  1.501980e+12    158           mate   \n",
       "190    OmwDxZpJ   True  1.501090e+12  1.501090e+12    178           mate   \n",
       "213    mJ9VpdxV   True  1.503660e+12  1.503670e+12    159           mate   \n",
       "...         ...    ...           ...           ...    ...            ...   \n",
       "19842  gK3xiIiz  False  1.502037e+12  1.502038e+12    171      outoftime   \n",
       "19882  iAYf1BKl   True  1.504036e+12  1.504037e+12    146         resign   \n",
       "19893  MqXMaILz   True  1.503999e+12  1.504000e+12    156           mate   \n",
       "19922  sZWZWLUP   True  1.502566e+12  1.502569e+12    159           mate   \n",
       "19940  eUcF6dTf   True  1.499849e+12  1.499852e+12    171           mate   \n",
       "\n",
       "      winner increment_code       white_id  white_rating          black_id  \\\n",
       "148    black          15+15         sassou          1226  vladimir_shindin   \n",
       "176     draw           10+0       isachess          1866       teguhmaster   \n",
       "180    black            6+6           humb          1835          isachess   \n",
       "190    black           16+0  sergeylobanov          1843          isachess   \n",
       "213    white           15+1        taranga          1280            moon50   \n",
       "...      ...            ...            ...           ...               ...   \n",
       "19842  white           10+0        vojne29          1500           zen3000   \n",
       "19882  black           10+0  anastasia2009          1557          damanca8   \n",
       "19893  black           10+0  anastasia2009          1568             fntms   \n",
       "19922  white           25+0     sirius_rus          1619       spiteknight   \n",
       "19940  white           20+5   jimsheri2016          1547       spiteknight   \n",
       "\n",
       "       black_rating                                              moves  \\\n",
       "148            1478  e4 e5 Nf3 Bb4 Nxe5 Qe7 Nd3 Qxe4+ Be2 Qxg2 Bf3 ...   \n",
       "176            1843  e4 c5 Nf3 d6 g3 Nf6 d3 Nc6 Bg2 g6 O-O Bg7 Nc3 ...   \n",
       "180            1865  d4 Nf6 Nf3 e6 c4 c5 e3 cxd4 exd4 d5 c5 Be7 Bb5...   \n",
       "190            1836  e4 c5 c3 Nc6 d4 cxd4 cxd4 d6 Bb5 a6 Bxc6+ bxc6...   \n",
       "213            1485  e4 e5 Nf3 Nc6 Bc4 h6 Nc3 Nf6 d3 d6 Be3 Be7 O-O...   \n",
       "...             ...                                                ...   \n",
       "19842          1500  e4 e5 Qh5 Nc6 Bc4 g6 Qf3 Nf6 d3 Nd4 Qd1 d5 Bb5...   \n",
       "19882          1496  e4 e5 Nf3 Nc6 d4 exd4 Nxd4 Nf6 Bd3 Nxd4 O-O d6...   \n",
       "19893          2067  e4 e5 Nf3 Nc6 d4 exd4 Nxd4 Nxd4 Qxd4 d6 Bc4 Nf...   \n",
       "19922          1662  e4 c5 Nf3 d6 Bb5+ Nd7 O-O Nf6 Re1 a6 Bf1 b5 a3...   \n",
       "19940          1667  e4 c5 Nf3 d6 d4 cxd4 Nxd4 Nf6 Bd3 e5 Bb5+ Nbd7...   \n",
       "\n",
       "      opening_eco                                      opening_name  \\\n",
       "148           C40                             King's Knight Opening   \n",
       "176           B50                                  Sicilian Defense   \n",
       "180           E10                       Blumenfeld Countergambit #2   \n",
       "190           B22                Sicilian Defense: Alapin Variation   \n",
       "213           C55            Italian Game: Anti-Fried Liver Defense   \n",
       "...           ...                                               ...   \n",
       "19842         C20            King's Pawn Game: Wayward Queen Attack   \n",
       "19882         C45                    Scotch Game: Schmidt Variation   \n",
       "19893         C45                                       Scotch Game   \n",
       "19922         B51           Sicilian Defense: Canal-Sokolsky Attack   \n",
       "19940         B57  Sicilian Defense: Modern Variations |  Main Line   \n",
       "\n",
       "       opening_ply  \n",
       "148              3  \n",
       "176              4  \n",
       "180              6  \n",
       "190              3  \n",
       "213              6  \n",
       "...            ...  \n",
       "19842            3  \n",
       "19882            8  \n",
       "19893            7  \n",
       "19922            5  \n",
       "19940            8  \n",
       "\n",
       "[428 rows x 16 columns]"
      ]
     },
     "execution_count": 9,
     "metadata": {},
     "output_type": "execute_result"
    }
   ],
   "source": [
    "# Calcular Q1 y Q3 el cual divide los datos en cuatro partes iguales\n",
    "Q1 = ajedrez_df['turns'].quantile(0.25)\n",
    "Q3 = ajedrez_df['turns'].quantile(0.75)\n",
    "\n",
    "# Calcular IQR el cual representa el rango en el que se espera que la mayoría de los datos caigan\n",
    "IQR = Q3 - Q1\n",
    "\n",
    "# Definir límites. Se utiliza el factor 1.5 multiplicado por el IQR para definir estos límites\n",
    "lower_limit = Q1 - 1.5 * IQR\n",
    "upper_limit = Q3 + 1.5 * IQR\n",
    "\n",
    "# Guardamos e Identificamos los valores atípicos que están por debajo del límite inferior o por encima del límite superior\n",
    "outliers = ajedrez_df[(ajedrez_df['turns'] < lower_limit) | (ajedrez_df['turns'] > upper_limit)]\n",
    "\n",
    "outliers"
   ]
  },
  {
   "cell_type": "markdown",
   "metadata": {},
   "source": [
    "Se encontraron 119 valores atipicos. Podrian eliminarse para mejorar la calidad del análisis y tener una interpretacion mas clara. Ademas de la eliminacion, existen las siguientes alternativas con sus propias ventajas y desventajas:\n",
    "\n",
    "- Capping (Acotar): Puedes acotar los valores atípicos estableciendo un límite superior e inferior. Esto implica asignar los valores atípicos por encima o por debajo de esos límites a los valores más cercanos dentro del rango válido. Por ejemplo, si el valor máximo esperado es 350, podrías acotar todos los valores mayores a 350 a 350.\n",
    "\n",
    "- Transformación: Puedes aplicar transformaciones matemáticas a los valores atípicos para reducir su impacto. Por ejemplo, podrías aplicar una transformación logarítmica a los valores antes de realizar análisis estadísticos.\n"
   ]
  },
  {
   "cell_type": "markdown",
   "metadata": {},
   "source": [
    "Considerando los posibles inconvenientes como la perdida de informacion o tener un impacto en la representabilidad no realizaremos ninguna accion."
   ]
  },
  {
   "cell_type": "markdown",
   "metadata": {},
   "source": [
    "## Ejercicio 5"
   ]
  },
  {
   "cell_type": "markdown",
   "metadata": {},
   "source": [
    "Calculamos las estadísticas descriptivas básicas de una variable. Por ejemplo:\n",
    "\n",
    "- La media\n",
    "- La mediana\n",
    "- La desviación estándar\n",
    "- El rango\n",
    "- Los percentiles\n",
    "\n",
    "También se utilizaran gráficos y visualizaciones para representar la distribución de la variable, como histogramas, gráficos de barras, gráficos de pastel y diagramas de caja (box plots)."
   ]
  },
  {
   "cell_type": "markdown",
   "metadata": {},
   "source": [
    "### Cantidad de turnos (turns)"
   ]
  },
  {
   "cell_type": "markdown",
   "metadata": {},
   "source": [
    "En este caso se utilizara el database sin outliers"
   ]
  },
  {
   "cell_type": "code",
   "execution_count": 10,
   "metadata": {},
   "outputs": [
    {
     "name": "stdout",
     "output_type": "stream",
     "text": [
      "60.46599860404826\n",
      "55.0\n",
      "33.570584753537126\n",
      "348\n",
      "0.25    37.0\n",
      "0.50    55.0\n",
      "0.75    79.0\n",
      "Name: turns, dtype: float64\n"
     ]
    }
   ],
   "source": [
    "# Media\n",
    "print (ajedrez_df['turns'].mean())\n",
    "\n",
    "# Mediana (en pandas, el método median() ya ordena internamente los valores antes de calcular la mediana)\n",
    "print (ajedrez_df['turns'].median())\n",
    "\n",
    "# Desviación estándar\n",
    "print (ajedrez_df['turns'].std())\n",
    "\n",
    "# Rango\n",
    "print (ajedrez_df['turns'].max() - ajedrez_df['turns'].min())\n",
    "\n",
    "# Percentiles (25%, 50%, 75%)\n",
    "print (ajedrez_df['turns'].quantile([0.25, 0.50, 0.75]))"
   ]
  },
  {
   "cell_type": "markdown",
   "metadata": {},
   "source": [
    "Conclusiones:\n",
    "\n",
    "- Media y Mediana: La media es aproximadamente 58.25, mientras que la mediana es 54. Esto sugiere que la distribución puede estar ligeramente sesgada hacia la derecha, ya que la media es ligeramente mayor que la mediana. En general, esto indica que la mayoría de las partidas tienen un número de turnos cercano a la mediana, pero hay algunas partidas con un número relativamente alto de turnos que están influyendo en la media.\n",
    "\n",
    "- Desviación Estándar: La desviación estándar es 30.19. Esto indica que los valores del número de turnos pueden variar significativamente alrededor de la media. La distribución es relativamente dispersa en relación con la media.\n",
    "\n",
    "- Rango: El rango es 141, lo que significa que hay una diferencia de 141 turnos entre el valor máximo y el valor mínimo. Esto resalta la variabilidad en el número de turnos entre las partidas.\n",
    "\n",
    "- Percentiles: Los percentiles dan una idea de cómo se distribuyen los valores en diferentes rangos. El primer cuartil (25%) está en 37, lo que sugiere que al menos el 25% de las partidas tienen 37 turnos o menos. La mediana (50%) está en 54, lo que significa que el 50% de las partidas tienen 54 turnos o menos. El tercer cuartil (75%) está en 77, lo que implica que al menos el 25% de las partidas tienen 77 turnos o más."
   ]
  },
  {
   "cell_type": "markdown",
   "metadata": {},
   "source": [
    "### Color ganador (winner)"
   ]
  },
  {
   "cell_type": "code",
   "execution_count": 12,
   "metadata": {},
   "outputs": [
    {
     "data": {
      "image/png": "[encoded data removed]",
      "text/plain": [
       "<Figure size 800x600 with 1 Axes>"
      ]
     },
     "metadata": {},
     "output_type": "display_data"
    }
   ],
   "source": [
    "import matplotlib.pyplot as plt\n",
    "import seaborn as sns\n",
    "\n",
    "# Crear el gráfico de barras\n",
    "plt.figure(figsize=(8, 6))\n",
    "sns.countplot(data=ajedrez_df, x='winner')\n",
    "\n",
    "# Configurar el gráfico\n",
    "plt.title('Cantidad de Partidas Ganadas por Color')\n",
    "plt.xlabel('Color Ganador')\n",
    "plt.ylabel('Cantidad de Partidas')\n",
    "plt.show()\n"
   ]
  },
  {
   "cell_type": "markdown",
   "metadata": {},
   "source": [
    "El color blanco ganó alrededor de 10000 partidas y el color negro 9000. La cantidad de victorias es bastante equilibrada, con una ligera ventaja para las blancas. El número de partidas que terminaron en empate fue menor a 2,000, lo que significa que la proporción de empates en comparación con las victorias es significativamente menor, lo que indica que las partidas de ajedrez tienden a tener un ganador definitivo en lugar de terminar en empate."
   ]
  },
  {
   "cell_type": "markdown",
   "metadata": {},
   "source": [
    "### Tipo de victoria (victory_status)"
   ]
  },
  {
   "cell_type": "code",
   "execution_count": 13,
   "metadata": {},
   "outputs": [
    {
     "data": {
      "image/png": "[encoded data removed]",
      "text/plain": [
       "<Figure size 800x600 with 1 Axes>"
      ]
     },
     "metadata": {},
     "output_type": "display_data"
    }
   ],
   "source": [
    "# Supongamos que ajedrez_df es tu DataFrame\n",
    "\n",
    "# Contar la cantidad de cada categoría en la variable \"victory_status\"\n",
    "victory_counts = ajedrez_df['victory_status'].value_counts()\n",
    "\n",
    "# Crear un gráfico de torta\n",
    "plt.figure(figsize=(8, 6))\n",
    "plt.pie(victory_counts, labels=victory_counts.index, autopct='%1.1f%%', startangle=140)\n",
    "plt.title('Distribución de victorias')\n",
    "plt.show()"
   ]
  },
  {
   "cell_type": "markdown",
   "metadata": {},
   "source": [
    "Los resultados \"Resign\" y \"Mate\" son los resultados predominantes. Los empates y fuera de tiempo son menos frecuentes, aunque representan una parte significativa de las partidas."
   ]
  },
  {
   "cell_type": "code",
   "execution_count": 14,
   "metadata": {},
   "outputs": [
    {
     "data": {
      "image/png": "[encoded data removed]",
      "text/plain": [
       "<Figure size 800x600 with 1 Axes>"
      ]
     },
     "metadata": {},
     "output_type": "display_data"
    }
   ],
   "source": [
    "import matplotlib.pyplot as plt\n",
    "\n",
    "# Supongamos que ajedrez_df es tu DataFrame\n",
    "\n",
    "# Crear un histograma de la diferencia de puntaje de Elo\n",
    "plt.figure(figsize=(8, 6))\n",
    "plt.hist(ajedrez_df['white_rating'] - ajedrez_df['black_rating'], bins=20, edgecolor='black')\n",
    "plt.title('Histograma de Diferencia de Puntaje de Elo')\n",
    "plt.xlabel('Diferencia de Puntaje de Elo')\n",
    "plt.ylabel('Frecuencia')\n",
    "plt.show()\n",
    "\n"
   ]
  },
  {
   "cell_type": "markdown",
   "metadata": {},
   "source": [
    " La diferencia resultante puede proporcionar información sobre la \"desigualdad\" percibida en términos de habilidad entre los dos jugadores en una partida de ajedrez.\n",
    " Una diferencia de puntaje de Elo de 0 significa que los dos jugadores tienen habilidades aproximadamente iguales. Si la diferencia de puntaje de Elo es positiva, significa que el jugador con piezas blancas se considera más hábil que su oponente. En cambio, si el resultado es negativo, entonces el jugador con piezas negras es mas habilidoso.\n",
    "\n",
    " - Las diferencias de puntaje de Elo cercanas a 0 indican que estas partidas podrían ser más equilibradas en términos de habilidad, lo que podría llevar a resultados más inciertos y competitivos.\n",
    "\n",
    " - Las diferencias de puntaje de Elo más grandes (positivas o negativas) podrían representar partidas donde un jugador claramente tiene una ventaja sobre el otro en términos de habilidad."
   ]
  },
  {
   "cell_type": "markdown",
   "metadata": {},
   "source": [
    "## Ejercicio 6"
   ]
  },
  {
   "cell_type": "markdown",
   "metadata": {},
   "source": [
    "Las variables más correlacionadas son aquellas que en el mapa de calor están más cerca del color rojo intenso (valores cercanos a 1) o azul intenso (valores cercanos a -1). Estos valores indican una correlación fuerte y significativa entre las variables.\n",
    "\n",
    "- Rojo Intenso: Indica una correlación positiva fuerte entre las variables. Cuando dos variables están altamente correlacionadas en sentido positivo, significa que tienden a moverse en la misma dirección. Si una variable aumenta, es probable que la otra también lo haga.\n",
    "\n",
    "- Azul Intenso: Indica una correlación negativa fuerte entre las variables. Cuando dos variables están altamente correlacionadas en sentido negativo, significa que tienden a moverse en direcciones opuestas. Si una variable aumenta, es probable que la otra disminuya.\n",
    "\n"
   ]
  },
  {
   "cell_type": "code",
   "execution_count": 15,
   "metadata": {},
   "outputs": [],
   "source": [
    "import numpy as np"
   ]
  },
  {
   "cell_type": "code",
   "execution_count": 16,
   "metadata": {},
   "outputs": [
    {
     "name": "stdout",
     "output_type": "stream",
     "text": [
      "              white_rating  black_rating  turns  opening_ply\n",
      "white_rating          1.00          0.63   0.13         0.28\n",
      "black_rating          0.63          1.00   0.16         0.26\n",
      "turns                 0.13          0.16   1.00         0.06\n",
      "opening_ply           0.28          0.26   0.06         1.00\n",
      "[[8.482853e+04 5.375565e+04 1.268660e+03 2.259700e+02]\n",
      " [5.375565e+04 8.470203e+04 1.567800e+03 2.079100e+02]\n",
      " [1.268660e+03 1.567800e+03 1.126980e+03 5.260000e+00]\n",
      " [2.259700e+02 2.079100e+02 5.260000e+00 7.820000e+00]]\n"
     ]
    }
   ],
   "source": [
    "# Columnas discretas y continuas\n",
    "columnas_numericas = ['white_rating', 'black_rating', 'turns', 'opening_ply']\n",
    "\n",
    "# Crear una submuestra con las columnas numéricas\n",
    "sub_df = ajedrez_df[columnas_numericas]\n",
    "correlacion = np.round(sub_df.corr(), 2)\n",
    "print(correlacion)\n",
    "print(np.round(np.cov(sub_df, rowvar=False), 2))  # Covarianza"
   ]
  },
  {
   "cell_type": "code",
   "execution_count": 18,
   "metadata": {},
   "outputs": [
    {
     "data": {
      "image/png": "[encoded data removed]",
      "text/plain": [
       "<Figure size 640x480 with 2 Axes>"
      ]
     },
     "metadata": {},
     "output_type": "display_data"
    }
   ],
   "source": [
    "# Graficamos los datos de correlaciones en un mapa de calor\n",
    "sns.heatmap(correlacion, annot=True, cmap='coolwarm')\n",
    "plt.show()"
   ]
  },
  {
   "cell_type": "markdown",
   "metadata": {},
   "source": [
    "Dado que los valores de correlación están en el rango de 0 a 1, no es posible tener una correlación fuerte negativa. Entonces, las correlaciones positivas se podrian interpretar como:\n",
    "\n",
    "- Correlación Débil Positiva: |r| < 0.3\n",
    "- Correlación Moderada Positiva: 0.3 ≤ |r| < 0.7\n",
    "- Correlación Fuerte Positiva: |r| ≥ 0.7\n",
    "\n",
    "Tampoco existen correlaciones fuertes positivas, lo cual debemos considerar Correlaciones moderadas y debiles:\n",
    "\n",
    "* Una correlación de 0.63 entre black_rating y white_rating indica una correlación positiva moderada entre los puntajes de Elo de los jugadores negros y blancos en las partidas de ajedrez. Esto indica que cuando los puntajes de Elo de los jugadores blancos aumentan, es probable que los puntajes de Elo de los jugadores negros también aumenten en la misma dirección. Esto sugiere que hay una tendencia general en la que los jugadores de ambos colores tienen puntajes de Elo más altos en las mismas partidas.\n",
    "\n",
    "* Una correlación de 0.06 entre turns y opening_ply indica una correlación positiva muy tenue y poco consistente por estar muy cercano a 0. A medida que el número de turnos en una partida aumenta, podría haber un ligero incremento en la cantidad de movimientos en la apertura, y viceversa. Sin embargo, la relación es tan pequeña que no es lo suficientemente fuerte como para hacer predicciones sólidas basadas solo en esta correlación."
   ]
  },
  {
   "cell_type": "markdown",
   "metadata": {},
   "source": [
    "## Ejercicio 7"
   ]
  },
  {
   "cell_type": "markdown",
   "metadata": {},
   "source": [
    "Reducir las dimensiones de un dataset generalmente se refiere a aplicar técnicas de reducción de dimensionalidad para representar los datos en un espacio de menor dimensión mientras se intenta retener la mayor cantidad posible de información importante. Uno de los métodos de reducción de dimensionalidad más comunes es el Análisis de Componentes Principales (PCA), es una técnica de reducción de la dimensión lineal. Esta basado en la proyección que suele utilizarse para reducir la dimensionalidad de grandes conjuntos de datos, transformando un gran conjunto de variables en otro más pequeño que siga conteniendo la mayor parte de la información del conjunto grande. Busca crear nuevas variables (llamadas componentes principales) que sean combinaciones lineales de las variables originales. Estos componentes principales capturan la mayor parte de la varianza en los datos, lo que puede permitir representar los datos en un espacio de menor dimensión. La confusión a menudo proviene de la palabra \"reducir\", que puede interpretarse erróneamente como eliminar.  Sin embargo, en PCA, no se eliminan las variables originales del dataset, sino que se transforman para formar las nuevas variables (componentes principales). "
   ]
  },
  {
   "cell_type": "markdown",
   "metadata": {},
   "source": [
    "Se puede crear nuevas variables y reducir la dimensionalidad, para que se capturen características importantes de las partidas. Por ejemplo, se podria crear nuevas variables como:\n",
    "\n",
    "- Diferencia de Puntaje de Elo: Crear una variable que represente la diferencia absoluta entre los puntajes de Elo de los jugadores blancos y negros en cada partida.\n",
    "\n",
    "- Promedio de Puntaje de Elo: Calcular el promedio de los puntajes de Elo de los jugadores blancos y negros en cada partida y crear una nueva variable.\n",
    "\n",
    "- Duración Relativa: Dividir la duración de la partida (turns) por la cantidad de movimientos en la apertura (opening_ply) para obtener una medida de cuántos movimientos se hacen por turno en promedio.\n",
    "\n",
    "- Resultados de la Partida: Codificar los resultados de las partidas (ganado por blanco, ganado por negro, empate) en valores numéricos.\n",
    "\n",
    "Estas nuevas variables agregadas pueden ser útiles para capturar información relevante de manera más compacta y, potencialmente, reducir la dimensionalidad del dataset."
   ]
  }
 ],
 "metadata": {
  "kernelspec": {
   "display_name": "Python 3",
   "language": "python",
   "name": "python3"
  },
  "language_info": {
   "codemirror_mode": {
    "name": "ipython",
    "version": 3
   },
   "file_extension": ".py",
   "mimetype": "text/x-python",
   "name": "python",
   "nbconvert_exporter": "python",
   "pygments_lexer": "ipython3",
   "version": "3.11.4"
  },
  "orig_nbformat": 4
 },
 "nbformat": 4,
 "nbformat_minor": 2
}
