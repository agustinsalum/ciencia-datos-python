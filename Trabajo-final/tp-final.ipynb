{
 "cells": [
  {
   "cell_type": "markdown",
   "metadata": {},
   "source": [
    "# TP FINAL"
   ]
  },
  {
   "cell_type": "markdown",
   "metadata": {},
   "source": [
    "**Ejercicio 1**\\\n",
    "Buscar un dataset (Que no sea los trabajados en clases)\n",
    "\n",
    "**Ejercicio 2**\\\n",
    "Realizar una introduccion al dataset de que se trata,definir sus variables (Diccionario de datos)\n",
    "\n",
    "**Ejercicio 3**\\\n",
    "Identificar el tipo de variable,decide justificando su respuesta.\n",
    "\n",
    "**Ejercicio 4**\\\n",
    "Detectar Valores Ausente  y Valores Atipicos .Decidir si eliminarlos y el por que de la eleccion.\n",
    "\n",
    "**Ejercicio 5**\\\n",
    "Realizar un analisis univariado y en base a esos graficos,sacar conclusiones.\n",
    "\n",
    "**Ejercicio 6**\\\n",
    "Realizar analisis de matriz corelacion y explicar que variable estan correlacionadas\\\n",
    "\n",
    "**Ejercicio 7**\\\n",
    "Sobre el Dataset Elegido  explique si se puede reducir las dimensiones  y que representa esas  nuevas variables."
   ]
  }
 ],
 "metadata": {
  "language_info": {
   "name": "python"
  },
  "orig_nbformat": 4
 },
 "nbformat": 4,
 "nbformat_minor": 2
}
