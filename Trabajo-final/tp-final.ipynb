{
 "cells": [
  {
   "cell_type": "markdown",
   "metadata": {},
   "source": [
    "# TP FINAL"
   ]
  },
  {
   "cell_type": "markdown",
   "metadata": {},
   "source": [
    "**Ejercicio 1**\\\n",
    "Buscar un dataset (Que no sea los trabajados en clases)\n",
    "\n",
    "**Ejercicio 2**\\\n",
    "Realizar una introduccion al dataset de que se trata,definir sus variables (Diccionario de datos)\n",
    "\n",
    "**Ejercicio 3**\\\n",
    "Identificar el tipo de variable,decide justificando su respuesta.\n",
    "\n",
    "**Ejercicio 4**\\\n",
    "Detectar Valores Ausente  y Valores Atipicos .Decidir si eliminarlos y el por que de la eleccion.\n",
    "\n",
    "**Ejercicio 5**\\\n",
    "Realizar un analisis univariado y en base a esos graficos,sacar conclusiones.\n",
    "\n",
    "**Ejercicio 6**\\\n",
    "Realizar analisis de matriz corelacion y explicar que variable estan correlacionadas\\\n",
    "\n",
    "**Ejercicio 7**\\\n",
    "Sobre el Dataset Elegido  explique si se puede reducir las dimensiones  y que representa esas  nuevas variables."
   ]
  },
  {
   "cell_type": "markdown",
   "metadata": {},
   "source": [
    "## Ejercicio 1"
   ]
  },
  {
   "cell_type": "markdown",
   "metadata": {},
   "source": [
    "Elegi un dataset de partidas de ajedrez:\n",
    "\n",
    "https://www.kaggle.com/datasets/datasnaek/chess\n",
    "\n"
   ]
  },
  {
   "cell_type": "code",
   "execution_count": 43,
   "metadata": {},
   "outputs": [],
   "source": [
    "import pandas as pd\n",
    "import matplotlib.pyplot as plt"
   ]
  },
  {
   "cell_type": "code",
   "execution_count": 44,
   "metadata": {},
   "outputs": [],
   "source": [
    "url_ajedrez = \"csv/games.csv\"\n",
    "\n",
    "# Esto crea un dataframe con los datos del archivo csv\n",
    "ajedrez_df = pd.read_csv(url_ajedrez)\n"
   ]
  },
  {
   "cell_type": "code",
   "execution_count": 45,
   "metadata": {},
   "outputs": [
    {
     "name": "stdout",
     "output_type": "stream",
     "text": [
      "Head: \n"
     ]
    },
    {
     "data": {
      "text/html": [
       "<div>\n",
       "<style scoped>\n",
       "    .dataframe tbody tr th:only-of-type {\n",
       "        vertical-align: middle;\n",
       "    }\n",
       "\n",
       "    .dataframe tbody tr th {\n",
       "        vertical-align: top;\n",
       "    }\n",
       "\n",
       "    .dataframe thead th {\n",
       "        text-align: right;\n",
       "    }\n",
       "</style>\n",
       "<table border=\"1\" class=\"dataframe\">\n",
       "  <thead>\n",
       "    <tr style=\"text-align: right;\">\n",
       "      <th></th>\n",
       "      <th>id</th>\n",
       "      <th>rated</th>\n",
       "      <th>created_at</th>\n",
       "      <th>last_move_at</th>\n",
       "      <th>turns</th>\n",
       "      <th>victory_status</th>\n",
       "      <th>winner</th>\n",
       "      <th>increment_code</th>\n",
       "      <th>white_id</th>\n",
       "      <th>white_rating</th>\n",
       "      <th>black_id</th>\n",
       "      <th>black_rating</th>\n",
       "      <th>moves</th>\n",
       "      <th>opening_eco</th>\n",
       "      <th>opening_name</th>\n",
       "      <th>opening_ply</th>\n",
       "    </tr>\n",
       "  </thead>\n",
       "  <tbody>\n",
       "    <tr>\n",
       "      <th>0</th>\n",
       "      <td>TZJHLljE</td>\n",
       "      <td>False</td>\n",
       "      <td>1.504210e+12</td>\n",
       "      <td>1.504210e+12</td>\n",
       "      <td>13</td>\n",
       "      <td>outoftime</td>\n",
       "      <td>white</td>\n",
       "      <td>15+2</td>\n",
       "      <td>bourgris</td>\n",
       "      <td>1500</td>\n",
       "      <td>a-00</td>\n",
       "      <td>1191</td>\n",
       "      <td>d4 d5 c4 c6 cxd5 e6 dxe6 fxe6 Nf3 Bb4+ Nc3 Ba5...</td>\n",
       "      <td>D10</td>\n",
       "      <td>Slav Defense: Exchange Variation</td>\n",
       "      <td>5</td>\n",
       "    </tr>\n",
       "    <tr>\n",
       "      <th>1</th>\n",
       "      <td>l1NXvwaE</td>\n",
       "      <td>True</td>\n",
       "      <td>1.504130e+12</td>\n",
       "      <td>1.504130e+12</td>\n",
       "      <td>16</td>\n",
       "      <td>resign</td>\n",
       "      <td>black</td>\n",
       "      <td>5+10</td>\n",
       "      <td>a-00</td>\n",
       "      <td>1322</td>\n",
       "      <td>skinnerua</td>\n",
       "      <td>1261</td>\n",
       "      <td>d4 Nc6 e4 e5 f4 f6 dxe5 fxe5 fxe5 Nxe5 Qd4 Nc6...</td>\n",
       "      <td>B00</td>\n",
       "      <td>Nimzowitsch Defense: Kennedy Variation</td>\n",
       "      <td>4</td>\n",
       "    </tr>\n",
       "    <tr>\n",
       "      <th>2</th>\n",
       "      <td>mIICvQHh</td>\n",
       "      <td>True</td>\n",
       "      <td>1.504130e+12</td>\n",
       "      <td>1.504130e+12</td>\n",
       "      <td>61</td>\n",
       "      <td>mate</td>\n",
       "      <td>white</td>\n",
       "      <td>5+10</td>\n",
       "      <td>ischia</td>\n",
       "      <td>1496</td>\n",
       "      <td>a-00</td>\n",
       "      <td>1500</td>\n",
       "      <td>e4 e5 d3 d6 Be3 c6 Be2 b5 Nd2 a5 a4 c5 axb5 Nc...</td>\n",
       "      <td>C20</td>\n",
       "      <td>King's Pawn Game: Leonardis Variation</td>\n",
       "      <td>3</td>\n",
       "    </tr>\n",
       "    <tr>\n",
       "      <th>3</th>\n",
       "      <td>kWKvrqYL</td>\n",
       "      <td>True</td>\n",
       "      <td>1.504110e+12</td>\n",
       "      <td>1.504110e+12</td>\n",
       "      <td>61</td>\n",
       "      <td>mate</td>\n",
       "      <td>white</td>\n",
       "      <td>20+0</td>\n",
       "      <td>daniamurashov</td>\n",
       "      <td>1439</td>\n",
       "      <td>adivanov2009</td>\n",
       "      <td>1454</td>\n",
       "      <td>d4 d5 Nf3 Bf5 Nc3 Nf6 Bf4 Ng4 e3 Nc6 Be2 Qd7 O...</td>\n",
       "      <td>D02</td>\n",
       "      <td>Queen's Pawn Game: Zukertort Variation</td>\n",
       "      <td>3</td>\n",
       "    </tr>\n",
       "    <tr>\n",
       "      <th>4</th>\n",
       "      <td>9tXo1AUZ</td>\n",
       "      <td>True</td>\n",
       "      <td>1.504030e+12</td>\n",
       "      <td>1.504030e+12</td>\n",
       "      <td>95</td>\n",
       "      <td>mate</td>\n",
       "      <td>white</td>\n",
       "      <td>30+3</td>\n",
       "      <td>nik221107</td>\n",
       "      <td>1523</td>\n",
       "      <td>adivanov2009</td>\n",
       "      <td>1469</td>\n",
       "      <td>e4 e5 Nf3 d6 d4 Nc6 d5 Nb4 a3 Na6 Nc3 Be7 b4 N...</td>\n",
       "      <td>C41</td>\n",
       "      <td>Philidor Defense</td>\n",
       "      <td>5</td>\n",
       "    </tr>\n",
       "  </tbody>\n",
       "</table>\n",
       "</div>"
      ],
      "text/plain": [
       "         id  rated    created_at  last_move_at  turns victory_status winner  \\\n",
       "0  TZJHLljE  False  1.504210e+12  1.504210e+12     13      outoftime  white   \n",
       "1  l1NXvwaE   True  1.504130e+12  1.504130e+12     16         resign  black   \n",
       "2  mIICvQHh   True  1.504130e+12  1.504130e+12     61           mate  white   \n",
       "3  kWKvrqYL   True  1.504110e+12  1.504110e+12     61           mate  white   \n",
       "4  9tXo1AUZ   True  1.504030e+12  1.504030e+12     95           mate  white   \n",
       "\n",
       "  increment_code       white_id  white_rating      black_id  black_rating  \\\n",
       "0           15+2       bourgris          1500          a-00          1191   \n",
       "1           5+10           a-00          1322     skinnerua          1261   \n",
       "2           5+10         ischia          1496          a-00          1500   \n",
       "3           20+0  daniamurashov          1439  adivanov2009          1454   \n",
       "4           30+3      nik221107          1523  adivanov2009          1469   \n",
       "\n",
       "                                               moves opening_eco  \\\n",
       "0  d4 d5 c4 c6 cxd5 e6 dxe6 fxe6 Nf3 Bb4+ Nc3 Ba5...         D10   \n",
       "1  d4 Nc6 e4 e5 f4 f6 dxe5 fxe5 fxe5 Nxe5 Qd4 Nc6...         B00   \n",
       "2  e4 e5 d3 d6 Be3 c6 Be2 b5 Nd2 a5 a4 c5 axb5 Nc...         C20   \n",
       "3  d4 d5 Nf3 Bf5 Nc3 Nf6 Bf4 Ng4 e3 Nc6 Be2 Qd7 O...         D02   \n",
       "4  e4 e5 Nf3 d6 d4 Nc6 d5 Nb4 a3 Na6 Nc3 Be7 b4 N...         C41   \n",
       "\n",
       "                             opening_name  opening_ply  \n",
       "0        Slav Defense: Exchange Variation            5  \n",
       "1  Nimzowitsch Defense: Kennedy Variation            4  \n",
       "2   King's Pawn Game: Leonardis Variation            3  \n",
       "3  Queen's Pawn Game: Zukertort Variation            3  \n",
       "4                        Philidor Defense            5  "
      ]
     },
     "execution_count": 45,
     "metadata": {},
     "output_type": "execute_result"
    }
   ],
   "source": [
    "print (\"Head: \")\n",
    "ajedrez_df.head()"
   ]
  },
  {
   "cell_type": "code",
   "execution_count": 46,
   "metadata": {},
   "outputs": [
    {
     "name": "stdout",
     "output_type": "stream",
     "text": [
      "Shape: \n"
     ]
    },
    {
     "data": {
      "text/plain": [
       "(20058, 16)"
      ]
     },
     "execution_count": 46,
     "metadata": {},
     "output_type": "execute_result"
    }
   ],
   "source": [
    "print (\"Shape: \")\n",
    "# Filas x columnas\n",
    "ajedrez_df.shape"
   ]
  },
  {
   "cell_type": "code",
   "execution_count": 47,
   "metadata": {},
   "outputs": [
    {
     "name": "stdout",
     "output_type": "stream",
     "text": [
      "Info: \n",
      "<class 'pandas.core.frame.DataFrame'>\n",
      "RangeIndex: 20058 entries, 0 to 20057\n",
      "Data columns (total 16 columns):\n",
      " #   Column          Non-Null Count  Dtype  \n",
      "---  ------          --------------  -----  \n",
      " 0   id              20058 non-null  object \n",
      " 1   rated           20058 non-null  bool   \n",
      " 2   created_at      20058 non-null  float64\n",
      " 3   last_move_at    20058 non-null  float64\n",
      " 4   turns           20058 non-null  int64  \n",
      " 5   victory_status  20058 non-null  object \n",
      " 6   winner          20058 non-null  object \n",
      " 7   increment_code  20058 non-null  object \n",
      " 8   white_id        20058 non-null  object \n",
      " 9   white_rating    20058 non-null  int64  \n",
      " 10  black_id        20058 non-null  object \n",
      " 11  black_rating    20058 non-null  int64  \n",
      " 12  moves           20058 non-null  object \n",
      " 13  opening_eco     20058 non-null  object \n",
      " 14  opening_name    20058 non-null  object \n",
      " 15  opening_ply     20058 non-null  int64  \n",
      "dtypes: bool(1), float64(2), int64(4), object(9)\n",
      "memory usage: 2.3+ MB\n"
     ]
    }
   ],
   "source": [
    "print (\"Info: \")\n",
    "ajedrez_df.info()"
   ]
  },
  {
   "cell_type": "markdown",
   "metadata": {},
   "source": [
    "## Ejercicio 2"
   ]
  },
  {
   "cell_type": "markdown",
   "metadata": {},
   "source": [
    "Se trata de un conjunto de 20.058 juegos recopilados de una selección de usuarios en el sitio Lichess.org. Este conjunto contiene:\n",
    "\n",
    "* Game ID: Un identificador único\n",
    "* Rated (T/F): Un valor booleano que indica si la partida fue clasificada (rated) o no (unrated).\n",
    "* Start Time: La hora de inicio de la partida de ajedrez.\n",
    "* End Time: La hora en que la partida de ajedrez terminó.\n",
    "* Number of Turns: El número total de movimientos realizados durante la partida.\n",
    "* Game Status: El estado final de la partida, por ejemplo, \"Ganó Blancas\", \"Ganó Negras\", \"Empate\" u otro resultado.\n",
    "* Winner: Indica quién fue el ganador de la partida, ya sea \"Blancas\", \"Negras\" o \"Empate\".\n",
    "* Time Increment: El incremento de tiempo utilizado en la partida (si hay algún incremento).\n",
    "* White Player ID: El identificador único del jugador que jugó con las piezas blancas.\n",
    "* White Player Rating: La calificación o rating del jugador que jugó con las piezas blancas.\n",
    "* Black Player ID: El identificador único del jugador que jugó con las piezas negras.\n",
    "* Black Player Rating: La calificación o rating del jugador que jugó con las piezas negras.\n",
    "* All Moves in Standard Chess Notation: Una lista de todos los movimientos realizados durante la partida.\n",
    "* Opening Eco (Standardised Code for any given opening, list here): El código ECO\n",
    "* Opening Name: El nombre de la apertura de ajedrez utilizada en la partida.\n",
    "* Opening Ply (Number of moves in the opening phase): El número de movimientos realizados en la fase de apertura"
   ]
  },
  {
   "cell_type": "markdown",
   "metadata": {},
   "source": [
    "## Ejercicio 3"
   ]
  },
  {
   "cell_type": "markdown",
   "metadata": {},
   "source": [
    "* Game ID: Nominal. Es un identificador único para cada partida y no tiene un orden ni relación numérica.\n",
    "* Rated (T/F): Nominal. Representa valores verdaderos o falsos sin un orden específico.\n",
    "* Start Time: Continua. Las horas forman una escala continua y pueden tener valores en un rango amplio.\n",
    "* End Time: Continua. Similar a \"Start Time\", representa una escala continua de tiempo.\n",
    "* Number of Turns: Discreta. El número de movimientos es un valor discreto, no continuo.\n",
    "* Game Status: Nominal. Describe el estado final de la partida sin un orden específico.\n",
    "* Winner: Nominal. Indica quién ganó la partida, sin un orden particular.\n",
    "* Time Increment: Continua. Representa una medida de tiempo que puede variar en un rango continuo.\n",
    "* White Player ID: Nominal. Los identificadores de los jugadores son etiquetas únicas sin relación numérica.\n",
    "* White Player Rating: Ordinal. Las calificaciones de los jugadores tienen un orden, pero la diferencia entre las calificaciones puede no tener un significado constante.\n",
    "* Black Player ID: Nominal. Similar a \"White Player ID\", es un identificador único.\n",
    "* Black Player Rating: Ordinal. Al igual que \"White Player Rating\", las calificaciones de los jugadores tienen un orden pero las diferencias pueden variar.\n",
    "* All Moves in Standard Chess Notation: Nominal. Son etiquetas para los movimientos de la partida sin un orden específico.\n",
    "* Opening Eco (Standardised Code for any given opening, list here): Nominal. Los códigos ECO son etiquetas para las aperturas sin un orden particular.\n",
    "* Opening Name: Nominal. Nombres de aperturas sin orden ni relación numérica.\n",
    "* Opening Ply (Number of moves in the opening phase): Discreta. El número de movimientos en la apertura es un valor discreto."
   ]
  },
  {
   "cell_type": "markdown",
   "metadata": {},
   "source": [
    "Cualitativas:\n",
    "\n",
    "Nominales: 9 (categorias sin orden)\\\n",
    "Ordinales: 2 (categorias con orden)\n",
    "\n",
    "Cuantitativas:\n",
    "\n",
    "Discretas: 2 (valores enteros)\\\n",
    "Continuas: 3 (valores reales)"
   ]
  },
  {
   "cell_type": "markdown",
   "metadata": {},
   "source": [
    "## Ejercicio 4"
   ]
  },
  {
   "cell_type": "markdown",
   "metadata": {},
   "source": [
    "### Valores ausentes"
   ]
  },
  {
   "cell_type": "code",
   "execution_count": 48,
   "metadata": {},
   "outputs": [
    {
     "name": "stdout",
     "output_type": "stream",
     "text": [
      "Cantida de valores faltantes: \n"
     ]
    },
    {
     "data": {
      "text/plain": [
       "id                0\n",
       "rated             0\n",
       "created_at        0\n",
       "last_move_at      0\n",
       "turns             0\n",
       "victory_status    0\n",
       "winner            0\n",
       "increment_code    0\n",
       "white_id          0\n",
       "white_rating      0\n",
       "black_id          0\n",
       "black_rating      0\n",
       "moves             0\n",
       "opening_eco       0\n",
       "opening_name      0\n",
       "opening_ply       0\n",
       "dtype: int64"
      ]
     },
     "execution_count": 48,
     "metadata": {},
     "output_type": "execute_result"
    }
   ],
   "source": [
    "# Obtener el número de valores faltantes en cada columna\n",
    "print (\"Cantida de valores faltantes: \")\n",
    "ajedrez_df.isnull().sum()"
   ]
  },
  {
   "cell_type": "markdown",
   "metadata": {},
   "source": [
    "No existen valores ausentes"
   ]
  },
  {
   "cell_type": "markdown",
   "metadata": {},
   "source": [
    "### Valores atipicos"
   ]
  },
  {
   "cell_type": "code",
   "execution_count": 49,
   "metadata": {},
   "outputs": [
    {
     "data": {
      "image/png": "[encoded data removed]",
      "text/plain": [
       "<Figure size 800x600 with 1 Axes>"
      ]
     },
     "metadata": {},
     "output_type": "display_data"
    }
   ],
   "source": [
    "import matplotlib.pyplot as plt\n",
    "import seaborn as sns\n",
    "\n",
    "plt.figure(figsize=(8, 6))\n",
    "sns.boxplot(data=ajedrez_df, y='turns')\n",
    "plt.title('Box Plot de Valores Atípicos')\n",
    "plt.ylabel('Valor')\n",
    "plt.show()\n"
   ]
  },
  {
   "cell_type": "markdown",
   "metadata": {},
   "source": [
    "los valores atípicos aparecen como puntos fuera de los \"bigotes\" del box plot. En este caso, son los mayores a 150. Utilizaremos el método del Rango Intercuartílico (IQR) para identificar los qutliers y luego tomar una determinacion. "
   ]
  },
  {
   "cell_type": "code",
   "execution_count": 42,
   "metadata": {},
   "outputs": [
    {
     "data": {
      "text/html": [
       "<div>\n",
       "<style scoped>\n",
       "    .dataframe tbody tr th:only-of-type {\n",
       "        vertical-align: middle;\n",
       "    }\n",
       "\n",
       "    .dataframe tbody tr th {\n",
       "        vertical-align: top;\n",
       "    }\n",
       "\n",
       "    .dataframe thead th {\n",
       "        text-align: right;\n",
       "    }\n",
       "</style>\n",
       "<table border=\"1\" class=\"dataframe\">\n",
       "  <thead>\n",
       "    <tr style=\"text-align: right;\">\n",
       "      <th></th>\n",
       "      <th>id</th>\n",
       "      <th>rated</th>\n",
       "      <th>created_at</th>\n",
       "      <th>last_move_at</th>\n",
       "      <th>turns</th>\n",
       "      <th>victory_status</th>\n",
       "      <th>winner</th>\n",
       "      <th>increment_code</th>\n",
       "      <th>white_id</th>\n",
       "      <th>white_rating</th>\n",
       "      <th>black_id</th>\n",
       "      <th>black_rating</th>\n",
       "      <th>moves</th>\n",
       "      <th>opening_eco</th>\n",
       "      <th>opening_name</th>\n",
       "      <th>opening_ply</th>\n",
       "    </tr>\n",
       "  </thead>\n",
       "  <tbody>\n",
       "    <tr>\n",
       "      <th>1067</th>\n",
       "      <td>MP8TYTbX</td>\n",
       "      <td>True</td>\n",
       "      <td>1.504170e+12</td>\n",
       "      <td>1.504170e+12</td>\n",
       "      <td>141</td>\n",
       "      <td>resign</td>\n",
       "      <td>white</td>\n",
       "      <td>7+4</td>\n",
       "      <td>superhero098</td>\n",
       "      <td>1976</td>\n",
       "      <td>cuxhaven</td>\n",
       "      <td>1987</td>\n",
       "      <td>e4 e5 Nf3 Nc6 b3 Bc5 Bc4 d6 d3 Bg4 h3 Bh5 Nbd2...</td>\n",
       "      <td>C44</td>\n",
       "      <td>King's Knight Opening: Normal Variation</td>\n",
       "      <td>4</td>\n",
       "    </tr>\n",
       "    <tr>\n",
       "      <th>1126</th>\n",
       "      <td>xegBnwXE</td>\n",
       "      <td>True</td>\n",
       "      <td>1.497330e+12</td>\n",
       "      <td>1.497330e+12</td>\n",
       "      <td>140</td>\n",
       "      <td>draw</td>\n",
       "      <td>draw</td>\n",
       "      <td>10+0</td>\n",
       "      <td>gorvlad-61</td>\n",
       "      <td>1972</td>\n",
       "      <td>s-a</td>\n",
       "      <td>1878</td>\n",
       "      <td>e4 c5 Nf3 e6 d4 cxd4 Nxd4 a6 c4 Qc7 Nc3 Nf6 Be...</td>\n",
       "      <td>B41</td>\n",
       "      <td>Sicilian Defense: Kan Variation |  Maroczy Bin...</td>\n",
       "      <td>9</td>\n",
       "    </tr>\n",
       "    <tr>\n",
       "      <th>1377</th>\n",
       "      <td>41T8PqHr</td>\n",
       "      <td>True</td>\n",
       "      <td>1.504260e+12</td>\n",
       "      <td>1.504260e+12</td>\n",
       "      <td>141</td>\n",
       "      <td>mate</td>\n",
       "      <td>white</td>\n",
       "      <td>10+0</td>\n",
       "      <td>naster1</td>\n",
       "      <td>2150</td>\n",
       "      <td>juncinmestrella</td>\n",
       "      <td>1829</td>\n",
       "      <td>e4 e6 d3 d5 Nd2 c5 Ngf3 Nc6 g3 Qb6 Bg2 Bd7 O-O...</td>\n",
       "      <td>C00</td>\n",
       "      <td>French Defense: King's Indian Attack</td>\n",
       "      <td>3</td>\n",
       "    </tr>\n",
       "    <tr>\n",
       "      <th>1676</th>\n",
       "      <td>Hl20qJlw</td>\n",
       "      <td>True</td>\n",
       "      <td>1.496930e+12</td>\n",
       "      <td>1.496930e+12</td>\n",
       "      <td>141</td>\n",
       "      <td>outoftime</td>\n",
       "      <td>white</td>\n",
       "      <td>10+0</td>\n",
       "      <td>joe-brown</td>\n",
       "      <td>1044</td>\n",
       "      <td>juan_du</td>\n",
       "      <td>1080</td>\n",
       "      <td>Nf3 f5 e3 d5 Ne5 b5 e4 dxe4 Bxb5+ c6 Bc4 Qd4 N...</td>\n",
       "      <td>A04</td>\n",
       "      <td>Zukertort Opening: Dutch Variation</td>\n",
       "      <td>2</td>\n",
       "    </tr>\n",
       "    <tr>\n",
       "      <th>1701</th>\n",
       "      <td>X6AOrl95</td>\n",
       "      <td>True</td>\n",
       "      <td>1.503470e+12</td>\n",
       "      <td>1.503470e+12</td>\n",
       "      <td>140</td>\n",
       "      <td>resign</td>\n",
       "      <td>black</td>\n",
       "      <td>10+0</td>\n",
       "      <td>crax_is_bax</td>\n",
       "      <td>1683</td>\n",
       "      <td>niagrad</td>\n",
       "      <td>1621</td>\n",
       "      <td>e4 c5 Nf3 e6 Nc3 a6 d4 cxd4 Nxd4 Nc6 Nxc6 bxc6...</td>\n",
       "      <td>B46</td>\n",
       "      <td>Sicilian Defense: Paulsen Variation</td>\n",
       "      <td>10</td>\n",
       "    </tr>\n",
       "    <tr>\n",
       "      <th>...</th>\n",
       "      <td>...</td>\n",
       "      <td>...</td>\n",
       "      <td>...</td>\n",
       "      <td>...</td>\n",
       "      <td>...</td>\n",
       "      <td>...</td>\n",
       "      <td>...</td>\n",
       "      <td>...</td>\n",
       "      <td>...</td>\n",
       "      <td>...</td>\n",
       "      <td>...</td>\n",
       "      <td>...</td>\n",
       "      <td>...</td>\n",
       "      <td>...</td>\n",
       "      <td>...</td>\n",
       "      <td>...</td>\n",
       "    </tr>\n",
       "    <tr>\n",
       "      <th>19028</th>\n",
       "      <td>lYZ4gqba</td>\n",
       "      <td>True</td>\n",
       "      <td>1.504453e+12</td>\n",
       "      <td>1.504454e+12</td>\n",
       "      <td>142</td>\n",
       "      <td>mate</td>\n",
       "      <td>black</td>\n",
       "      <td>10+0</td>\n",
       "      <td>chiefjab</td>\n",
       "      <td>1504</td>\n",
       "      <td>josip111</td>\n",
       "      <td>1578</td>\n",
       "      <td>e4 e5 Nf3 d6 Bc4 Nc6 O-O Bd7 c3 h6 d4 exd4 cxd...</td>\n",
       "      <td>C41</td>\n",
       "      <td>Philidor Defense #3</td>\n",
       "      <td>5</td>\n",
       "    </tr>\n",
       "    <tr>\n",
       "      <th>19376</th>\n",
       "      <td>RL7HEfVX</td>\n",
       "      <td>True</td>\n",
       "      <td>1.504187e+12</td>\n",
       "      <td>1.504187e+12</td>\n",
       "      <td>138</td>\n",
       "      <td>resign</td>\n",
       "      <td>black</td>\n",
       "      <td>10+0</td>\n",
       "      <td>graho</td>\n",
       "      <td>1891</td>\n",
       "      <td>erdugliano71</td>\n",
       "      <td>1974</td>\n",
       "      <td>e4 c5 Nf3 e6 Bc4 d5 exd5 exd5 Qe2+ Be6 Bd3 c4 ...</td>\n",
       "      <td>B40</td>\n",
       "      <td>Sicilian Defense: French Variation</td>\n",
       "      <td>4</td>\n",
       "    </tr>\n",
       "    <tr>\n",
       "      <th>19756</th>\n",
       "      <td>YlS77iU2</td>\n",
       "      <td>True</td>\n",
       "      <td>1.504199e+12</td>\n",
       "      <td>1.504200e+12</td>\n",
       "      <td>140</td>\n",
       "      <td>mate</td>\n",
       "      <td>black</td>\n",
       "      <td>10+0</td>\n",
       "      <td>loukas435</td>\n",
       "      <td>1826</td>\n",
       "      <td>chessbuzz17</td>\n",
       "      <td>2162</td>\n",
       "      <td>d4 e6 Bf4 d5 e3 f5 Be2 Nf6 Nf3 Be7 O-O O-O Nbd...</td>\n",
       "      <td>A40</td>\n",
       "      <td>Horwitz Defense</td>\n",
       "      <td>2</td>\n",
       "    </tr>\n",
       "    <tr>\n",
       "      <th>19947</th>\n",
       "      <td>HR6zQjVr</td>\n",
       "      <td>True</td>\n",
       "      <td>1.499086e+12</td>\n",
       "      <td>1.499088e+12</td>\n",
       "      <td>142</td>\n",
       "      <td>resign</td>\n",
       "      <td>black</td>\n",
       "      <td>20+5</td>\n",
       "      <td>spiteknight</td>\n",
       "      <td>1665</td>\n",
       "      <td>donex1</td>\n",
       "      <td>1547</td>\n",
       "      <td>e4 e5 Nf3 Nc6 Bb5 a6 Ba4 Nf6 O-O b5 Bb3 Be7 Re...</td>\n",
       "      <td>C88</td>\n",
       "      <td>Ruy Lopez: Closed</td>\n",
       "      <td>13</td>\n",
       "    </tr>\n",
       "    <tr>\n",
       "      <th>19990</th>\n",
       "      <td>JljrmgKh</td>\n",
       "      <td>True</td>\n",
       "      <td>1.498945e+12</td>\n",
       "      <td>1.498948e+12</td>\n",
       "      <td>142</td>\n",
       "      <td>mate</td>\n",
       "      <td>black</td>\n",
       "      <td>15+5</td>\n",
       "      <td>xilften1</td>\n",
       "      <td>2076</td>\n",
       "      <td>rb52</td>\n",
       "      <td>2035</td>\n",
       "      <td>e4 d6 d4 Nf6 Nc3 g6 Be3 Bg7 Qd2 c6 O-O-O b5 Bh...</td>\n",
       "      <td>B07</td>\n",
       "      <td>Pirc Defense #3</td>\n",
       "      <td>6</td>\n",
       "    </tr>\n",
       "  </tbody>\n",
       "</table>\n",
       "<p>119 rows × 16 columns</p>\n",
       "</div>"
      ],
      "text/plain": [
       "             id  rated    created_at  last_move_at  turns victory_status  \\\n",
       "1067   MP8TYTbX   True  1.504170e+12  1.504170e+12    141         resign   \n",
       "1126   xegBnwXE   True  1.497330e+12  1.497330e+12    140           draw   \n",
       "1377   41T8PqHr   True  1.504260e+12  1.504260e+12    141           mate   \n",
       "1676   Hl20qJlw   True  1.496930e+12  1.496930e+12    141      outoftime   \n",
       "1701   X6AOrl95   True  1.503470e+12  1.503470e+12    140         resign   \n",
       "...         ...    ...           ...           ...    ...            ...   \n",
       "19028  lYZ4gqba   True  1.504453e+12  1.504454e+12    142           mate   \n",
       "19376  RL7HEfVX   True  1.504187e+12  1.504187e+12    138         resign   \n",
       "19756  YlS77iU2   True  1.504199e+12  1.504200e+12    140           mate   \n",
       "19947  HR6zQjVr   True  1.499086e+12  1.499088e+12    142         resign   \n",
       "19990  JljrmgKh   True  1.498945e+12  1.498948e+12    142           mate   \n",
       "\n",
       "      winner increment_code      white_id  white_rating         black_id  \\\n",
       "1067   white            7+4  superhero098          1976         cuxhaven   \n",
       "1126    draw           10+0    gorvlad-61          1972              s-a   \n",
       "1377   white           10+0       naster1          2150  juncinmestrella   \n",
       "1676   white           10+0     joe-brown          1044          juan_du   \n",
       "1701   black           10+0   crax_is_bax          1683          niagrad   \n",
       "...      ...            ...           ...           ...              ...   \n",
       "19028  black           10+0      chiefjab          1504         josip111   \n",
       "19376  black           10+0         graho          1891     erdugliano71   \n",
       "19756  black           10+0     loukas435          1826      chessbuzz17   \n",
       "19947  black           20+5   spiteknight          1665           donex1   \n",
       "19990  black           15+5      xilften1          2076             rb52   \n",
       "\n",
       "       black_rating                                              moves  \\\n",
       "1067           1987  e4 e5 Nf3 Nc6 b3 Bc5 Bc4 d6 d3 Bg4 h3 Bh5 Nbd2...   \n",
       "1126           1878  e4 c5 Nf3 e6 d4 cxd4 Nxd4 a6 c4 Qc7 Nc3 Nf6 Be...   \n",
       "1377           1829  e4 e6 d3 d5 Nd2 c5 Ngf3 Nc6 g3 Qb6 Bg2 Bd7 O-O...   \n",
       "1676           1080  Nf3 f5 e3 d5 Ne5 b5 e4 dxe4 Bxb5+ c6 Bc4 Qd4 N...   \n",
       "1701           1621  e4 c5 Nf3 e6 Nc3 a6 d4 cxd4 Nxd4 Nc6 Nxc6 bxc6...   \n",
       "...             ...                                                ...   \n",
       "19028          1578  e4 e5 Nf3 d6 Bc4 Nc6 O-O Bd7 c3 h6 d4 exd4 cxd...   \n",
       "19376          1974  e4 c5 Nf3 e6 Bc4 d5 exd5 exd5 Qe2+ Be6 Bd3 c4 ...   \n",
       "19756          2162  d4 e6 Bf4 d5 e3 f5 Be2 Nf6 Nf3 Be7 O-O O-O Nbd...   \n",
       "19947          1547  e4 e5 Nf3 Nc6 Bb5 a6 Ba4 Nf6 O-O b5 Bb3 Be7 Re...   \n",
       "19990          2035  e4 d6 d4 Nf6 Nc3 g6 Be3 Bg7 Qd2 c6 O-O-O b5 Bh...   \n",
       "\n",
       "      opening_eco                                       opening_name  \\\n",
       "1067          C44            King's Knight Opening: Normal Variation   \n",
       "1126          B41  Sicilian Defense: Kan Variation |  Maroczy Bin...   \n",
       "1377          C00               French Defense: King's Indian Attack   \n",
       "1676          A04                 Zukertort Opening: Dutch Variation   \n",
       "1701          B46                Sicilian Defense: Paulsen Variation   \n",
       "...           ...                                                ...   \n",
       "19028         C41                                Philidor Defense #3   \n",
       "19376         B40                 Sicilian Defense: French Variation   \n",
       "19756         A40                                    Horwitz Defense   \n",
       "19947         C88                                  Ruy Lopez: Closed   \n",
       "19990         B07                                    Pirc Defense #3   \n",
       "\n",
       "       opening_ply  \n",
       "1067             4  \n",
       "1126             9  \n",
       "1377             3  \n",
       "1676             2  \n",
       "1701            10  \n",
       "...            ...  \n",
       "19028            5  \n",
       "19376            4  \n",
       "19756            2  \n",
       "19947           13  \n",
       "19990            6  \n",
       "\n",
       "[119 rows x 16 columns]"
      ]
     },
     "execution_count": 42,
     "metadata": {},
     "output_type": "execute_result"
    }
   ],
   "source": [
    "# Calcular Q1 y Q3 el cual divide los datos en cuatro partes iguales\n",
    "Q1 = ajedrez_df['turns'].quantile(0.25)\n",
    "Q3 = ajedrez_df['turns'].quantile(0.75)\n",
    "\n",
    "# Calcular IQR el cual representa el rango en el que se espera que la mayoría de los datos caigan\n",
    "IQR = Q3 - Q1\n",
    "\n",
    "# Definir límites. Se utiliza el factor 1.5 multiplicado por el IQR para definir estos límites\n",
    "lower_limit = Q1 - 1.5 * IQR\n",
    "upper_limit = Q3 + 1.5 * IQR\n",
    "\n",
    "# Guardamos e Identificamos los valores atípicos que están por debajo del límite inferior o por encima del límite superior\n",
    "outliers = ajedrez_df[(ajedrez_df['turns'] < lower_limit) | (ajedrez_df['turns'] > upper_limit)]\n",
    "\n",
    "outliers"
   ]
  },
  {
   "cell_type": "markdown",
   "metadata": {},
   "source": [
    "Se encontraron 119 valores atipicos. Podrian eliminarse para mejorar la calidad del análisis y tener una interpretacion mas clara. Ademas de la eliminacion, existen las siguientes alternativas con sus propias ventajas y desventajas:\n",
    "\n",
    "- Capping (Acotar): Puedes acotar los valores atípicos estableciendo un límite superior e inferior. Esto implica asignar los valores atípicos por encima o por debajo de esos límites a los valores más cercanos dentro del rango válido. Por ejemplo, si el valor máximo esperado es 350, podrías acotar todos los valores mayores a 350 a 350.\n",
    "\n",
    "- Transformación: Puedes aplicar transformaciones matemáticas a los valores atípicos para reducir su impacto. Por ejemplo, podrías aplicar una transformación logarítmica a los valores antes de realizar análisis estadísticos.\n"
   ]
  },
  {
   "cell_type": "markdown",
   "metadata": {},
   "source": [
    "Considerando los posibles inconvenientes como la perdida de informacion o tener un impacto en la representabilidad no realizaremos ninguna accion."
   ]
  },
  {
   "cell_type": "markdown",
   "metadata": {},
   "source": [
    "## Ejercicio 5"
   ]
  },
  {
   "cell_type": "markdown",
   "metadata": {},
   "source": [
    "Calculamos las estadísticas descriptivas básicas de una variable. Por ejemplo:\n",
    "\n",
    "- La media\n",
    "- La mediana\n",
    "- La desviación estándar\n",
    "- El rango\n",
    "- Los percentiles\n",
    "\n",
    "También se utilizaran gráficos y visualizaciones para representar la distribución de la variable, como histogramas, gráficos de barras, gráficos de pastel y diagramas de caja (box plots)."
   ]
  },
  {
   "cell_type": "markdown",
   "metadata": {},
   "source": [
    "### Cantidad de turnos (turns)"
   ]
  },
  {
   "cell_type": "markdown",
   "metadata": {},
   "source": [
    "En este caso se utilizara el database sin outliers"
   ]
  },
  {
   "cell_type": "code",
   "execution_count": 52,
   "metadata": {},
   "outputs": [
    {
     "name": "stdout",
     "output_type": "stream",
     "text": [
      "60.46599860404826\n",
      "55.0\n",
      "33.570584753537126\n",
      "348\n",
      "0.25    37.0\n",
      "0.50    55.0\n",
      "0.75    79.0\n",
      "Name: turns, dtype: float64\n"
     ]
    }
   ],
   "source": [
    "# Media\n",
    "print (ajedrez_df['turns'].mean())\n",
    "\n",
    "# Mediana (en pandas, el método median() ya ordena internamente los valores antes de calcular la mediana)\n",
    "print (ajedrez_df['turns'].median())\n",
    "\n",
    "# Desviación estándar\n",
    "print (ajedrez_df['turns'].std())\n",
    "\n",
    "# Rango\n",
    "print (ajedrez_df['turns'].max() - ajedrez_df['turns'].min())\n",
    "\n",
    "# Percentiles (25%, 50%, 75%)\n",
    "print (ajedrez_df['turns'].quantile([0.25, 0.50, 0.75]))"
   ]
  },
  {
   "cell_type": "markdown",
   "metadata": {},
   "source": [
    "Conclusiones:\n",
    "\n",
    "- Media y Mediana: La media es aproximadamente 58.25, mientras que la mediana es 54. Esto sugiere que la distribución puede estar ligeramente sesgada hacia la derecha, ya que la media es ligeramente mayor que la mediana. En general, esto indica que la mayoría de las partidas tienen un número de turnos cercano a la mediana, pero hay algunas partidas con un número relativamente alto de turnos que están influyendo en la media.\n",
    "\n",
    "- Desviación Estándar: La desviación estándar es 30.19. Esto indica que los valores del número de turnos pueden variar significativamente alrededor de la media. La distribución es relativamente dispersa en relación con la media.\n",
    "\n",
    "- Rango: El rango es 141, lo que significa que hay una diferencia de 141 turnos entre el valor máximo y el valor mínimo. Esto resalta la variabilidad en el número de turnos entre las partidas.\n",
    "\n",
    "- Percentiles: Los percentiles dan una idea de cómo se distribuyen los valores en diferentes rangos. El primer cuartil (25%) está en 37, lo que sugiere que al menos el 25% de las partidas tienen 37 turnos o menos. La mediana (50%) está en 54, lo que significa que el 50% de las partidas tienen 54 turnos o menos. El tercer cuartil (75%) está en 77, lo que implica que al menos el 25% de las partidas tienen 77 turnos o más."
   ]
  },
  {
   "cell_type": "markdown",
   "metadata": {},
   "source": [
    "### Color ganador (winner)"
   ]
  },
  {
   "cell_type": "markdown",
   "metadata": {},
   "source": [
    "En este caso se utilizara el database original"
   ]
  },
  {
   "cell_type": "code",
   "execution_count": 53,
   "metadata": {},
   "outputs": [
    {
     "data": {
      "image/png": "[encoded data removed]",
      "text/plain": [
       "<Figure size 800x600 with 1 Axes>"
      ]
     },
     "metadata": {},
     "output_type": "display_data"
    }
   ],
   "source": [
    "import matplotlib.pyplot as plt\n",
    "import seaborn as sns\n",
    "\n",
    "# Crear el gráfico de barras\n",
    "plt.figure(figsize=(8, 6))\n",
    "sns.countplot(data=ajedrez_df, x='winner')\n",
    "\n",
    "# Configurar el gráfico\n",
    "plt.title('Cantidad de Partidas Ganadas por Color')\n",
    "plt.xlabel('Color Ganador')\n",
    "plt.ylabel('Cantidad de Partidas')\n",
    "plt.show()\n"
   ]
  },
  {
   "cell_type": "markdown",
   "metadata": {},
   "source": [
    "El color blanco ganó alrededor de 10000 partidas y el color negro 9000. La cantidad de victorias es bastante equilibrada, con una ligera ventaja para las blancas. El número de partidas que terminaron en empate fue menor a 2,000, lo que significa que la proporción de empates en comparación con las victorias es significativamente menor, lo que indica que las partidas de ajedrez tienden a tener un ganador definitivo en lugar de terminar en empate."
   ]
  },
  {
   "cell_type": "markdown",
   "metadata": {},
   "source": [
    "### Tipo de victoria (victory_status)"
   ]
  },
  {
   "cell_type": "markdown",
   "metadata": {},
   "source": [
    "En este caso se utilizara el database original"
   ]
  },
  {
   "cell_type": "code",
   "execution_count": 54,
   "metadata": {},
   "outputs": [
    {
     "data": {
      "image/png": "[encoded data removed]",
      "text/plain": [
       "<Figure size 800x600 with 1 Axes>"
      ]
     },
     "metadata": {},
     "output_type": "display_data"
    }
   ],
   "source": [
    "# Supongamos que ajedrez_df es tu DataFrame\n",
    "\n",
    "# Contar la cantidad de cada categoría en la variable \"victory_status\"\n",
    "victory_counts = ajedrez_df['victory_status'].value_counts()\n",
    "\n",
    "# Crear un gráfico de torta\n",
    "plt.figure(figsize=(8, 6))\n",
    "plt.pie(victory_counts, labels=victory_counts.index, autopct='%1.1f%%', startangle=140)\n",
    "plt.title('Distribución de victorias')\n",
    "plt.show()"
   ]
  },
  {
   "cell_type": "markdown",
   "metadata": {},
   "source": [
    "Los resultados \"Resign\" y \"Mate\" son los resultados predominantes. Los empates y fuera de tiempo son menos frecuentes, aunque representan una parte significativa de las partidas."
   ]
  },
  {
   "cell_type": "code",
   "execution_count": 57,
   "metadata": {},
   "outputs": [
    {
     "data": {
      "image/png": "[encoded data removed]",
      "text/plain": [
       "<Figure size 800x600 with 1 Axes>"
      ]
     },
     "metadata": {},
     "output_type": "display_data"
    }
   ],
   "source": [
    "import matplotlib.pyplot as plt\n",
    "\n",
    "# Supongamos que ajedrez_df es tu DataFrame\n",
    "\n",
    "# Crear un histograma de la diferencia de puntaje de Elo\n",
    "plt.figure(figsize=(8, 6))\n",
    "plt.hist(ajedrez_df['white_rating'] - ajedrez_df['black_rating'], bins=20, edgecolor='black')\n",
    "plt.title('Histograma de Diferencia de Puntaje de Elo')\n",
    "plt.xlabel('Diferencia de Puntaje de Elo')\n",
    "plt.ylabel('Frecuencia')\n",
    "plt.show()\n",
    "\n"
   ]
  },
  {
   "cell_type": "markdown",
   "metadata": {},
   "source": [
    " La diferencia resultante puede proporcionar información sobre la \"desigualdad\" percibida en términos de habilidad entre los dos jugadores en una partida de ajedrez.\n",
    " Una diferencia de puntaje de Elo de 0 significa que los dos jugadores tienen habilidades aproximadamente iguales. Si la diferencia de puntaje de Elo es positiva, significa que el jugador con piezas blancas se considera más hábil que su oponente. En cambio, si el resultado es negativo, entonces el jugador con piezas negras es mas habilidoso.\n",
    "\n",
    " - Las diferencias de puntaje de Elo cercanas a 0 indican que estas partidas podrían ser más equilibradas en términos de habilidad, lo que podría llevar a resultados más inciertos y competitivos.\n",
    "\n",
    " - Las diferencias de puntaje de Elo más grandes (positivas o negativas) podrían representar partidas donde un jugador claramente tiene una ventaja sobre el otro en términos de habilidad."
   ]
  },
  {
   "cell_type": "markdown",
   "metadata": {},
   "source": [
    "## Ejercicio 6"
   ]
  }
 ],
 "metadata": {
  "kernelspec": {
   "display_name": "Python 3",
   "language": "python",
   "name": "python3"
  },
  "language_info": {
   "codemirror_mode": {
    "name": "ipython",
    "version": 3
   },
   "file_extension": ".py",
   "mimetype": "text/x-python",
   "name": "python",
   "nbconvert_exporter": "python",
   "pygments_lexer": "ipython3",
   "version": "3.11.4"
  },
  "orig_nbformat": 4
 },
 "nbformat": 4,
 "nbformat_minor": 2
}
