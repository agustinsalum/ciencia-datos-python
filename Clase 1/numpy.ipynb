{
 "cells": [
  {
   "cell_type": "markdown",
   "metadata": {},
   "source": [
    "# ¿Qué es la biblioteca NumPy?\n",
    "\n",
    "Numpy es una biblioteca de Python que permite trabajar con matrices y vectores de forma eficiente y rápida."
   ]
  },
  {
   "cell_type": "code",
   "execution_count": 1,
   "metadata": {},
   "outputs": [
    {
     "name": "stdout",
     "output_type": "stream",
     "text": [
      "Requirement already satisfied: numpy in /home/agustin/.pyenv/versions/3.9.17/lib/python3.9/site-packages (1.25.2)\n",
      "\n",
      "\u001b[1m[\u001b[0m\u001b[34;49mnotice\u001b[0m\u001b[1;39;49m]\u001b[0m\u001b[39;49m A new release of pip is available: \u001b[0m\u001b[31;49m23.0.1\u001b[0m\u001b[39;49m -> \u001b[0m\u001b[32;49m23.2.1\u001b[0m\n",
      "\u001b[1m[\u001b[0m\u001b[34;49mnotice\u001b[0m\u001b[1;39;49m]\u001b[0m\u001b[39;49m To update, run: \u001b[0m\u001b[32;49mpip install --upgrade pip\u001b[0m\n",
      "Note: you may need to restart the kernel to use updated packages.\n"
     ]
    }
   ],
   "source": [
    "pip install numpy"
   ]
  },
  {
   "cell_type": "code",
   "execution_count": 2,
   "metadata": {},
   "outputs": [],
   "source": [
    "import numpy as np"
   ]
  },
  {
   "cell_type": "markdown",
   "metadata": {},
   "source": [
    "Creamos un arreglo numpy a partir de una lista de Python o de un archivo de datos usando funciones como np.array."
   ]
  },
  {
   "cell_type": "code",
   "execution_count": 3,
   "metadata": {},
   "outputs": [
    {
     "name": "stdout",
     "output_type": "stream",
     "text": [
      "<class 'list'>\n"
     ]
    }
   ],
   "source": [
    "\n",
    "\n",
    "list = [5, 10.2, 4, .3,6.6]\n",
    "\n",
    "print(type(list))"
   ]
  },
  {
   "cell_type": "markdown",
   "metadata": {},
   "source": [
    "Podemos transformar el conjunto de datos en una arreglo de NumPy usando:\n"
   ]
  },
  {
   "cell_type": "code",
   "execution_count": 4,
   "metadata": {},
   "outputs": [
    {
     "name": "stdout",
     "output_type": "stream",
     "text": [
      "<class 'numpy.ndarray'>\n",
      "[ 5.  10.2  4.   0.3  6.6]\n"
     ]
    }
   ],
   "source": [
    "array = np.array(list)\n",
    "\n",
    "print(type(array))\n",
    "print(array)"
   ]
  },
  {
   "cell_type": "markdown",
   "metadata": {},
   "source": [
    "# Media\n",
    "\n",
    "Calculamos el promedio de los datos:"
   ]
  },
  {
   "cell_type": "code",
   "execution_count": 5,
   "metadata": {},
   "outputs": [
    {
     "name": "stdout",
     "output_type": "stream",
     "text": [
      "5.220000000000001\n",
      "5\n",
      "5.2\n"
     ]
    }
   ],
   "source": [
    "prom = np.mean(array)\n",
    "print(prom)\n",
    "#\n",
    "median = round(prom)\n",
    "print(median)\n",
    "\n",
    "#También podemos decir cuántos decimales queremos obtener\n",
    "median = round(prom,1)\n",
    "print (median)"
   ]
  },
  {
   "cell_type": "markdown",
   "metadata": {},
   "source": [
    "Podemos usar la función NumPy np.sort para ordenar nuestros datos:"
   ]
  },
  {
   "cell_type": "code",
   "execution_count": 6,
   "metadata": {},
   "outputs": [
    {
     "name": "stdout",
     "output_type": "stream",
     "text": [
      "[ 5.  10.2  4.   0.3  6.6]\n",
      "[ 0.3  4.   5.   6.6 10.2]\n"
     ]
    }
   ],
   "source": [
    "print (array)\n",
    "array = np.sort(array)\n",
    "print (array)"
   ]
  },
  {
   "cell_type": "markdown",
   "metadata": {},
   "source": [
    "# Podemos calcular la mediana de los datos"
   ]
  },
  {
   "cell_type": "code",
   "execution_count": 7,
   "metadata": {},
   "outputs": [
    {
     "name": "stdout",
     "output_type": "stream",
     "text": [
      "5.0\n"
     ]
    }
   ],
   "source": [
    "median = np.median(array)\n",
    "\n",
    "print(median)"
   ]
  },
  {
   "cell_type": "markdown",
   "metadata": {},
   "source": [
    "¿Cómo hacemos el gráfico de los datos en un arreglo?"
   ]
  },
  {
   "cell_type": "code",
   "execution_count": 8,
   "metadata": {},
   "outputs": [
    {
     "name": "stdout",
     "output_type": "stream",
     "text": [
      "Requirement already satisfied: matplotlib in /home/agustin/.pyenv/versions/3.9.17/lib/python3.9/site-packages (3.7.2)\n",
      "Requirement already satisfied: pillow>=6.2.0 in /home/agustin/.pyenv/versions/3.9.17/lib/python3.9/site-packages (from matplotlib) (10.0.0)\n",
      "Requirement already satisfied: importlib-resources>=3.2.0 in /home/agustin/.pyenv/versions/3.9.17/lib/python3.9/site-packages (from matplotlib) (6.0.1)\n",
      "Requirement already satisfied: pyparsing<3.1,>=2.3.1 in /home/agustin/.pyenv/versions/3.9.17/lib/python3.9/site-packages (from matplotlib) (3.0.9)\n",
      "Requirement already satisfied: cycler>=0.10 in /home/agustin/.pyenv/versions/3.9.17/lib/python3.9/site-packages (from matplotlib) (0.11.0)\n",
      "Requirement already satisfied: fonttools>=4.22.0 in /home/agustin/.pyenv/versions/3.9.17/lib/python3.9/site-packages (from matplotlib) (4.42.0)\n",
      "Requirement already satisfied: kiwisolver>=1.0.1 in /home/agustin/.pyenv/versions/3.9.17/lib/python3.9/site-packages (from matplotlib) (1.4.4)\n",
      "Requirement already satisfied: contourpy>=1.0.1 in /home/agustin/.pyenv/versions/3.9.17/lib/python3.9/site-packages (from matplotlib) (1.1.0)\n",
      "Requirement already satisfied: numpy>=1.20 in /home/agustin/.pyenv/versions/3.9.17/lib/python3.9/site-packages (from matplotlib) (1.25.2)\n",
      "Requirement already satisfied: python-dateutil>=2.7 in /home/agustin/.pyenv/versions/3.9.17/lib/python3.9/site-packages (from matplotlib) (2.8.2)\n",
      "Requirement already satisfied: packaging>=20.0 in /home/agustin/.pyenv/versions/3.9.17/lib/python3.9/site-packages (from matplotlib) (23.1)\n",
      "Requirement already satisfied: zipp>=3.1.0 in /home/agustin/.pyenv/versions/3.9.17/lib/python3.9/site-packages (from importlib-resources>=3.2.0->matplotlib) (3.16.2)\n",
      "Requirement already satisfied: six>=1.5 in /home/agustin/.pyenv/versions/3.9.17/lib/python3.9/site-packages (from python-dateutil>=2.7->matplotlib) (1.16.0)\n",
      "\n",
      "\u001b[1m[\u001b[0m\u001b[34;49mnotice\u001b[0m\u001b[1;39;49m]\u001b[0m\u001b[39;49m A new release of pip is available: \u001b[0m\u001b[31;49m23.0.1\u001b[0m\u001b[39;49m -> \u001b[0m\u001b[32;49m23.2.1\u001b[0m\n",
      "\u001b[1m[\u001b[0m\u001b[34;49mnotice\u001b[0m\u001b[1;39;49m]\u001b[0m\u001b[39;49m To update, run: \u001b[0m\u001b[32;49mpip install --upgrade pip\u001b[0m\n",
      "Note: you may need to restart the kernel to use updated packages.\n"
     ]
    }
   ],
   "source": [
    "pip install matplotlib"
   ]
  },
  {
   "cell_type": "code",
   "execution_count": 9,
   "metadata": {},
   "outputs": [
    {
     "data": {
      "image/png": "[encoded data removed]",
      "text/plain": [
       "<Figure size 640x480 with 1 Axes>"
      ]
     },
     "metadata": {},
     "output_type": "display_data"
    }
   ],
   "source": [
    "import numpy as np\n",
    "import matplotlib.pyplot as plt\n",
    "\n",
    "# Creamos el array de 5 números\n",
    "y = np.array([1, 3, 2, 4, 5])\n",
    "\n",
    "# Creamos el array de 5 valores para el eje x\n",
    "x = np.arange(1, 6)\n",
    "\n",
    "# Grafica el array de números\n",
    "plt.plot(x, y)\n",
    "\n",
    "# Mostramos el gráfico\n",
    "plt.show()"
   ]
  }
 ],
 "metadata": {
  "kernelspec": {
   "display_name": "Python 3",
   "language": "python",
   "name": "python3"
  },
  "language_info": {
   "codemirror_mode": {
    "name": "ipython",
    "version": 3
   },
   "file_extension": ".py",
   "mimetype": "text/x-python",
   "name": "python",
   "nbconvert_exporter": "python",
   "pygments_lexer": "ipython3",
   "version": "3.9.17"
  },
  "orig_nbformat": 4
 },
 "nbformat": 4,
 "nbformat_minor": 2
}
