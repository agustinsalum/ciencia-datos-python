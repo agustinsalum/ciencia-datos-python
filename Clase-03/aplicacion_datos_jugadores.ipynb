{
 "cells": [
  {
   "cell_type": "markdown",
   "metadata": {},
   "source": [
    "<img src=\"imagenes/aplicacion_datos_jugadores_1.png\">\n",
    "<img src=\"imagenes/aplicacion_datos_jugadores_2.png\">"
   ]
  },
  {
   "cell_type": "markdown",
   "metadata": {},
   "source": [
    "# Messi, Neymar, Ronaldo, Lewandowski All Goals\n",
    "Dataframe: https://www.kaggle.com/datasets/hasibalmuzdadid/messi-neymar-ronaldo-lewandowski-all-goals"
   ]
  },
  {
   "cell_type": "code",
   "execution_count": 4,
   "metadata": {},
   "outputs": [],
   "source": [
    "url1=\"jugadores/messi.csv\"\n",
    "url2=\"jugadores/ronaldo.csv\"\n",
    "url3=\"jugadores/neymar.csv\"\n",
    "url4=\"jugadores/lewandowski.csv\""
   ]
  },
  {
   "cell_type": "code",
   "execution_count": 5,
   "metadata": {},
   "outputs": [],
   "source": [
    "import pandas as pd"
   ]
  },
  {
   "cell_type": "code",
   "execution_count": 6,
   "metadata": {},
   "outputs": [
    {
     "data": {
      "text/html": [
       "<div>\n",
       "<style scoped>\n",
       "    .dataframe tbody tr th:only-of-type {\n",
       "        vertical-align: middle;\n",
       "    }\n",
       "\n",
       "    .dataframe tbody tr th {\n",
       "        vertical-align: top;\n",
       "    }\n",
       "\n",
       "    .dataframe thead th {\n",
       "        text-align: right;\n",
       "    }\n",
       "</style>\n",
       "<table border=\"1\" class=\"dataframe\">\n",
       "  <thead>\n",
       "    <tr style=\"text-align: right;\">\n",
       "      <th></th>\n",
       "      <th>Tournament</th>\n",
       "      <th>Matchday</th>\n",
       "      <th>Date</th>\n",
       "      <th>Venue</th>\n",
       "      <th>Club</th>\n",
       "      <th>Opponent</th>\n",
       "      <th>Result</th>\n",
       "      <th>Position</th>\n",
       "      <th>Minute</th>\n",
       "      <th>When Scored</th>\n",
       "      <th>Goal Type</th>\n",
       "      <th>Assist</th>\n",
       "    </tr>\n",
       "  </thead>\n",
       "  <tbody>\n",
       "    <tr>\n",
       "      <th>0</th>\n",
       "      <td>2ª B - Grupo III</td>\n",
       "      <td>2</td>\n",
       "      <td>9/5/04</td>\n",
       "      <td>Home</td>\n",
       "      <td>FC Barcelona B</td>\n",
       "      <td>Girona FC</td>\n",
       "      <td>1:2</td>\n",
       "      <td>LW</td>\n",
       "      <td>65'</td>\n",
       "      <td>1:2</td>\n",
       "      <td>Left-footed shot</td>\n",
       "      <td>Dani Fernández</td>\n",
       "    </tr>\n",
       "    <tr>\n",
       "      <th>1</th>\n",
       "      <td>2ª B - Grupo III</td>\n",
       "      <td>4</td>\n",
       "      <td>9/18/04</td>\n",
       "      <td>Home</td>\n",
       "      <td>FC Barcelona B</td>\n",
       "      <td>RCD Espanyol B</td>\n",
       "      <td>2:0</td>\n",
       "      <td>LW</td>\n",
       "      <td>88'</td>\n",
       "      <td>2:0</td>\n",
       "      <td>Left-footed shot</td>\n",
       "      <td>Dani Fernández</td>\n",
       "    </tr>\n",
       "    <tr>\n",
       "      <th>2</th>\n",
       "      <td>2ª B - Grupo III</td>\n",
       "      <td>10</td>\n",
       "      <td>10/31/04</td>\n",
       "      <td>Away</td>\n",
       "      <td>FC Barcelona B</td>\n",
       "      <td>Villajoyosa CF</td>\n",
       "      <td>2:1</td>\n",
       "      <td>AM</td>\n",
       "      <td>2'</td>\n",
       "      <td>0:1</td>\n",
       "      <td>Not Applicable</td>\n",
       "      <td>Not Applicable</td>\n",
       "    </tr>\n",
       "    <tr>\n",
       "      <th>3</th>\n",
       "      <td>2ª B - Grupo III</td>\n",
       "      <td>14</td>\n",
       "      <td>11/28/04</td>\n",
       "      <td>Away</td>\n",
       "      <td>FC Barcelona B</td>\n",
       "      <td>UE Figueres</td>\n",
       "      <td>2:2</td>\n",
       "      <td>AM</td>\n",
       "      <td>20'</td>\n",
       "      <td>0:1</td>\n",
       "      <td>Not Applicable</td>\n",
       "      <td>Not Applicable</td>\n",
       "    </tr>\n",
       "    <tr>\n",
       "      <th>4</th>\n",
       "      <td>2ª B - Grupo III</td>\n",
       "      <td>17</td>\n",
       "      <td>12/19/04</td>\n",
       "      <td>Home</td>\n",
       "      <td>FC Barcelona B</td>\n",
       "      <td>CD Alcoyano</td>\n",
       "      <td>2:0</td>\n",
       "      <td>CF</td>\n",
       "      <td>40'</td>\n",
       "      <td>2:0</td>\n",
       "      <td>Left-footed shot</td>\n",
       "      <td>Not Applicable</td>\n",
       "    </tr>\n",
       "    <tr>\n",
       "      <th>5</th>\n",
       "      <td>2ª B - Grupo III</td>\n",
       "      <td>33</td>\n",
       "      <td>4/23/05</td>\n",
       "      <td>Home</td>\n",
       "      <td>FC Barcelona B</td>\n",
       "      <td>UE Figueres</td>\n",
       "      <td>2:2</td>\n",
       "      <td>AM</td>\n",
       "      <td>15'</td>\n",
       "      <td>2:0</td>\n",
       "      <td>Right-footed shot</td>\n",
       "      <td>Paco Montañés</td>\n",
       "    </tr>\n",
       "    <tr>\n",
       "      <th>6</th>\n",
       "      <td>LaLiga</td>\n",
       "      <td>34</td>\n",
       "      <td>5/1/05</td>\n",
       "      <td>Home</td>\n",
       "      <td>FC Barcelona</td>\n",
       "      <td>Albacete Balompié</td>\n",
       "      <td>2:0</td>\n",
       "      <td>CF</td>\n",
       "      <td>90'+1</td>\n",
       "      <td>2:0</td>\n",
       "      <td>Left-footed shot</td>\n",
       "      <td>Ronaldinho</td>\n",
       "    </tr>\n",
       "    <tr>\n",
       "      <th>7</th>\n",
       "      <td>Champions League</td>\n",
       "      <td>Group Stage</td>\n",
       "      <td>11/2/05</td>\n",
       "      <td>Home</td>\n",
       "      <td>FC Barcelona</td>\n",
       "      <td>Panathinaikos Athens</td>\n",
       "      <td>5:0</td>\n",
       "      <td>RW</td>\n",
       "      <td>34'</td>\n",
       "      <td>3:0</td>\n",
       "      <td>Left-footed shot</td>\n",
       "      <td>Not Applicable</td>\n",
       "    </tr>\n",
       "    <tr>\n",
       "      <th>8</th>\n",
       "      <td>LaLiga</td>\n",
       "      <td>13</td>\n",
       "      <td>11/27/05</td>\n",
       "      <td>Home</td>\n",
       "      <td>FC Barcelona</td>\n",
       "      <td>Racing Santander</td>\n",
       "      <td>4:1</td>\n",
       "      <td>RW</td>\n",
       "      <td>51'</td>\n",
       "      <td>2:0</td>\n",
       "      <td>Left-footed shot</td>\n",
       "      <td>Samuel Eto'o</td>\n",
       "    </tr>\n",
       "    <tr>\n",
       "      <th>9</th>\n",
       "      <td>LaLiga</td>\n",
       "      <td>19</td>\n",
       "      <td>1/15/06</td>\n",
       "      <td>Home</td>\n",
       "      <td>FC Barcelona</td>\n",
       "      <td>Athletic Bilbao</td>\n",
       "      <td>2:1</td>\n",
       "      <td>RW</td>\n",
       "      <td>50'</td>\n",
       "      <td>2:1</td>\n",
       "      <td>Left-footed shot</td>\n",
       "      <td>Mark van Bommel</td>\n",
       "    </tr>\n",
       "  </tbody>\n",
       "</table>\n",
       "</div>"
      ],
      "text/plain": [
       "          Tournament     Matchday      Date Venue            Club  \\\n",
       "0  2ª B - Grupo III             2    9/5/04  Home  FC Barcelona B   \n",
       "1  2ª B - Grupo III             4   9/18/04  Home  FC Barcelona B   \n",
       "2  2ª B - Grupo III            10  10/31/04  Away  FC Barcelona B   \n",
       "3  2ª B - Grupo III            14  11/28/04  Away  FC Barcelona B   \n",
       "4  2ª B - Grupo III            17  12/19/04  Home  FC Barcelona B   \n",
       "5  2ª B - Grupo III            33   4/23/05  Home  FC Barcelona B   \n",
       "6            LaLiga            34    5/1/05  Home    FC Barcelona   \n",
       "7  Champions League   Group Stage   11/2/05  Home    FC Barcelona   \n",
       "8            LaLiga            13  11/27/05  Home    FC Barcelona   \n",
       "9            LaLiga            19   1/15/06  Home    FC Barcelona   \n",
       "\n",
       "               Opponent Result Position Minute When Scored          Goal Type  \\\n",
       "0             Girona FC    1:2       LW    65'         1:2   Left-footed shot   \n",
       "1        RCD Espanyol B    2:0       LW    88'         2:0   Left-footed shot   \n",
       "2        Villajoyosa CF    2:1       AM     2'         0:1     Not Applicable   \n",
       "3           UE Figueres    2:2       AM    20'         0:1     Not Applicable   \n",
       "4           CD Alcoyano    2:0       CF    40'         2:0   Left-footed shot   \n",
       "5           UE Figueres    2:2       AM    15'         2:0  Right-footed shot   \n",
       "6     Albacete Balompié    2:0       CF  90'+1         2:0   Left-footed shot   \n",
       "7  Panathinaikos Athens    5:0       RW    34'         3:0   Left-footed shot   \n",
       "8      Racing Santander    4:1       RW    51'         2:0   Left-footed shot   \n",
       "9       Athletic Bilbao    2:1       RW    50'         2:1   Left-footed shot   \n",
       "\n",
       "            Assist  \n",
       "0   Dani Fernández  \n",
       "1   Dani Fernández  \n",
       "2   Not Applicable  \n",
       "3   Not Applicable  \n",
       "4   Not Applicable  \n",
       "5    Paco Montañés  \n",
       "6       Ronaldinho  \n",
       "7   Not Applicable  \n",
       "8     Samuel Eto'o  \n",
       "9  Mark van Bommel  "
      ]
     },
     "execution_count": 6,
     "metadata": {},
     "output_type": "execute_result"
    }
   ],
   "source": [
    "\n",
    "df = pd.read_csv(url1) # Esto crea un dataframe con los datos del archivo csv\n",
    "df.head(10) # Esto muestra las primeras 10 filas del dataframe"
   ]
  },
  {
   "cell_type": "code",
   "execution_count": 7,
   "metadata": {},
   "outputs": [
    {
     "data": {
      "text/html": [
       "<div>\n",
       "<style scoped>\n",
       "    .dataframe tbody tr th:only-of-type {\n",
       "        vertical-align: middle;\n",
       "    }\n",
       "\n",
       "    .dataframe tbody tr th {\n",
       "        vertical-align: top;\n",
       "    }\n",
       "\n",
       "    .dataframe thead th {\n",
       "        text-align: right;\n",
       "    }\n",
       "</style>\n",
       "<table border=\"1\" class=\"dataframe\">\n",
       "  <thead>\n",
       "    <tr style=\"text-align: right;\">\n",
       "      <th></th>\n",
       "      <th>Tournament</th>\n",
       "      <th>Matchday</th>\n",
       "      <th>Date</th>\n",
       "      <th>Venue</th>\n",
       "      <th>Club</th>\n",
       "      <th>Opponent</th>\n",
       "      <th>Result</th>\n",
       "      <th>Position</th>\n",
       "      <th>Minute</th>\n",
       "      <th>When Scored</th>\n",
       "      <th>Goal Type</th>\n",
       "      <th>Assist</th>\n",
       "    </tr>\n",
       "  </thead>\n",
       "  <tbody>\n",
       "    <tr>\n",
       "      <th>0</th>\n",
       "      <td>Liga Portugal</td>\n",
       "      <td>6</td>\n",
       "      <td>10/7/02</td>\n",
       "      <td>Home</td>\n",
       "      <td>Sporting CP</td>\n",
       "      <td>Moreirense FC</td>\n",
       "      <td>3:0</td>\n",
       "      <td>LW</td>\n",
       "      <td>34'</td>\n",
       "      <td>2:0</td>\n",
       "      <td>Solo run</td>\n",
       "      <td>Not Applicable</td>\n",
       "    </tr>\n",
       "    <tr>\n",
       "      <th>1</th>\n",
       "      <td>Liga Portugal</td>\n",
       "      <td>6</td>\n",
       "      <td>10/7/02</td>\n",
       "      <td>Home</td>\n",
       "      <td>Sporting CP</td>\n",
       "      <td>Moreirense FC</td>\n",
       "      <td>3:0</td>\n",
       "      <td>LW</td>\n",
       "      <td>90'+5</td>\n",
       "      <td>3:0</td>\n",
       "      <td>Header</td>\n",
       "      <td>Rui Jorge</td>\n",
       "    </tr>\n",
       "    <tr>\n",
       "      <th>2</th>\n",
       "      <td>Liga Portugal</td>\n",
       "      <td>8</td>\n",
       "      <td>10/26/02</td>\n",
       "      <td>Away</td>\n",
       "      <td>Sporting CP</td>\n",
       "      <td>Boavista FC</td>\n",
       "      <td>1:2</td>\n",
       "      <td>Not Applicable</td>\n",
       "      <td>88'</td>\n",
       "      <td>1:2</td>\n",
       "      <td>Right-footed shot</td>\n",
       "      <td>Carlos Martins</td>\n",
       "    </tr>\n",
       "    <tr>\n",
       "      <th>3</th>\n",
       "      <td>Taça de Portugal</td>\n",
       "      <td>Fourth Round</td>\n",
       "      <td>11/24/02</td>\n",
       "      <td>Home</td>\n",
       "      <td>Sporting CP</td>\n",
       "      <td>CD Estarreja</td>\n",
       "      <td>4:1</td>\n",
       "      <td>Not Applicable</td>\n",
       "      <td>67'</td>\n",
       "      <td>3:1</td>\n",
       "      <td>Left-footed shot</td>\n",
       "      <td>César Prates</td>\n",
       "    </tr>\n",
       "    <tr>\n",
       "      <th>4</th>\n",
       "      <td>Taça de Portugal</td>\n",
       "      <td>Fifth Round</td>\n",
       "      <td>12/18/02</td>\n",
       "      <td>Home</td>\n",
       "      <td>Sporting CP</td>\n",
       "      <td>FC Oliveira do Hospital</td>\n",
       "      <td>8:1</td>\n",
       "      <td>Not Applicable</td>\n",
       "      <td>13'</td>\n",
       "      <td>3:0</td>\n",
       "      <td>Left-footed shot</td>\n",
       "      <td>Not Applicable</td>\n",
       "    </tr>\n",
       "  </tbody>\n",
       "</table>\n",
       "</div>"
      ],
      "text/plain": [
       "          Tournament      Matchday      Date Venue         Club  \\\n",
       "0     Liga Portugal              6   10/7/02  Home  Sporting CP   \n",
       "1     Liga Portugal              6   10/7/02  Home  Sporting CP   \n",
       "2     Liga Portugal              8  10/26/02  Away  Sporting CP   \n",
       "3  Taça de Portugal   Fourth Round  11/24/02  Home  Sporting CP   \n",
       "4  Taça de Portugal    Fifth Round  12/18/02  Home  Sporting CP   \n",
       "\n",
       "                  Opponent Result        Position Minute When Scored  \\\n",
       "0            Moreirense FC    3:0              LW    34'         2:0   \n",
       "1            Moreirense FC    3:0              LW  90'+5         3:0   \n",
       "2              Boavista FC    1:2  Not Applicable    88'         1:2   \n",
       "3             CD Estarreja    4:1  Not Applicable    67'         3:1   \n",
       "4  FC Oliveira do Hospital    8:1  Not Applicable    13'         3:0   \n",
       "\n",
       "           Goal Type          Assist  \n",
       "0           Solo run  Not Applicable  \n",
       "1             Header       Rui Jorge  \n",
       "2  Right-footed shot  Carlos Martins  \n",
       "3   Left-footed shot    César Prates  \n",
       "4   Left-footed shot  Not Applicable  "
      ]
     },
     "execution_count": 7,
     "metadata": {},
     "output_type": "execute_result"
    }
   ],
   "source": [
    "df = pd.read_csv(url2) # Esto crea un dataframe con los datos del archivo csv\n",
    "df.head() # Esto muestra las primeras filas del dataframe"
   ]
  },
  {
   "cell_type": "markdown",
   "metadata": {},
   "source": [
    "<img src=\"imagenes/jugadores_3.png\">\n",
    "<img src=\"imagenes/jugadores_4.png\">"
   ]
  },
  {
   "cell_type": "code",
   "execution_count": 8,
   "metadata": {},
   "outputs": [
    {
     "data": {
      "text/plain": [
       "'\\ngoles = cuantitativa, discreta\\ntorneos = cualitativo, Nominal\\noponente = cualitativo; ordinal\\nresultado = cuantitativo, discreta\\nposicion = Nominal\\nasistencia = Nominal\\ntiempo = Continua\\n'"
      ]
     },
     "execution_count": 8,
     "metadata": {},
     "output_type": "execute_result"
    }
   ],
   "source": [
    "# Observa los datasets propuestos y clasifica las variables\n",
    "\"\"\"\n",
    "goles = cuantitativa, discreta\n",
    "torneos = cualitativo, Nominal\n",
    "oponente = cualitativo; ordinal\n",
    "resultado = cuantitativo, discreta\n",
    "posicion = Nominal\n",
    "asistencia = Nominal\n",
    "tiempo = Continua\n",
    "\"\"\""
   ]
  },
  {
   "cell_type": "markdown",
   "metadata": {},
   "source": [
    "<img src=\"imagenes/jugadores_5.png\">\n",
    "<img src=\"imagenes/jugadores_6.png\">"
   ]
  },
  {
   "cell_type": "code",
   "execution_count": 9,
   "metadata": {},
   "outputs": [
    {
     "data": {
      "text/plain": [
       "'\\nPOSICION, PUEDEN SER DELANTERO, MEDIOCAMPISTA DEFENSOR, ARQUERO ETC.\\nson categorias sin un orden especifico.\\n'"
      ]
     },
     "execution_count": 9,
     "metadata": {},
     "output_type": "execute_result"
    }
   ],
   "source": [
    "# Observa si en el dataset propuesto hay una variable que se puede medir según escala nominal.\n",
    "\n",
    "\"\"\"\n",
    "POSICION, PUEDEN SER DELANTERO, MEDIOCAMPISTA DEFENSOR, ARQUERO ETC.\n",
    "son categorias sin un orden especifico.\n",
    "\"\"\""
   ]
  },
  {
   "cell_type": "markdown",
   "metadata": {},
   "source": [
    "<img src=\"imagenes/jugadores_7.png\">"
   ]
  },
  {
   "cell_type": "code",
   "execution_count": 10,
   "metadata": {},
   "outputs": [
    {
     "data": {
      "text/plain": [
       "'\\nRENDIMIENTO,HABILIDAD, CONDICION FIICA, EXPERIENCIA\\n'"
      ]
     },
     "execution_count": 10,
     "metadata": {},
     "output_type": "execute_result"
    }
   ],
   "source": [
    "# Observa si en el dataset propuesto hay datos que se pueden medir con una escala ordinal\n",
    "\n",
    "\"\"\"\n",
    "RENDIMIENTO,HABILIDAD, CONDICION FIICA, EXPERIENCIA\n",
    "\"\"\""
   ]
  },
  {
   "cell_type": "markdown",
   "metadata": {},
   "source": [
    "<img src=\"imagenes/jugadores_8.png\">"
   ]
  },
  {
   "cell_type": "code",
   "execution_count": 11,
   "metadata": {},
   "outputs": [
    {
     "data": {
      "text/plain": [
       "'\\nSeria la repeticion de datos\\nNumero de tarjetas rojas recibidas, numero de tarjetas amarillas recibidas,etc. De esta forma se debe llamar a la variable\")\\nVariables discretas\")\\n\\nDaños neurologios seria la escala\")\\nCuantas personas presentan determinado daño neurologio seria la variable\")\\n'"
      ]
     },
     "execution_count": 11,
     "metadata": {},
     "output_type": "execute_result"
    }
   ],
   "source": [
    "\"\"\"\n",
    "Seria la repeticion de datos\n",
    "Numero de tarjetas rojas recibidas, numero de tarjetas amarillas recibidas,etc. De esta forma se debe llamar a la variable\")\n",
    "Variables discretas\")\n",
    "\n",
    "Daños neurologios seria la escala\")\n",
    "Cuantas personas presentan determinado daño neurologio seria la variable\")\n",
    "\"\"\""
   ]
  },
  {
   "cell_type": "markdown",
   "metadata": {},
   "source": [
    "<img src=\"imagenes/jugadores_9.png\">"
   ]
  },
  {
   "cell_type": "code",
   "execution_count": 12,
   "metadata": {},
   "outputs": [
    {
     "name": "stdout",
     "output_type": "stream",
     "text": [
      "Result\n",
      "3:0     50\n",
      "2:1     43\n",
      "1:2     38\n",
      "0:2     37\n",
      "4:0     37\n",
      "2:0     35\n",
      "1:4     32\n",
      "4:1     32\n",
      "3:1     32\n",
      "3:2     29\n",
      "1:3     27\n",
      "0:3     26\n",
      "2:2     26\n",
      "5:1     24\n",
      "4:2     21\n",
      "1:1     21\n",
      "0:4     20\n",
      "2:3     13\n",
      "0:1     13\n",
      "5:0     12\n",
      "0:5     12\n",
      "7:1     11\n",
      "0:6     10\n",
      "5:2      9\n",
      "2:6      7\n",
      "3:4      7\n",
      "4:3      7\n",
      "6:0      7\n",
      "8:0      7\n",
      "7:3      6\n",
      "1:6      6\n",
      "6:1      6\n",
      "1:5      6\n",
      "1:0      6\n",
      "2:4      6\n",
      "6:2      5\n",
      "9:1      5\n",
      "3:3      4\n",
      "6:3      4\n",
      "7:0      3\n",
      "8:1      3\n",
      "2:8      3\n",
      "2:5      2\n",
      "3:5      2\n",
      "10:2     2\n",
      "6:5      1\n",
      "Name: count, dtype: int64\n"
     ]
    }
   ],
   "source": [
    "#  A partir del dataset propuesto realiza una distribución de frecuencias de variables discretas\n",
    "\n",
    "\"\"\"\n",
    "Para calcular la frecuencia relativa y absoluta de una variable numérica, primero necesitas tener una muestra o conjunto de datos con observaciones de la variable en cuestión. Luego, puedes seguir los siguientes pasos:\n",
    "\n",
    "Supongamos que tienes una muestra de datos de una variable numérica X, y tienes n observaciones en total.\n",
    "  - Frecuencia Absoluta (Fa): La frecuencia absoluta es simplemente el número de veces que aparece cada valor en la muestra.\n",
    "  - Frecuencia Relativa (Fr): La frecuencia relativa se calcula dividiendo la frecuencia absoluta (Fa) de cada valor por el total de observaciones (n). Representa la proporción o el porcentaje de veces que aparece cada valor en la muestra.\n",
    "  - Frecuencia absoluta acumulada (faa): La frecuencia absoluta acumulada de un valor es la suma de las frecuencias absolutas de ese valor y todos los valores menores que él.\n",
    "  - Frecuencia Relativa Acumulada (Fra): La frecuencia relativa acumulada se calcula sumando las frecuencias relativas de los valores anteriores al valor actual. Es decir, representa la acumulación de las frecuencias relativas a medida que avanzas a través de los valores de la variable.\n",
    "\n",
    "Aquí tienes la fórmula para calcular cada una de estas frecuencias:\n",
    "\n",
    "  - Frecuencia Absoluta (Fa) para un valor específico x: Cantidad de veces que aparece el valor x en la muestra.\n",
    "  - Frecuencia Relativa (Fr) para un valor específico x: Fr(x) = Fa(x) / n\n",
    "  - Frecuencia Absoluta Acumulada (FAA) para un valor especifico x: Σ Fa(x) desde i = 1 hasta i = n\n",
    "  - Frecuencia Relativa Acumulada (Fra) para un valor específico x: Fra(x) = Σ Fr(xi) para xi ≤ x\n",
    "\n",
    "Dónde:\n",
    "  - Fa(x): Frecuencia absoluta del valor x.\n",
    "  - Fr(x): Frecuencia relativa del valor x.\n",
    "  - Fra(x): Frecuencia relativa acumulada del valor x.\n",
    "  - n: Total de observaciones en la muestra.\n",
    "\n",
    "Ejemplo:\n",
    "\n",
    "Supongamos que tienes la siguiente muestra de datos de una variable numérica X:\n",
    "\n",
    "[5, 3, 7, 5, 9, 7, 5, 7, 3, 9]\n",
    "\n",
    "Ordenamos:\n",
    "\n",
    "[3, 3, 5, 5, 5, 7, 7, 7, 9, 9]\n",
    "\n",
    "Frecuencia Absoluta:\n",
    "\n",
    "\n",
    "  - Fa(3) = 2 (el valor 3 aparece 2 veces)\n",
    "  - Fa(5) = 3 (el valor 5 aparece 3 veces)\n",
    "  - Fa(7) = 3 (el valor 7 aparece 3 veces)\n",
    "  - Fa(9) = 2 (el valor 9 aparece 2 veces)\n",
    "\n",
    "Frecuencia Relativa:\n",
    "\n",
    "  -Fr(3) = 2 / 10 = 0.2 (el valor 3 aparece en el 20% de las observaciones)\n",
    "  -Fr(5) = 3 / 10 = 0.3 (el valor 5 aparece en el 30% de las observaciones)\n",
    "  -Fr(7) = 3 / 10 = 0.3 (el valor 7 aparece en el 30% de las observaciones)\n",
    "  -Fr(9) = 2 / 10 = 0.2 (el valor 9 aparece en el 20% de las observaciones)\n",
    "\n",
    "Frecuencia Absoluta Acumulada:\n",
    "\n",
    "  -FAA(3) = fa(3) = 2\n",
    "  -FAA(5) = fa(3) + fa(5) = 2 + 3 = 5\n",
    "  -FAA(7) = fa(3) + fa(5) + fa(7) = 2 + 3 + 3 = 8\n",
    "  -FAA(9) = fa(3) + fa(5) + fa(7) + fa(9) = 2 + 3 + 3 + 2 = 10\n",
    "\n",
    "Frecuencia Relativa Acumulada:\n",
    "\n",
    "  -Fra(3) = Fr(3) = 0.2 (hasta el valor 3, el 20% de las observaciones son iguales o menores a 3)\n",
    "  -Fra(5) = Fr(3) + Fr(5) = 0.2 + 0.3 = 0.5 (hasta el valor 5, el 50% de las observaciones son iguales o menores a 5)\n",
    "  -Fra(7) = Fr(5) + Fr(3) + Fr(7) = 0.3 + 0.2 + 0.3 = 0.8 (hasta el valor 7, el 80% de las observaciones son iguales o menores a 7)\n",
    "  -Fra(9) = Fr(5) + Fr(3) + Fr(7) + Fr(9) = 0.3 + 0.2 + 0.3 + 0.2 = 1.0 (hasta el valor 9, el 100% de las observaciones son iguales o menores a 9)\n",
    "\n",
    "\"\"\"\n",
    "\n",
    "# https://joserzapata.github.io/courses/python-ciencia-datos/pandas/\n",
    "\n",
    "discrete_column = 'Result'\n",
    "\n",
    "# contar la cantidad de ocurrencias de cada valor único en esa columna\n",
    "\n",
    "frequencies = df[discrete_column].value_counts(sort=True)\n",
    "print(frequencies)\n"
   ]
  },
  {
   "cell_type": "markdown",
   "metadata": {},
   "source": [
    "<img src=\"imagenes/jugadores_10.png\">"
   ]
  },
  {
   "cell_type": "code",
   "execution_count": 13,
   "metadata": {},
   "outputs": [
    {
     "name": "stdout",
     "output_type": "stream",
     "text": [
      "Minute\n",
      "90'      17\n",
      "45'      15\n",
      "89'      15\n",
      "76'      14\n",
      "23'      14\n",
      "         ..\n",
      "105'      1\n",
      "109'      1\n",
      "90'+7     1\n",
      "45'+7     1\n",
      "45'+2     1\n",
      "Name: count, Length: 106, dtype: int64\n"
     ]
    }
   ],
   "source": [
    "#  A partir del dataset propuesto realiza una distribución de frecuencias de variables continuas\n",
    "\n",
    "\n",
    "continuous_column = 'Minute'\n",
    "\n",
    "# contar la cantidad de ocurrencias de cada valor único en esa columna\n",
    "frequencies = df[continuous_column].value_counts(sort=True)\n",
    "print(frequencies)\n"
   ]
  },
  {
   "cell_type": "markdown",
   "metadata": {},
   "source": [
    "<img src=\"imagenes/jugadores_11.png\">\n",
    "<img src=\"imagenes/jugadores_12.png\">"
   ]
  },
  {
   "cell_type": "code",
   "execution_count": 14,
   "metadata": {},
   "outputs": [
    {
     "name": "stdout",
     "output_type": "stream",
     "text": [
      "Mean: 2.4\n"
     ]
    }
   ],
   "source": [
    "# A partir de los datos, calcula la media para un caso discreto\n",
    "\n",
    "# Crear el DataFrame con los datos\n",
    "df_aux = pd.DataFrame({\"Result\": [1, 1, 2, 3, 5]})\n",
    "df_aux = df_aux.sort_values(by=\"Result\")\n",
    "\n",
    "mean = df_aux[\"Result\"].mean()\n",
    "\n",
    "print(f\"Mean: {mean}\")\n"
   ]
  },
  {
   "cell_type": "markdown",
   "metadata": {},
   "source": [
    "<img src=\"imagenes/jugadores_13.png\">"
   ]
  },
  {
   "cell_type": "code",
   "execution_count": 15,
   "metadata": {},
   "outputs": [
    {
     "data": {
      "text/plain": [
       "<function matplotlib.pyplot.show(close=None, block=None)>"
      ]
     },
     "execution_count": 15,
     "metadata": {},
     "output_type": "execute_result"
    },
    {
     "data": {
      "image/png": "[encoded data removed]",
      "text/plain": [
       "<Figure size 640x480 with 1 Axes>"
      ]
     },
     "metadata": {},
     "output_type": "display_data"
    }
   ],
   "source": [
    "# A partir de los datos propuestos, realiza un histograma usando una veriable continua.\n",
    "\n",
    "\n",
    "import matplotlib.pyplot as plt\n",
    "\n",
    "data = {\"Minute\":[1,1,1,1,2,2,2,3,3,8,8,8,8,8,8,8 ]}\n",
    "df_aux_2 = pd.DataFrame(data)\n",
    "df_aux_2 = df_aux_2.sort_values(by=\"Minute\")\n",
    "#\n",
    "plt.hist(df_aux_2[\"Minute\"])\n",
    "plt.title(\"minute histogram\")\n",
    "plt.xlabel(\"Minute\")\n",
    "plt.ylabel(\"Frequency\")\n",
    "plt.grid(True)\n",
    "plt.show\n",
    "\n"
   ]
  },
  {
   "cell_type": "markdown",
   "metadata": {},
   "source": [
    "<img src=\"imagenes/jugadores_14.png\">"
   ]
  },
  {
   "cell_type": "code",
   "execution_count": 16,
   "metadata": {},
   "outputs": [
    {
     "name": "stdout",
     "output_type": "stream",
     "text": [
      "Median: 2.0\n"
     ]
    }
   ],
   "source": [
    "# A partir de los datos propuesto, calcula la mediana.\n",
    "\n",
    "\n",
    "df_aux_3 = pd.DataFrame({\"Result\":[1,1,1,2,2,8,8]})\n",
    "df_aux_3 = df_aux_3.sort_values(by=\"Result\")\n",
    "median = df_aux_3[\"Result\"].median()\n",
    "print(f\"Median: {median}\")"
   ]
  },
  {
   "cell_type": "markdown",
   "metadata": {},
   "source": [
    "<img src=\"imagenes/jugadores_15.png\">"
   ]
  },
  {
   "cell_type": "code",
   "execution_count": 17,
   "metadata": {},
   "outputs": [],
   "source": [
    "import numpy as np"
   ]
  },
  {
   "cell_type": "code",
   "execution_count": 18,
   "metadata": {},
   "outputs": [
    {
     "name": "stdout",
     "output_type": "stream",
     "text": [
      "Rango: 3\n",
      "Rango intercuartil: 2.25\n"
     ]
    }
   ],
   "source": [
    "# A partir del dataset propuesto, calcula rango y rango intercuartil.\n",
    "\n",
    "df_aux_4 = pd.DataFrame({\"Result\": [1, 1, 1, 2, 2, 2, 3, 3, 4, 4, 4, 4]})\n",
    "df_aux_4 = df_aux_4.sort_values(by=\"Result\")\n",
    "\n",
    "range = df_aux_4['Result'].max() - df_aux_4['Result'].min()\n",
    "\n",
    "# Calcular el rango intercuartil\n",
    "Q1 = np.percentile(df_aux_4['Result'], 25)\n",
    "Q3 = np.percentile(df_aux_4['Result'], 75)\n",
    "interquartile_range = Q3 - Q1\n",
    "\n",
    "print(f\"Rango: {range}\")\n",
    "print(f\"Rango intercuartil: {interquartile_range}\")"
   ]
  },
  {
   "cell_type": "markdown",
   "metadata": {},
   "source": [
    "<img src=\"imagenes/jugadores_16.png\">"
   ]
  },
  {
   "cell_type": "code",
   "execution_count": 19,
   "metadata": {},
   "outputs": [
    {
     "name": "stdout",
     "output_type": "stream",
     "text": [
      "Var : 1.537878787878788\n"
     ]
    }
   ],
   "source": [
    "# A partir del dataset propuesto, calcula la varianza de los datos.\n",
    "\n",
    "df_aux_5 = pd.DataFrame({\"Result\": [1, 1, 1, 2, 2, 2, 3, 3, 4, 4, 4, 4]})\n",
    "df_aux_5 = df_aux_5.sort_values(by=\"Result\")\n",
    "\n",
    "var = df_aux_5[\"Result\"].var()\n",
    "print(\"Var :\", var)"
   ]
  },
  {
   "cell_type": "markdown",
   "metadata": {},
   "source": [
    "<img src=\"imagenes/jugadores_17.png\">"
   ]
  },
  {
   "cell_type": "code",
   "execution_count": 20,
   "metadata": {},
   "outputs": [
    {
     "name": "stdout",
     "output_type": "stream",
     "text": [
      "Standard_deviation  : 1.2401124093721456\n"
     ]
    }
   ],
   "source": [
    "# A partir de los datos propuestos, calcula la desviación estándar.\n",
    "\n",
    "df_aux_6 = pd.DataFrame({\"Result\": [1, 1, 1, 2, 2, 2, 3, 3, 4, 4, 4, 4]})\n",
    "df_aux_6 = df_aux_6.sort_values(by=\"Result\")\n",
    "\n",
    "standard_deviation = df_aux_6[\"Result\"].std()\n",
    "print(\"Standard_deviation  :\", standard_deviation)"
   ]
  },
  {
   "cell_type": "markdown",
   "metadata": {},
   "source": [
    "<img src=\"imagenes/jugadores_18.png\">\n",
    "<img src=\"imagenes/jugadores_19.png\">"
   ]
  },
  {
   "cell_type": "code",
   "execution_count": 21,
   "metadata": {},
   "outputs": [
    {
     "name": "stdout",
     "output_type": "stream",
     "text": [
      "0.25    1.75\n",
      "0.50    2.50\n",
      "0.75    4.00\n",
      "Name: Result, dtype: float64\n"
     ]
    }
   ],
   "source": [
    "# Realizamos un ejemplo\n",
    "\n",
    "\n",
    "quartiles = df_aux_6[\"Result\"].quantile ([0.25, 0.5, 0.75])\n",
    "print (quartiles)"
   ]
  },
  {
   "cell_type": "markdown",
   "metadata": {},
   "source": [
    "<img src=\"imagenes/jugadores_20.png\">"
   ]
  },
  {
   "cell_type": "code",
   "execution_count": 22,
   "metadata": {},
   "outputs": [
    {
     "data": {
      "text/plain": [
       "<function matplotlib.pyplot.show(close=None, block=None)>"
      ]
     },
     "execution_count": 22,
     "metadata": {},
     "output_type": "execute_result"
    },
    {
     "data": {
      "image/png": "[encoded data removed]",
      "text/plain": [
       "<Figure size 640x480 with 1 Axes>"
      ]
     },
     "metadata": {},
     "output_type": "display_data"
    }
   ],
   "source": [
    "# A partir de los datos propuestos, representa un diagrama de cajas.\n",
    "\n",
    "df_aux_7 = pd.DataFrame({\"Result\": [1, 1, 1, 2, 2, 2, 3, 3, 4, 4, 4, 4]})\n",
    "df_aux_7 = df_aux_7.sort_values(by=\"Result\")\n",
    "\n",
    "plt.boxplot(df_aux_7[\"Result\"])\n",
    "plt.title(\"Box plot\")\n",
    "plt.xlabel(\"Result\")\n",
    "plt.ylabel(\"Frequency\")\n",
    "plt.show"
   ]
  },
  {
   "cell_type": "markdown",
   "metadata": {},
   "source": [
    "<img src=\"imagenes/jugadores_21.png\">"
   ]
  }
 ],
 "metadata": {
  "kernelspec": {
   "display_name": "Python 3",
   "language": "python",
   "name": "python3"
  },
  "language_info": {
   "codemirror_mode": {
    "name": "ipython",
    "version": 3
   },
   "file_extension": ".py",
   "mimetype": "text/x-python",
   "name": "python",
   "nbconvert_exporter": "python",
   "pygments_lexer": "ipython3",
   "version": "3.9.17"
  },
  "orig_nbformat": 4
 },
 "nbformat": 4,
 "nbformat_minor": 2
}
