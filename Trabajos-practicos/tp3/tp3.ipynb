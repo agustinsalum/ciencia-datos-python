{
 "cells": [
  {
   "cell_type": "markdown",
   "metadata": {},
   "source": [
    "# TRABAJO PRACTICO N 3\n"
   ]
  },
  {
   "cell_type": "markdown",
   "metadata": {},
   "source": [
    "***TEMAS A DESARROLLAR:***\n",
    "\n",
    "Nociones de Probabilidad, simulación de procesos aleatorios, cálculo de parámetros estadisticos: Media o Valor Esperado(PROMEDIO), Mediana, Desvio Estandar. DISTRIBUCIONES DE PROABABILIDAD más frecuentes, por ejemplo la Normal."
   ]
  },
  {
   "cell_type": "markdown",
   "metadata": {},
   "source": [
    "## Funciones estadísticas para análisis exploratorio de datos\n",
    "\n",
    "A continuación se presentan ejemplos de funciones estadísticas para el análisis exploratorio de datos utilizando NumPy:"
   ]
  },
  {
   "cell_type": "markdown",
   "metadata": {},
   "source": [
    "#### Crear array aleatorio\n",
    "\n",
    "En esta celda, se utiliza la función np.random.rand() de NumPy para crear un array de números aleatorios con una forma específica. Luego, se imprime el array."
   ]
  },
  {
   "cell_type": "code",
   "execution_count": 7,
   "metadata": {},
   "outputs": [
    {
     "name": "stdout",
     "output_type": "stream",
     "text": [
      "Array aleatorio: [[3 4 4]\n",
      " [4 6 7]\n",
      " [2 7 3]\n",
      " [1 9 2]]\n"
     ]
    }
   ],
   "source": [
    "import numpy as np\n",
    "random_array = np.random.randint(0,10, (4,3))\n",
    "print(\"Array aleatorio:\", random_array)"
   ]
  },
  {
   "cell_type": "markdown",
   "metadata": {},
   "source": [
    "#### Media\n",
    "\n",
    "En esta celda, se crea un array 'array' y se utiliza la función np.mean() de NumPy para calcular la media del array. Luego, se imprime el resultado."
   ]
  },
  {
   "cell_type": "code",
   "execution_count": 8,
   "metadata": {},
   "outputs": [
    {
     "name": "stdout",
     "output_type": "stream",
     "text": [
      "Media: 3.0\n"
     ]
    }
   ],
   "source": [
    "array = np.array([1, 2, 3, 4, 5])\n",
    "media = np.mean(array)\n",
    "print(\"Media:\", media)"
   ]
  },
  {
   "cell_type": "markdown",
   "metadata": {},
   "source": [
    "#### Desviación estándar\n",
    "\n",
    "En esta celda, se crea un array 'array' y se utiliza la función np.std() de NumPy para calcular la desviación estándar del array. Luego, se imprime el resultado."
   ]
  },
  {
   "cell_type": "code",
   "execution_count": 28,
   "metadata": {},
   "outputs": [
    {
     "name": "stdout",
     "output_type": "stream",
     "text": [
      "Desviación estándar: 1.4142135623730951\n"
     ]
    }
   ],
   "source": [
    "array = np.array([1, 2, 3, 4, 5])\n",
    "desviacion_estandar = np.std(array)\n",
    "print(\"Desviación estándar:\", desviacion_estandar)"
   ]
  },
  {
   "cell_type": "markdown",
   "metadata": {},
   "source": [
    "#### Varianza\n",
    "\n",
    "La función np.var() se utiliza para calcular la varianza de un array.\n",
    "Ejemplo de uso:"
   ]
  },
  {
   "cell_type": "code",
   "execution_count": 9,
   "metadata": {},
   "outputs": [
    {
     "name": "stdout",
     "output_type": "stream",
     "text": [
      "Varianza: 2.0\n"
     ]
    }
   ],
   "source": [
    "array = np.array([1, 2, 3, 4, 5])\n",
    "varianza = np.var(array)\n",
    "print(\"Varianza:\", varianza)"
   ]
  },
  {
   "cell_type": "markdown",
   "metadata": {},
   "source": [
    "#### Valor mínimo\n",
    "\n",
    "En esta celda, se crea un array 'array' y se utiliza la función np.min() de NumPy para encontrar el valor mínimo del array. Luego, se imprime el resultado."
   ]
  },
  {
   "cell_type": "code",
   "execution_count": 10,
   "metadata": {},
   "outputs": [
    {
     "name": "stdout",
     "output_type": "stream",
     "text": [
      "Valor mínimo: [-3 -1  0 -3 -3]\n",
      "[[-1 -1  2  1 -2]\n",
      " [ 0  0  0  2 -3]\n",
      " [-2  1  1  1 -3]\n",
      " [-2  0  2 -3  2]\n",
      " [-3  2  2  1 -1]]\n"
     ]
    }
   ],
   "source": [
    "array = np.array([1, 2, 3, 4, 5])\n",
    "matriz=np.random.randint(-3,3,(5,5))\n",
    "#minimo = np.min(array)\n",
    "minimo = np.min(matriz, axis=0)\n",
    "print(\"Valor mínimo:\", minimo)\n",
    "print( matriz)"
   ]
  },
  {
   "cell_type": "markdown",
   "metadata": {},
   "source": [
    "#### Valor máximo\n",
    "\n",
    "En esta celda, se crea un array 'array' y se utiliza la función np.max() de NumPy para encontrar el valor máximo del array. Luego, se imprime el resultado."
   ]
  },
  {
   "cell_type": "code",
   "execution_count": 11,
   "metadata": {},
   "outputs": [
    {
     "name": "stdout",
     "output_type": "stream",
     "text": [
      "Valor máximo: 5\n"
     ]
    }
   ],
   "source": [
    "maximo = np.max(array)\n",
    "print(\"Valor máximo:\", maximo)"
   ]
  },
  {
   "cell_type": "markdown",
   "metadata": {},
   "source": [
    "#### Gráfico de dispersión\n",
    "\n",
    "En esta celda, se crea un array 'x' con valores aleatorios y un array 'y' con valores aleatorios. Luego, se utiliza la biblioteca Matplotlib para trazar un gráfico de dispersión con 'x' en el eje x y 'y' en el eje y. También se agrega etiquetas y un título al gráfico."
   ]
  },
  {
   "cell_type": "code",
   "execution_count": 16,
   "metadata": {},
   "outputs": [
    {
     "data": {
      "image/png": "[encoded data removed]",
      "text/plain": [
       "<Figure size 640x480 with 1 Axes>"
      ]
     },
     "metadata": {},
     "output_type": "display_data"
    }
   ],
   "source": [
    "import matplotlib.pyplot as plt\n",
    "\n",
    "x = np.random.rand(100)\n",
    "y = np.random.rand(100)\n",
    "\n",
    "plt.scatter(x, y)\n",
    "plt.xlabel('x')\n",
    "plt.ylabel('y')\n",
    "plt.title('Gráfico de dispersión')\n",
    "plt.show()"
   ]
  },
  {
   "cell_type": "markdown",
   "metadata": {},
   "source": [
    "En esta celda, se crea un array 'data' con valores aleatorios siguiendo una distribución normal. Luego, se utiliza la biblioteca Matplotlib para trazar un histograma de 'data'. También se agrega etiquetas y un título al gráfico."
   ]
  },
  {
   "cell_type": "code",
   "execution_count": 17,
   "metadata": {},
   "outputs": [
    {
     "data": {
      "image/png": "[encoded data removed]",
      "text/plain": [
       "<Figure size 640x480 with 1 Axes>"
      ]
     },
     "metadata": {},
     "output_type": "display_data"
    }
   ],
   "source": [
    "data = np.random.normal(0, 1, 1000)\n",
    "\n",
    "plt.hist(data, bins=30)\n",
    "plt.xlabel('Valor')\n",
    "plt.ylabel('Frecuencia')\n",
    "plt.title('Histograma')\n",
    "plt.show()"
   ]
  },
  {
   "cell_type": "markdown",
   "metadata": {},
   "source": [
    "#### Mediana\n",
    "\n",
    "La función np.median() se utiliza para calcular la mediana de un array.\n",
    "Ejemplo de uso:"
   ]
  },
  {
   "cell_type": "code",
   "execution_count": 18,
   "metadata": {},
   "outputs": [
    {
     "name": "stdout",
     "output_type": "stream",
     "text": [
      "Mediana: 3.0\n"
     ]
    }
   ],
   "source": [
    "array = np.array([1, 2, 3, 4, 5])\n",
    "mediana = np.median(array)\n",
    "print(\"Mediana:\", mediana)"
   ]
  },
  {
   "cell_type": "markdown",
   "metadata": {},
   "source": [
    "#### Percentiles\n",
    "\n",
    "La función np.percentile() se utiliza para calcular los percentiles de un array.\n",
    "Ejemplo de uso:"
   ]
  },
  {
   "cell_type": "code",
   "execution_count": 19,
   "metadata": {},
   "outputs": [
    {
     "name": "stdout",
     "output_type": "stream",
     "text": [
      "Percentil 50: 3.0\n"
     ]
    }
   ],
   "source": [
    "array = np.array([1, 2, 3, 4, 5])\n",
    "percentil_50 = np.percentile(array, 50)\n",
    "print(\"Percentil 50:\", percentil_50)"
   ]
  },
  {
   "cell_type": "markdown",
   "metadata": {},
   "source": [
    "***APLICACIÓN DE PROBABILIDAD***\n",
    "\n",
    "Se Realiza el lanzamiento de un dado EQUILIBRADO JUSTO, de manera reiterada con las mismas condiciones, y se anotan sus resultados= CARA O CRUZ.\n",
    "\n",
    "Se le pide al usuario que defina la cantidad N de lanzamientos y se calcula su frecuencia relativa= 'PROBABILIDAD' de obtener cara o cruz. Se obtiene los siguientes resultados:"
   ]
  },
  {
   "cell_type": "code",
   "execution_count": 23,
   "metadata": {},
   "outputs": [
    {
     "name": "stdout",
     "output_type": "stream",
     "text": [
      "salio cruz\n",
      "[0.99412859]\n",
      "salio cruz\n",
      "[0.70510564]\n",
      "salio cruz\n",
      "[0.80525005]\n",
      "salio cara\n",
      "[0.49530632]\n"
     ]
    }
   ],
   "source": [
    "import numpy as np\n",
    "n=int(input('ingrese la cantidad de simulación o lanzamientos'))\n",
    "\n",
    "#========= FORMA 1 DE SIMULAR LANZAMIENTO DE UN DADO============\n",
    "dado=[]\n",
    "cara=0\n",
    "cruz=0\n",
    "for i in range(n):\n",
    "  dado.append(np.random.rand(1))\n",
    "  dado1=np.array(dado)\n",
    "  if dado1[i]<0.5:\n",
    "    print('salio cara')\n",
    "    print(dado[i])\n",
    "    cara +=1\n",
    "  else:\n",
    "    print('salio cruz')\n",
    "    print(dado[i])\n",
    "    cruz +=1"
   ]
  },
  {
   "cell_type": "code",
   "execution_count": 24,
   "metadata": {},
   "outputs": [
    {
     "name": "stdout",
     "output_type": "stream",
     "text": [
      "la probabilidad aproximada en 4 lanzamientos de sacar CARA es: 0.25\n",
      "la probabilidad aproximada en 4 lanzamientos de sacar CRUZ es: 0.75\n"
     ]
    }
   ],
   "source": [
    "#  mostrar la probailidad frecuencista de el lanzamiento de un dado\n",
    "prom_cara=cara/n\n",
    "prom_cruz=cruz/n\n",
    "print('la probabilidad aproximada en '+str(n)+' lanzamientos de sacar CARA es:', prom_cara)\n",
    "print('la probabilidad aproximada en '+str(n)+' lanzamientos de sacar CRUZ es:', prom_cruz)"
   ]
  },
  {
   "cell_type": "code",
   "execution_count": 25,
   "metadata": {},
   "outputs": [
    {
     "name": "stdout",
     "output_type": "stream",
     "text": [
      "Probabilidad de cara: 1.00\n",
      "Probabilidad de sello: 0.00\n"
     ]
    }
   ],
   "source": [
    "#========== FORMA COMPACTA DE SIMULAR USANDO NUMPY===========\n",
    "m=int(input('ingrese la cantidad de simulación o lanzamientos'))\n",
    "lanzamientos = np.random.randint(0, 2, m)\n",
    "\n",
    "# Calcular las probabilidades\n",
    "\n",
    "probabilidad_cara = np.sum(lanzamientos ==0 ) / len(lanzamientos)\n",
    "probabilidad_sello = np.sum(lanzamientos== 1) / len(lanzamientos)\n",
    "\n",
    "print(f\"Probabilidad de cara: {probabilidad_cara:.2f}\")\n",
    "print(f\"Probabilidad de sello: {probabilidad_sello:.2f}\")"
   ]
  },
  {
   "cell_type": "code",
   "execution_count": 27,
   "metadata": {},
   "outputs": [
    {
     "data": {
      "image/png": "[encoded data removed]",
      "text/plain": [
       "<Figure size 640x480 with 1 Axes>"
      ]
     },
     "metadata": {},
     "output_type": "display_data"
    }
   ],
   "source": [
    "import matplotlib.pyplot as plt\n",
    "x=np.array(range(2))\n",
    "y=np.array([probabilidad_cara, probabilidad_sello])\n",
    "\n",
    "plt.bar(x,y)\n",
    "plt.xlabel('Opción')\n",
    "plt.ylabel('Frecuencia relativa')\n",
    "plt.title('Histograma del lanzamiento de una moneda equilibrada')\n",
    "plt.show()"
   ]
  },
  {
   "cell_type": "markdown",
   "metadata": {},
   "source": [
    "# EJERCICIOS"
   ]
  },
  {
   "cell_type": "markdown",
   "metadata": {},
   "source": [
    "***EJERCICIO 1***\n",
    "\n",
    "Simular el lanzamiento de un dado eqilibrado de 6 caras.\n",
    "\n",
    "\n",
    "*   Mostrar la probabilida aproximada de obtener el número 2, 3 y 5\n",
    "*   Graficar el histograma de las probabilidades\n"
   ]
  },
  {
   "cell_type": "markdown",
   "metadata": {},
   "source": [
    "***EJERCICIO 2***\n",
    "\n",
    "Simular el lanzamiento de un dado NO eqilibrado o cargado de 6 caras, de manera que las chances o probabilidades de salir 1 o 2 sean el doble de obtener otro resultado (3,4,5 o 6)\n",
    "\n",
    "\n",
    "*   Mostrar la probabilida aproximada de obtener el número 2, 3 y 5\n",
    "*   Graficar el histograma de las probabilidades"
   ]
  },
  {
   "cell_type": "markdown",
   "metadata": {},
   "source": [
    "***EJERCICIO 3***\n",
    "\n",
    " Realizar la simulación del juego {piedra,papel , tijera} donde el resultado de esta simulación deberá ser lo que mi oponente elije. No debe considerarse la simulación de mi elección.\n",
    "\n",
    "\n",
    "\n",
    "*   Calcular la probailidad aproximada que mi oponente elija, 'piedra', 'papel', o 'tijera', en N jugadas.\n",
    "*   Realizar un grafico de barra mostrando estas probabilidad. Concluir algo sobre las probabilidades de estos resultados, cuando el número de jugadas se incrementa bastante.\n"
   ]
  },
  {
   "cell_type": "markdown",
   "metadata": {},
   "source": [
    "***EJERCICIO 4***\n",
    "\n",
    "Dada la base de datos de ventas diarias durante una semana, de un negocio con 4 productos.- VER EJERCICIO PARTE 2 PRACTICO N 2- Realizar el siguiente análisis de datos para poder obtener información y planificar una estrategia de ventas.\n",
    "\n",
    "\n",
    "1.   Calcular la media en la ventas por cada producto y la mediana. Plotear estos nuevos datos en un gráfico de barra.\n",
    "2.    Calcular la media en la ventas por DÍA y la mediana. Plotear estos nuevos datos en un gráfico de TRAZO DE LINEAS.\n",
    "3.   Realizar una conclusión en función las graficas y sugerir al menos 5 estrategias de venta o inversión de manera de potenciar este negocio.\n",
    "4.   Calcular el desvio estandar de los datos por cada producto y concluir para cada producto como es su rango de variabilidad en las ventas de los mismos.Plotear los datos de ventas de la semana de los productos con mayor y menor desvio estandar y evidenciar la variabilidad indicada en el parametro *'DESVIO ESTANDAR'*"
   ]
  },
  {
   "cell_type": "markdown",
   "metadata": {},
   "source": [
    "***EJERCICIO 5***\n",
    "\n",
    "Solicitar al usuario que ingrese la cantidad N de datos a cargar. Luego generar de manera aleatoria los siguientes datos:\n",
    "\n",
    "* SEXO= 'MASCULINO', 'FEMENINO','NO ESPECIFICA'\n",
    "* EDAD= entre 28 y 60 años\n",
    "* ALTURA= entre un rango de 165.0 mts hasta 210 mts\n",
    "* PESO= entre un rango de 50  y 110 kg\n",
    "* HORAS DE DESCANSO diario= un número decimal\n",
    "* HORAS DE TRABAJO/ ESTUDIO diario= un número decimal\n",
    "* HORAS DE EJERCICIOS diario= un número decimal\n",
    "\n",
    "REalizar las siguientes indicaciones y extraer concluisiones sobre la información y la pooblación muestreada.\n",
    "\n",
    "1.   Generar un array de dimensión 2 (matriz), con todos los datos ordenados, permitiendo visualizarlos como tabla.\n",
    "2.   Suponiendo que la distribución de probabilidad de los datos muestrados de las N personas, se distribuyen en forma NORMAL. Encontrar la media en los datos de altura, peso, y horas de descanso, trabajo y ejercicios.\n",
    "3.  Graficar la muestra o distribución de los datos  de pesos , y alturas en graficas separadas. Indicar el grado de variabilidad de sus datos\n",
    "4.  Plotear de manera conjunta y encontrar si presentan correlación los datos de peso vs altura,\n",
    "5. Plotear de manera conjunta los datos de horas de descanso, estudio y ejercicio"
   ]
  },
  {
   "cell_type": "markdown",
   "metadata": {},
   "source": [
    "***EJERCICIO 6***\n",
    "\n",
    "Se realiza una encuesta a N usuario donde se registran los siguientes datos.\n",
    "\n",
    "['DNI','GASTOS MENSUALES DE HOGAR','INGRESOS MENSUALES POR HOGAR', 'CANTIDAD DE MIEMBROS QUE VIVEN POR HOGAR','GASTO MENSUAL EN LINEA TELEFÓNICA', 'GASTO MENSUAL POR PAGO DE INTERNET' ]\n",
    "\n",
    "Realizar la simulación de la carga de datos utilizando la siguiente información adicional:\n",
    "\n",
    "\n",
    "1.   El 70 % de los encuestados son jóvenes entre 15 y 21 años, el 10% son mayores de 60 años. Sugerencia, utilizar esto para generar los DNI\n",
    "2.   Los encuestados son de la provincia de Cordoba. Además el 80 % de la población de esa provincia tiene un grupo familiar de 5 personas. Con ingresos mensuales promedio de $258.000\n",
    "2.   Cerca del 80 % de los encuestados Gastan el 90% de sus ingresos, el resto gasta el 80% de sus ingresos.Ayuda, para simular la cantidad de miembros utilizar la distribución normal.\n",
    "3.  Del gasto Total por hogar se sabe que se abona un 15 % en telefonía y un 7.8% en servicio de internet.\n",
    "\n",
    "Con la información proporcionada, realizar la simulación de las encuestas de 100 y 1000 personas.\n",
    "\n",
    "*   Calcular el valor medio y desvio estandar de los gastos mensuales, ingresos mensuales y pagos de servicios.\n",
    "*   Plotear los datos de los ingesos , y gastos en gráficos de barra por separado y evidenciar la media y desvio estandar.\n",
    "*   Calcular la proporciona de jóvenes menores a 21 encuestados. Mostrar sus datos de grupos familiares, gastos en servicios de internet y telefonía. Concluir algo en base a esta información.\n",
    "*   Realizar un histograma con el dato del grupo familiar, y concluir algo acerca de la distribución de probabilidad.\n"
   ]
  }
 ],
 "metadata": {
  "kernelspec": {
   "display_name": "Python 3",
   "language": "python",
   "name": "python3"
  },
  "language_info": {
   "codemirror_mode": {
    "name": "ipython",
    "version": 3
   },
   "file_extension": ".py",
   "mimetype": "text/x-python",
   "name": "python",
   "nbconvert_exporter": "python",
   "pygments_lexer": "ipython3",
   "version": "3.8.10"
  },
  "orig_nbformat": 4
 },
 "nbformat": 4,
 "nbformat_minor": 2
}
