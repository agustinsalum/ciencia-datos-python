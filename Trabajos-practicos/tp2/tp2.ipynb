{
 "cells": [
  {
   "cell_type": "markdown",
   "metadata": {},
   "source": [
    "# Introducción a NumPy\n",
    "\n",
    "Este Práctico proporciona una introducción básica a NumPy, destacando algunas de sus características clave y mostrando ejemplos de su uso. A continuación tendrán un resúmen de algunos comando y su implementación. Esto servirá de guia para desarrollar las actividades propuestas a continuación."
   ]
  },
  {
   "cell_type": "markdown",
   "metadata": {},
   "source": [
    "# Comparación entre uso de vectores de Python y NumPy\n",
    "\n",
    "A continuación se presentan varios aspectos para poder comparar la implementación de vectores a través del tipo de datos LISTA , comparado con la implementación de vectores con NumPy:"
   ]
  },
  {
   "cell_type": "markdown",
   "metadata": {},
   "source": [
    "#### 1- Creación de vectores\n",
    "\n",
    "En esta celda, se importa la biblioteca NumPy y se CREA UN VECTOR utilizando Python puro y NumPy. Luego, se imprime cada uno de los vectores."
   ]
  },
  {
   "cell_type": "code",
   "execution_count": 24,
   "metadata": {},
   "outputs": [
    {
     "name": "stdout",
     "output_type": "stream",
     "text": [
      "Requirement already satisfied: numpy in /home/agustin/.local/lib/python3.8/site-packages (1.24.4)\n",
      "Note: you may need to restart the kernel to use updated packages.\n"
     ]
    }
   ],
   "source": [
    "pip install numpy"
   ]
  },
  {
   "cell_type": "code",
   "execution_count": 25,
   "metadata": {},
   "outputs": [
    {
     "name": "stdout",
     "output_type": "stream",
     "text": [
      "Vector en Python puro: [1, 2, 3, 4, 5]\n",
      "Vector en NumPy: [1.  2.  3.5 4.  5. ]\n"
     ]
    }
   ],
   "source": [
    "import numpy as np\n",
    "\n",
    "vector_py = [1, 2, 3, 4, 5]\n",
    "vector_np = np.array([1, 2, 3.5, 4, 5])\n",
    "print(\"Vector en Python puro:\", vector_py)\n",
    "print(\"Vector en NumPy:\", vector_np)"
   ]
  },
  {
   "cell_type": "markdown",
   "metadata": {},
   "source": [
    "#### 2- Operaciones matemáticas\n",
    "\n",
    "En esta celda, se realizan operaciones matemáticas en un vector utilizando Python puro y NumPy. Luego, se imprime el resultado de cada operación."
   ]
  },
  {
   "cell_type": "code",
   "execution_count": 26,
   "metadata": {},
   "outputs": [
    {
     "data": {
      "text/plain": [
       "[1, 2, 3, 4, 5, 1, 2, 3, 4, 5]"
      ]
     },
     "execution_count": 26,
     "metadata": {},
     "output_type": "execute_result"
    }
   ],
   "source": [
    "vector_py = [1, 2, 3, 4, 5]\n",
    "vector_np = np.array([1, 2, 3, 4, 5])\n",
    "suma_py = [x + 2 for x in vector_py]\n",
    "suma_np = vector_np *2\n",
    "#print(\"Suma en Python puro:\", suma_py)\n",
    "#print(\"Suma en NumPy:\", suma_np)\n",
    "vector_py*2"
   ]
  },
  {
   "cell_type": "markdown",
   "metadata": {},
   "source": [
    "#### 3- Indexado y segmentación\n",
    "\n",
    "En esta celda, se realiza el indexado y segmentación en un vector utilizando Python puro y NumPy. Luego, se imprime el resultado de cada operación."
   ]
  },
  {
   "cell_type": "code",
   "execution_count": 27,
   "metadata": {},
   "outputs": [
    {
     "name": "stdout",
     "output_type": "stream",
     "text": [
      "Segmento en Python puro: [2, 3, 4]\n",
      "Segmento en NumPy: [2 3 4]\n"
     ]
    }
   ],
   "source": [
    "vector_py = [1, 2, 3, 4, 5]\n",
    "vector_np = np.array([1, 2, 3, 4, 5])\n",
    "segmento_py = vector_py[1:4]\n",
    "segmento_np = vector_np[1:4]\n",
    "print(\"Segmento en Python puro:\", segmento_py)\n",
    "print(\"Segmento en NumPy:\", segmento_np)"
   ]
  },
  {
   "cell_type": "markdown",
   "metadata": {},
   "source": [
    "## Operaciones entre vectores y funciones sobre vectores\n",
    "\n",
    "A continuación se presentan algunos ejemplos de operaciones básicas entre vectores utilizando NumPy:"
   ]
  },
  {
   "cell_type": "markdown",
   "metadata": {},
   "source": [
    "#### Suma de vectores\n",
    "\n",
    "En esta celda, se crea un vector 'vector_a' y un vector 'vector_b', y se realiza la suma de ambos vectores utilizando NumPy. Luego, se imprime el resultado."
   ]
  },
  {
   "cell_type": "code",
   "execution_count": 28,
   "metadata": {},
   "outputs": [
    {
     "name": "stdout",
     "output_type": "stream",
     "text": [
      "Suma de vectores: [5 7 9]\n"
     ]
    }
   ],
   "source": [
    "vector_a = np.array([1, 2, 3])\n",
    "vector_b = np.array([4, 5, 6])\n",
    "suma_vector = vector_a + vector_b\n",
    "print(\"Suma de vectores:\", suma_vector)"
   ]
  },
  {
   "cell_type": "markdown",
   "metadata": {},
   "source": [
    "# ***EJERCICIOS PARTE 1***\n",
    "***EJERCICIO 1:***\n",
    "\n",
    "Dada la siguiente tabla (matriz) de datos, donde cada fila representa la cantidad que se vendio en referencia a un solo producto durante toda la semana; mientras que cada columna representa la venta total en un dia de la semana.Obtener la siguiente información detallada:\n",
    "\n",
    "* Importe total de la venta por cada dia de la semana\n",
    "* Importe total de la venta por cada producto en la semana\n",
    "* Importe total de la venta en toda la semana"
   ]
  },
  {
   "cell_type": "code",
   "execution_count": 29,
   "metadata": {},
   "outputs": [
    {
     "name": "stdout",
     "output_type": "stream",
     "text": [
      "Matriz de ventas diarias: [[20 15 25 30 18 22 24]\n",
      " [12 20 14  8 15 18 16]\n",
      " [35 28 32 30 26 24 30]\n",
      " [40 38 45 42 39 41 37]]\n",
      "15\n",
      "20\n",
      "28\n",
      "38\n",
      "la suma total del lunes es: 101\n",
      "Importe total de la venta por día de la semana: [107 101 116 110  98 105 107]\n",
      "\n",
      "Importe total de la venta por producto en la semana:\n",
      "[154 103 205 282]\n",
      "\n",
      "Importe total de la venta en toda la semana: 744\n"
     ]
    }
   ],
   "source": [
    "import numpy as np\n",
    "\n",
    "\n",
    "# Datos de ventas diarias de 4 productos durante una semana\n",
    "\n",
    "ventas_diarias = np.array(\n",
    "    #Lun,Mar,Mie,Jue,Vie,Sab,Dom\n",
    "    [[20, 15, 25, 30, 18, 22, 24],  #Producto A\n",
    "    [12, 20, 14, 8, 15, 18, 16],    #Producto B\n",
    "    [35, 28, 32, 30, 26, 24, 30],   #Producto C\n",
    "    [40, 38, 45, 42, 39, 41, 37]    #Producto D\n",
    "    ]\n",
    ")\n",
    "\n",
    "print(\"Matriz de ventas diarias:\",ventas_diarias)\n",
    "\n",
    "#==== FORMAS DE RECORRER UNA MATRIZ FIJADA LA COLUMNA J=1\n",
    "#    Calcula la suma total del dia lunes\n",
    "suma=0\n",
    "for i in range(4):\n",
    "  print(ventas_diarias[i,1])\n",
    "  suma=suma+ventas_diarias[i,1]\n",
    "print('la suma total del lunes es:', suma)\n",
    "\n",
    "#===== IMPLEMENTACIÓN DE UN MÉTODO DE NUMPY\n",
    "# Sumar las ventas por día (sumar las columnas)\n",
    "ventas_por_dia = np.sum(ventas_diarias, axis=0)\n",
    "print(\"Importe total de la venta por día de la semana:\",ventas_por_dia)\n",
    "\n",
    "# b) Importe total de la venta por cada producto en la semana\n",
    "importe_por_producto = np.sum(ventas_diarias, axis=1)\n",
    "print(\"\\nImporte total de la venta por producto en la semana:\")\n",
    "print(importe_por_producto)\n",
    "\n",
    "# c) Importe total de la venta en toda la semana\n",
    "importe_total_semana = np.sum(ventas_diarias)\n",
    "print(\"\\nImporte total de la venta en toda la semana:\", importe_total_semana)"
   ]
  },
  {
   "cell_type": "markdown",
   "metadata": {},
   "source": [
    "**EJERCICIO 2:**\n",
    "\n",
    "Crear un programa donde se le pida al usuario que ingrese la cantidad de elementos de una lista de números reales positivos. Luego Convertir esa lista en un vector de Numpy."
   ]
  },
  {
   "cell_type": "code",
   "execution_count": 30,
   "metadata": {},
   "outputs": [
    {
     "ename": "ValueError",
     "evalue": "invalid literal for int() with base 10: ''",
     "output_type": "error",
     "traceback": [
      "\u001b[0;31m---------------------------------------------------------------------------\u001b[0m",
      "\u001b[0;31mValueError\u001b[0m                                Traceback (most recent call last)",
      "Cell \u001b[0;32mIn[30], line 1\u001b[0m\n\u001b[0;32m----> 1\u001b[0m cantidad \u001b[39m=\u001b[39m \u001b[39mint\u001b[39;49m(\u001b[39minput\u001b[39;49m(\u001b[39m\"\u001b[39;49m\u001b[39mIngrese la cantidad de elementos de la lista: \u001b[39;49m\u001b[39m\"\u001b[39;49m))\n\u001b[1;32m      2\u001b[0m \u001b[39mwhile\u001b[39;00m (cantidad \u001b[39m<\u001b[39m\u001b[39m=\u001b[39m \u001b[39m0\u001b[39m):\n\u001b[1;32m      3\u001b[0m     \u001b[39mprint\u001b[39m(\u001b[39m\"\u001b[39m\u001b[39mIngrese un número positivo mayor que cero.\u001b[39m\u001b[39m\"\u001b[39m)\n",
      "\u001b[0;31mValueError\u001b[0m: invalid literal for int() with base 10: ''"
     ]
    }
   ],
   "source": [
    "cantidad = int(input(\"Ingrese la cantidad de elementos de la lista: \"))\n",
    "while (cantidad <= 0):\n",
    "    print(\"Ingrese un número positivo mayor que cero.\")\n",
    "    cantidad = int(input(\"Ingrese la cantidad de elementos de la lista: \"))\n",
    "lista = []\n",
    "for i in range(cantidad):\n",
    "    numero = float(input(f\"Ingrese el número {i + 1}: \"))\n",
    "    if numero < 0:\n",
    "        print(\"Ingrese un número real positivo.\")\n",
    "    else:\n",
    "         lista.append(numero)\n",
    "vector = np.array(lista)\n",
    "print(\"Lista ingresada:\", lista)\n",
    "print(\"Vector NumPy:\", vector)\n"
   ]
  },
  {
   "cell_type": "markdown",
   "metadata": {},
   "source": [
    "**Ejercicio 3:**\n",
    "\n",
    "Crear un programa donde el usuario ingrese la cantidad de filas y columnas que tendra una tabla de datos. Luego el programa pedira ingresar los datos de la tabla fila por fila. Todos los datos serán numéricos.\n",
    "\n",
    "Mostrar la tabla ingresada en formato LISTA de Python, y mostrar la misma tabla en formato array de Numpy.\n",
    "\n",
    "Solicitar al usuario que ingrese las posiciones de dos filas y realice la suma de las mismas. Mostrar este vector resultado."
   ]
  },
  {
   "cell_type": "code",
   "execution_count": null,
   "metadata": {},
   "outputs": [
    {
     "name": "stdout",
     "output_type": "stream",
     "text": [
      "Tabla en formato de lista de Python:\n",
      "[1.0, 2.0, 3.0]\n",
      "[4.0, 5.0, 6.0]\n",
      "[7.0, 8.0, 9.0]\n",
      "Tabla en formato de array de NumPy:\n",
      "[[1. 2. 3.]\n",
      " [4. 5. 6.]\n",
      " [7. 8. 9.]]\n",
      "sumamos [1. 2. 3.] + [4. 5. 6.]\n",
      "Resultado de la suma de las filas: [5. 7. 9.]\n"
     ]
    }
   ],
   "source": [
    "# Obtener el número de filas y columnas de la tabla\n",
    "num_filas = int(input(\"Ingrese la cantidad de filas: \"))\n",
    "num_columnas = int(input(\"Ingrese la cantidad de columnas: \"))\n",
    "\n",
    "# Inicializar la tabla como una lista de listas\n",
    "tabla = []\n",
    "for _ in range(num_filas):\n",
    "    fila = []\n",
    "    for _ in range(num_columnas):\n",
    "        valor = float(input(\"Ingrese un valor numérico: \"))\n",
    "        fila.append(valor)\n",
    "    tabla.append(fila)\n",
    "\n",
    "# Mostrar la tabla en formato de lista de Python\n",
    "print(\"Tabla en formato de lista de Python:\")\n",
    "for fila in tabla:\n",
    "    print(fila)\n",
    "\n",
    "# Crear un array de NumPy a partir de la tabla\n",
    "tabla_np = np.array(tabla)\n",
    "\n",
    "# Mostrar la tabla en formato de array de NumPy\n",
    "print(\"Tabla en formato de array de NumPy:\")\n",
    "print(tabla_np)\n",
    "\n",
    "# Solicitar las posiciones de las filas para la suma\n",
    "fila1 = int(input(\"Ingrese la posición de la primera fila: \"))\n",
    "fila2 = int(input(\"Ingrese la posición de la segunda fila: \"))\n",
    "\n",
    "# Realizar la suma de las filas y mostrar el vector resultado\n",
    "print (f\"sumamos {tabla_np[fila1]} + {tabla_np[fila2]}\")\n",
    "suma_filas = tabla_np[fila1] + tabla_np[fila2]\n",
    "print(f\"Resultado de la suma de las filas: {suma_filas}\")"
   ]
  },
  {
   "cell_type": "markdown",
   "metadata": {},
   "source": [
    "**Ejercicio 4:**\n",
    "\n",
    "A continuación se muestran los valores de los siguientes productos:\n",
    "\n",
    "['arroz', 'harina','fideo','yerba','azucar']=[145.6 , 100 , 89.90 , 700 , 95]\n",
    "\n",
    "Los valores de estos productos son aproximados de hace dos meses, debido a la inflación y alza de los precios, se vieron afectados de la siguiente manera:\n",
    "\n",
    "* Producto arroz , harina, azucar duplicaron su precio\n",
    "* Productos restantes incrementaron en un 75% su precio\n",
    "\n",
    "Mostrar los datos en forma de vector y actualizar sus precios, de manera que se pueda comparar ambos vectores."
   ]
  },
  {
   "cell_type": "code",
   "execution_count": null,
   "metadata": {},
   "outputs": [
    {
     "name": "stdout",
     "output_type": "stream",
     "text": [
      "Valores Iniciales:\n",
      "[145.6 100.   89.9 700.   95. ]\n",
      "\n",
      "Valores Actualizados:\n",
      "[ 291.2   200.    179.8  1225.    166.25]\n"
     ]
    }
   ],
   "source": [
    "# Definir los productos y sus valores iniciales\n",
    "productos = ['arroz', 'harina', 'fideo', 'yerba', 'azucar']\n",
    "valores_iniciales = np.array([145.6, 100, 89.90, 700, 95])\n",
    "\n",
    "# Aplicar modificaciones a los valores\n",
    "valores_actualizados = np.copy(valores_iniciales)\n",
    "valores_actualizados[0:3] *= 2  # Duplicar el precio de arroz, harina y azucar\n",
    "valores_actualizados[3:] *= 1.75  # Incrementar en un 75% el precio de los otros productos\n",
    "\n",
    "# Mostrar los datos en forma de vectores\n",
    "print(\"Valores Iniciales:\")\n",
    "print(valores_iniciales)\n",
    "\n",
    "print(\"\\nValores Actualizados:\")\n",
    "print(valores_actualizados)"
   ]
  },
  {
   "cell_type": "markdown",
   "metadata": {},
   "source": [
    "***EJERCICIO 5***\n",
    "\n",
    "Completar la siguiente tabla de comandos y funciones que se utilizarán sobre vectores definidos a través de Numpy\n",
    "\n",
    "|    | Comando | operación y funcionalidad |resultado | ejemplo |\n",
    "|---|    ---   |               ---         |    ---   |    ---  |\n",
    "1   | np.array([lista])|     crea un vector o table con Numpy  |  matriz   |np.array([1.6, 2, 0, 6.75])\n",
    "2   |np.sqrt(vector)|       Calcula la raíz cuadrada de cada elemento en el vector utilizando la biblioteca Numpy   |   Vector NumPy con las raíces cuadradas de los elementos originales |  np.sqrt(vector_np)\n",
    "3   |np.random.rand(n)|     Genera un vector de longitud 'n' con valores aleatorios en el rango [0, 1) utilizando la biblioteca Numpy   |   Vector NumPy con valores aleatorios en el intervalo [0, 1). | np.random.rand(5)\n",
    "4   |np.ones((n))|          Crea una matriz de forma '(n)' con todos los elementos iguales a 1 utilizando la biblioteca Numpy   |  Matriz NumPy con todos los elementos iguales a 1 | np.ones((3))\n",
    "5   |np.zeros((n))|         Crea una matriz de forma '(n)' con todos los elementos iguales a 0 utilizando la biblioteca Numpy   |   Matriz NumPy con todos los elementos iguales a 0 | np.zeros((3))\n",
    "6   | np.min(array)|        Encuentra el valor mínimo en un array utilizando la biblioteca Numpy   |valor mínimo| np.min(vector_np)\n",
    "7   | np.max(array)|        Encuentra el valor máximo en un array utilizando la biblioteca Numpy   |valor máximo| np.max(vector_np)\n",
    "8   | np.where(CONDICIÓN SOBRE EL VECTOR)| Encuentra los índices donde se cumple una condición sobre un vector utilizando la biblioteca Numpy | Tupla de arrays con los índices donde se cumple la condición |np.where(vector_np>1)\n",
    "9   |np.random.shuffle(MATRIZ)|   Permuta aleatoriamente las filas de una matriz utilizando la biblioteca Numpy  | La matriz original con sus filas reordenadas de forma aleatoria | np.array([[1, 2, 3], [4, 5, 6], [7, 8, 9]])\n",
    "10  |array.shape[n], n=0,1 |   Accede a las dimensiones de una matriz o array utilizando el atributo 'shape' de la biblioteca Numpy   | Tamaño de la matriz o array en la dimensión especificada por 'n' | mi_matriz.shape[0]\n",
    "11  |np.sum(array, axis=n), n=0,1|  Calcula la suma de los elementos de un array a lo largo del eje especificado utilizando la biblioteca Numpy | Suma de los elementos del array a lo largo del eje indicado por 'n' | np.sum(mi_matriz, axis=1)\n",
    "12  |np.arange(a, b, p)|  Genera un array con valores espaciados uniformemente desde 'a' hasta 'b' (exclusivo), con un paso 'p', utilizando la biblioteca Numpy  | Array NumPy con los valores generados |np.arange(0, 10, 0.1)"
   ]
  },
  {
   "cell_type": "markdown",
   "metadata": {},
   "source": [
    "# Funciones matemáticas sobre vectores\n",
    "\n",
    "En esta sección, se aplican funciones matemáticas a un vector utilizando Python puro y NumPy. Luego, se imprime el resultado de cada función.\n",
    "\n",
    "ACLARACIÓN: Estas funciones utilizan funciones y operaciones elementales matemáticas, sobre cada una de las posiciones del vector. Pero en general, se pueden definir funciones matemáticas que relacionan diferentes posiciones de un vector."
   ]
  },
  {
   "cell_type": "code",
   "execution_count": null,
   "metadata": {},
   "outputs": [
    {
     "name": "stdout",
     "output_type": "stream",
     "text": [
      "Raíz cuadrada en Python puro: [1.0, 1.4142135623730951, 1.7320508075688772, 2.0, 2.23606797749979]\n",
      "Raíz cuadrada en NumPy: [1.         1.41421356 1.73205081 2.         2.23606798]\n",
      "Vector al cuadrado en Python:  [1, 4, 9, 16, 25]\n",
      "logaritmo de un Vector en Python:  [0.0, 0.6931471805599453, 1.0986122886681098, 1.3862943611198906, 1.6094379124341003]\n",
      "logaritmo de un Vector en Numpy:  [0.         0.69314718 1.09861229 1.38629436 1.60943791]\n"
     ]
    }
   ],
   "source": [
    "import math\n",
    "\n",
    "vector_py = [1, 2, 3, 4, 5]\n",
    "vector_np = np.array([1, 2, 3, 4, 5])\n",
    "raiz_cuadrada_py = [math.sqrt(x) for x in vector_py]\n",
    "vector_cuad=[(x**2) for x in vector_np]\n",
    "vector_log=[math.log(x) for x in vector_np]\n",
    "raiz_cuadrada_np = np.sqrt(vector_np)\n",
    "vector_npLog=np.log(vector_np)\n",
    "print(\"Raíz cuadrada en Python puro:\", raiz_cuadrada_py)\n",
    "print(\"Raíz cuadrada en NumPy:\", raiz_cuadrada_np)\n",
    "print('Vector al cuadrado en Python: ',vector_cuad)\n",
    "print('logaritmo de un Vector en Python: ',vector_log)\n",
    "print('logaritmo de un Vector en Numpy: ',vector_npLog)"
   ]
  },
  {
   "cell_type": "markdown",
   "metadata": {},
   "source": [
    "####  Rendimiento\n",
    "\n",
    "En esta celda, se mide el rendimiento de operaciones en un vector utilizando Python puro y NumPy. Se imprime el tiempo de ejecución de cada operación."
   ]
  },
  {
   "cell_type": "code",
   "execution_count": null,
   "metadata": {},
   "outputs": [
    {
     "name": "stdout",
     "output_type": "stream",
     "text": [
      "Tiempo en Python puro: 0.05768895149230957 segundos\n",
      "Tiempo en NumPy: 1.2874603271484375e-05 segundos\n"
     ]
    }
   ],
   "source": [
    "import time\n",
    "vector_py = [i for i in range(1000000)]\n",
    "vector_np = np.arange(1000000)\n",
    "\n",
    "start_time = time.time()\n",
    "[x * 2 for x in vector_py]\n",
    "end_time = time.time()\n",
    "print(\"Tiempo en Python puro:\", end_time - start_time, \"segundos\")\n",
    "\n",
    "start_time = time.time()\n",
    "end_time = time.time()\n",
    "print(\"Tiempo en NumPy:\", end_time - start_time, \"segundos\")"
   ]
  },
  {
   "cell_type": "markdown",
   "metadata": {},
   "source": [
    "## Redimensionar un NumPy\n",
    "\n",
    "A continuación se presentan dos ejemplos de redimensionamiento de un NumPy:"
   ]
  },
  {
   "cell_type": "markdown",
   "metadata": {},
   "source": [
    "#### Redimensionamiento 1\n",
    "\n",
    "En esta celda, se crea un NumPy 'array' y se utiliza la función reshape() de NumPy para redimensionarlo a una forma diferente. Luego, se imprime el nuevo array."
   ]
  },
  {
   "cell_type": "code",
   "execution_count": 31,
   "metadata": {},
   "outputs": [
    {
     "name": "stdout",
     "output_type": "stream",
     "text": [
      "Nuevo array redimensionado: [[1 2 3]\n",
      " [4 5 6]]\n"
     ]
    }
   ],
   "source": [
    "array = np.array([1, 2, 3, 4, 5, 6])\n",
    "nuevo_array = array.reshape((2, 3))\n",
    "print(\"Nuevo array redimensionado:\", nuevo_array)"
   ]
  },
  {
   "cell_type": "markdown",
   "metadata": {},
   "source": [
    "#### Redimensionamiento 2\n",
    "\n",
    "En esta celda, se crea un NumPy 'array' y se utiliza la función np.resize() de NumPy para redimensionarlo a una forma diferente. Luego, se imprime el nuevo array."
   ]
  },
  {
   "cell_type": "code",
   "execution_count": 32,
   "metadata": {},
   "outputs": [
    {
     "name": "stdout",
     "output_type": "stream",
     "text": [
      "Nuevo array redimensionado: [[1 2 3]\n",
      " [4 5 6]\n",
      " [1 2 3]]\n"
     ]
    }
   ],
   "source": [
    "array = np.array([1, 2, 3, 4, 5, 6])\n",
    "nuevo_array = np.resize(array, (3, 3))\n",
    "print(\"Nuevo array redimensionado:\", nuevo_array)"
   ]
  },
  {
   "cell_type": "markdown",
   "metadata": {},
   "source": [
    "# ***EJERCICIOS PARTE 2***\n",
    "\n",
    "**Ejercicio 1:**\n",
    "\n",
    "Dado una matriz de datos, dividir el 70% de filas en un array_entrenamiento y el otro 30% en otro array_testeo. Esta distribución de filas de la matriz inicial, debe ser aleatoria. Mostrar las matrices al ser modificadas por el comando np.random.shuffle('matriz'). Finalmente mostrar los array_entrenamiento y array_testeo."
   ]
  },
  {
   "cell_type": "code",
   "execution_count": 42,
   "metadata": {},
   "outputs": [
    {
     "name": "stdout",
     "output_type": "stream",
     "text": [
      "[[ 35   2   4 130   1]\n",
      " [ 30   2   5 120   0]\n",
      " [ 26   1   8  95   1]\n",
      " [ 32   2   6 110   1]\n",
      " [ 25   1   7 100   1]\n",
      " [ 31   2   6 105   0]\n",
      " [ 28   1   6  90   0]\n",
      " [ 22   1   6  80   1]\n",
      " [ 29   2   7 115   1]\n",
      " [ 24   1   5  85   0]]\n",
      "7\n",
      "Matriz original después de ser mezclada:\n",
      " [[ 35   2   4 130   1]\n",
      " [ 30   2   5 120   0]\n",
      " [ 26   1   8  95   1]\n",
      " [ 32   2   6 110   1]\n",
      " [ 25   1   7 100   1]\n",
      " [ 31   2   6 105   0]\n",
      " [ 28   1   6  90   0]\n",
      " [ 22   1   6  80   1]\n",
      " [ 29   2   7 115   1]\n",
      " [ 24   1   5  85   0]]\n",
      "\n",
      "Conjunto de entrenamiento:\n",
      " [[ 35   2   4 130   1]\n",
      " [ 30   2   5 120   0]\n",
      " [ 26   1   8  95   1]\n",
      " [ 32   2   6 110   1]\n",
      " [ 25   1   7 100   1]\n",
      " [ 31   2   6 105   0]\n",
      " [ 28   1   6  90   0]]\n",
      "\n",
      "Conjunto de prueba:\n",
      " [[ 22   1   6  80   1]\n",
      " [ 29   2   7 115   1]\n",
      " [ 24   1   5  85   0]]\n"
     ]
    }
   ],
   "source": [
    "dataset = np.array([[25, 1, 7, 100, 1],\n",
    "                    [30, 2, 5, 120, 0],\n",
    "                    [22, 1, 6, 80, 1],\n",
    "                    [28, 1, 6, 90, 0],\n",
    "                    [35, 2, 4, 130, 1],\n",
    "                    [32, 2, 6, 110, 1],\n",
    "                    [26, 1, 8, 95, 1],\n",
    "                    [24, 1, 5, 85, 0],\n",
    "                    [29, 2, 7, 115, 1],\n",
    "                    [31, 2, 6, 105, 0]])\n",
    "\n",
    "# Mezclar las filas de la matriz para obtener una distribución aleatoria de los datos\n",
    "np.random.shuffle(dataset)\n",
    "print( dataset)\n",
    "\n",
    "# Calcular el índice para dividir los datos en entrenamiento y prueba\n",
    "total_filas = dataset.shape[0]\n",
    "indice_division = int(0.7 * total_filas)\n",
    "print (indice_division)\n",
    "\n",
    "# Dividir los datos en conjunto de entrenamiento y conjunto de prueba\n",
    "array_entrenamiento = dataset[:indice_division]\n",
    "array_testeo = dataset[indice_division:]\n",
    "\n",
    "# Mostrar la matriz original después de ser mezclada\n",
    "print(\"Matriz original después de ser mezclada:\\n\", dataset)\n",
    "\n",
    "# Mostrar los conjuntos de entrenamiento y prueba\n",
    "print(\"\\nConjunto de entrenamiento:\\n\", array_entrenamiento)\n",
    "print(\"\\nConjunto de prueba:\\n\", array_testeo)"
   ]
  },
  {
   "cell_type": "markdown",
   "metadata": {},
   "source": [
    "**Ejercicio 2:**\n",
    "\n",
    "Dado la siguiente tabla de datos poblaciones de las Provincias de Argentina (Ejercicio 10 del Práctico 1), Realizar el siguiente analisis.\n",
    "\n",
    "* indicar la cantidad de filas y columnas que posee la tabla de datos.\n",
    "* Mostrar toda la información de la provincia con Mayor Cantidad de habitantes. AYUDA: usar la función np.max(array)\n",
    "* Agregar a la tabla de datos una fila al final , indicando los totales de cada columna. Mostrar el resultado de la nueva tabla."
   ]
  },
  {
   "cell_type": "code",
   "execution_count": 64,
   "metadata": {},
   "outputs": [
    {
     "name": "stdout",
     "output_type": "stream",
     "text": [
      "Cantidad de filas: 25\n",
      "Cantidad de columnas: 4\n",
      "['17569053', '3978984', '3556522', '3120612', '2014533', '1703186', '1440672', '1426426', '1280960', '1197553', '1142963', '1054028', '818234', '797955', '762067', '726590', '606041', '603120', '540905', '429556', '384607', '366022', '333473', '190641']\n"
     ]
    },
    {
     "ename": "IndexError",
     "evalue": "too many indices for array: array is 1-dimensional, but 2 were indexed",
     "output_type": "error",
     "traceback": [
      "\u001b[0;31m---------------------------------------------------------------------------\u001b[0m",
      "\u001b[0;31mIndexError\u001b[0m                                Traceback (most recent call last)",
      "Cell \u001b[0;32mIn[64], line 47\u001b[0m\n\u001b[1;32m     45\u001b[0m poblacionArgentina \u001b[39m=\u001b[39m np\u001b[39m.\u001b[39marray(habitantes_str, dtype\u001b[39m=\u001b[39m\u001b[39mint\u001b[39m)\n\u001b[1;32m     46\u001b[0m \u001b[39m# Encontrar el índice de la provincia con la mayor cantidad de habitantes\u001b[39;00m\n\u001b[0;32m---> 47\u001b[0m indice_max_habitantes \u001b[39m=\u001b[39m np\u001b[39m.\u001b[39margmax(poblacionArgentina[\u001b[39m1\u001b[39;49m:, \u001b[39m1\u001b[39;49m]) \u001b[39m+\u001b[39m \u001b[39m1\u001b[39m\n\u001b[1;32m     49\u001b[0m \u001b[39m# Obtener la información completa de la provincia con la mayor cantidad de habitantes\u001b[39;00m\n\u001b[1;32m     50\u001b[0m \u001b[39mprint\u001b[39m(poblacionArgentina[indice_max_habitantes])\n",
      "\u001b[0;31mIndexError\u001b[0m: too many indices for array: array is 1-dimensional, but 2 were indexed"
     ]
    }
   ],
   "source": [
    "\n",
    "poblacionArgentina1=[\n",
    "    ['PROVINCIA','CANTIDAD DE HABITANTES','CONSUMO EN MWH','SUPERFICIE EN KM^2'],\n",
    "    ['Buenos Aires','17.569.053',' 16543722',' 305907'],\n",
    "    ['Córdoba','3.978.984',' 10606601','164708'],\n",
    "    ['Santa Fe','3.556.522',' 13078203',' 133249'],\n",
    "    ['Ciudad Autónoma de Buenos Aires','3.120.612','51712507',' 201'],\n",
    "    ['Mendoza','2.014.533',' 5652519',' 149069'],\n",
    "    ['Tucumán','1.703.186','3208711','22.524'],\n",
    "    ['Salta','1.440.672',' 2214796',' 155341'],\n",
    "    ['Entre Ríos','1.426.426','3906353','78384'],\n",
    "    ['Misiones','1.280.960','2845762',' 29911'],\n",
    "    ['Corrientes','1.197.553','2997612',' 89123'],\n",
    "    ['Chaco','1.142.963','3045380',' 99763'],\n",
    "    ['Santiago del Estero','1.054.028',' 1811277',' 136934'],\n",
    "    ['San Juan','818.234',' 2381940',' 88296'],\n",
    "   ['Jujuy','797.955',' 1136336',' 53244'],\n",
    "   ['Río Negro','762.067',' 1984782','202169'],\n",
    "   ['Neuquén','726.590','1834879',' 94422'],\n",
    "   ['Formosa','606.041',' 1388311','75488'],\n",
    "   ['Chubut','603.120','1646029',' 224302'],\n",
    "   ['San Luis','540.905',' 1780881','75347'],\n",
    "   ['Catamarca','429.556',' 1337032','101486'],\n",
    "   ['La Rioja','384.607','1572290',' 91494'],\n",
    "   ['La Pampa','366.022','915781',' 143493'],\n",
    "   ['Santa Cruz','333.473',' 1025648',' 244458'],\n",
    "   ['Tierra del Fuego, Antártida e Islas del Atlántico Sur','190.641',' s/d ',' 37131']]\n",
    "\n",
    "poblacionArgentina = np.array(poblacionArgentina1)\n",
    "\n",
    "#print(poblacionArgentina)\n",
    "\n",
    "# 1. Cantidad de filas y columnas\n",
    "num_filas, num_columnas = poblacionArgentina.shape\n",
    "print(\"Cantidad de filas:\", num_filas)\n",
    "print(\"Cantidad de columnas:\", num_columnas)\n",
    "\n",
    "# 2. Encontrar la provincia con mayor cantidad de habitantes\n",
    "\n",
    "# Convertir los valores numéricos a tipos de datos adecuados (en este caso, enteros)\n",
    "poblacionArgentina[1:, 1] = [int(habitantes.replace('.', '')) for habitantes in poblacionArgentina[1:, 1]]\n",
    "# Extraer los valores de cantidad de habitantes como una lista\n",
    "habitantes_str = [row[1] for row in poblacionArgentina[1:]]\n",
    "print (habitantes_str)\n",
    "# Convertir los valores de string a números en un nuevo array\n",
    "poblacionArgentina = np.array(habitantes_str, dtype=int)\n",
    "# Encontrar el índice de la provincia con la mayor cantidad de habitantes\n",
    "indice_max_habitantes = np.argmax(poblacionArgentina[1:, 1]) + 1\n",
    "\n",
    "# Obtener la información completa de la provincia con la mayor cantidad de habitantes\n",
    "print(poblacionArgentina[indice_max_habitantes])\n"
   ]
  }
 ],
 "metadata": {
  "kernelspec": {
   "display_name": "Python 3",
   "language": "python",
   "name": "python3"
  },
  "language_info": {
   "codemirror_mode": {
    "name": "ipython",
    "version": 3
   },
   "file_extension": ".py",
   "mimetype": "text/x-python",
   "name": "python",
   "nbconvert_exporter": "python",
   "pygments_lexer": "ipython3",
   "version": "3.8.10"
  },
  "orig_nbformat": 4
 },
 "nbformat": 4,
 "nbformat_minor": 2
}
